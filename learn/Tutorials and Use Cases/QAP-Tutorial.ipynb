{
 "cells": [
  {
   "cell_type": "markdown",
   "metadata": {},
   "source": [
    "Quadratic Assignment Problem\n",
    "================================\n",
    "\n",
    "The quadratic assignment problem was first introduced in 1957 by Koopmans and Beckmann to solve facility location problems which call for minimizing the cost proportional to the flow of goods between the facilities. This is a well studied problem.\n",
    "\n",
    "QAP seeks to mimimize a cost function based on fixed quantities (weights) between pairs of one set, $P$, and distances between pairs of another set $L$ when each member of $L$ is assigned to one member of $P$."
   ]
  },
  {
   "cell_type": "markdown",
   "metadata": {},
   "source": [
    "Simple Example\n",
    "-----------------\n",
    "\n",
    "This first example is a synthetic problem with a five facilities and five locations. The first consideration is the planned flow between the facilities. The table below shows the quantity of material planned to be moved from one facility to the other. Facility 1 sends to facilities 2, 3 and 5. Facilites 2 and 3 send to facilities 4 and 5. Facility 4 doesn't send to any other faciilty and facility 5 sends one unit to facility 4.\n",
    "\n",
    "| Source Facility / Destination Facility | Facility 1 | Facility 2 | Faclity 3 | Facility 4 | Facility 5 |\n",
    "|---|---|---|---|---|---|\n",
    "| **Facility 1**| | 5 | 8 |  | 1 |\n",
    "| **Facility 2** | | | | 10 | 15 |\n",
    "| **Facility 3** | | | | 13 | 18 |\n",
    "| **Facility 4** | | | | | |\n",
    "| **Facility 5** | | | | 1 | |\n",
    "\n",
    "The second consideration is the distance between locations. The distances in this example are symmetric.\n",
    "\n",
    "| Distances | Location 1 | Location 2 | Location 3 | Location 4 | Location 5 |\n",
    "|---|---|---|---|---|---|\n",
    "| **Location 1** | 0 | 8.54 | 6.4 | 10 | 8.94 |\n",
    "| **Location 2** | 8.54 | 0 | 4.47 | 5.39 | 6.49 |\n",
    "| **Location 3** | 6.4 | 4.47 | 0 | 3.61 | 3 |\n",
    "| **Location 4** | 10 | 5.39 | 3.61 | 0 | 2 |\n",
    "| **Location 5** | 8.94 | 6.49 | 3 | 2 | 0 |\n",
    "\n",
    "The third consideration is the cost of building a facility at a location.\n",
    "\n",
    "| Facility / Location | Location 1| Location 2 | Location 3 | Location 4 | Location 5 |\n",
    "|---|---|---|---|---|---|\n",
    "| **Facility 1**| 2 | 3 | 6 | 3 | 7 |\n",
    "| **Facility 2** | 3 | 9 | 2 | 5 | 9 |\n",
    "| **Facility 3** | 2 | 6 | 4 | 1 | 2 |\n",
    "| **Facility 4** | 7 | 5 | 8 | 5 | 7 |\n",
    "| **Facility 5** | 1 | 9 | 2 | 9 | 2 |\n",
    "\n",
    "The outcomes in this example range from optimal to 166% of optimal. This implies a considerable benefit to performing the optimization."
   ]
  },
  {
   "cell_type": "code",
   "execution_count": 1,
   "metadata": {},
   "outputs": [],
   "source": [
    "import os\n",
    "import numpy as np\n",
    "import matplotlib.pyplot as plt\n",
    "from qci_client import QciClient\n",
    "from helpers import plot_qap, assignment_from_solution, create_qap_objective, create_qap_constraints, find_index_of_nearest\n",
    "from data import mip_obj_vals"
   ]
  },
  {
   "cell_type": "markdown",
   "metadata": {},
   "source": [
    "Here is the data described in the tables above."
   ]
  },
  {
   "cell_type": "code",
   "execution_count": 2,
   "metadata": {},
   "outputs": [],
   "source": [
    "\n",
    "A = np.array([[0, 5, 8, 0, 1],\n",
    "                [0, 0, 0, 10, 15],\n",
    "                [0, 0, 0, 13, 18],\n",
    "                [0, 0, 0, 0, 0.],\n",
    "                [0, 0, 0, 1, 0.]])\n",
    "B = np.array([[0, 8.54, 6.4, 10, 8.94],\n",
    "                [8.54, 0, 4.47, 5.39, 6.49],\n",
    "                [6.4, 4.47, 0, 3.61, 3.0],\n",
    "                [10, 5.39, 3.61, 0, 2.0],\n",
    "                [8.94, 6.49, 3.0, 2.0, 0.]])\n",
    "C = np.array([[2, 3, 6, 3, 7],\n",
    "                [3, 9, 2, 5, 9],\n",
    "                [2, 6, 4, 1, 2],\n",
    "                [7, 5, 8, 5, 7],\n",
    "                [1, 9, 2, 9, 2.]])\n",
    "n = 5\n",
    "num_variables = 25"
   ]
  },
  {
   "cell_type": "markdown",
   "metadata": {},
   "source": [
    "This code creates the objective matrix from the three input matrices, then uploads the data to the API."
   ]
  },
  {
   "cell_type": "code",
   "execution_count": 3,
   "metadata": {},
   "outputs": [],
   "source": [
    "qciclient = QciClient()"
   ]
  },
  {
   "cell_type": "code",
   "execution_count": 4,
   "metadata": {},
   "outputs": [],
   "source": [
    "objective_file = create_qap_objective(A, B, C, n, num_variables)\n",
    "obj_file_id = qciclient.upload_file(data=objective_file)[\"file_id\"]"
   ]
  },
  {
   "cell_type": "markdown",
   "metadata": {},
   "source": [
    "Here we start a client for the API and upload the objective matrix."
   ]
  },
  {
   "cell_type": "markdown",
   "metadata": {},
   "source": [
    "The constraint matrix is built using only the number of facilities/locations. It is the same across all problems of the same size, independent of the other input data.\n",
    "\n",
    "This code builds the constraint data and uploads two files, one for the left hand side and another for the right."
   ]
  },
  {
   "cell_type": "code",
   "execution_count": 5,
   "metadata": {},
   "outputs": [],
   "source": [
    "constraints_file, rhs_file = create_qap_constraints(n)\n",
    "constraint_file_id = qciclient.upload_file(data=constraints_file)[\"file_id\"]\n",
    "rhs_file_id = qciclient.upload_file(data=rhs_file)[\"file_id\"]"
   ]
  },
  {
   "cell_type": "markdown",
   "metadata": {},
   "source": [
    "This is where we make the job request. The request is asynchronous. The job status can be checked by referencing the job id. When the job status no longer reports `RUNNING`, the response can be retrieved. The response contains job execution and results data."
   ]
  },
  {
   "cell_type": "code",
   "execution_count": 6,
   "metadata": {},
   "outputs": [
    {
     "name": "stdout",
     "output_type": "stream",
     "text": [
      "Job submitted job_id='6579d04766705e945c78fb11'-: 2023/12/13 08:39:51\n"
     ]
    }
   ],
   "source": [
    "alpha = 105.625\n",
    "job_params = {\"sampler_type\": \"eqc1\", \"alpha\": alpha, \"n_samples\": 5}\n",
    "body = qciclient.build_job_body(job_type=\"sample-constraint\", job_params=job_params,\n",
    "    constraints_file_id=constraint_file_id, objective_file_id=obj_file_id,\n",
    "    rhs_file_id=rhs_file_id, job_name=f\"QAP Demo\",\n",
    "    job_tags=[])\n",
    "\n",
    "response = qciclient.process_job(job_type=\"sample-constraint\", job_body=body, wait=False)"
   ]
  },
  {
   "cell_type": "code",
   "execution_count": 7,
   "metadata": {},
   "outputs": [
    {
     "data": {
      "text/plain": [
       "'6579d04766705e945c78fb11'"
      ]
     },
     "execution_count": 7,
     "metadata": {},
     "output_type": "execute_result"
    }
   ],
   "source": [
    "job_id = response[\"job_id\"]\n",
    "job_id"
   ]
  },
  {
   "cell_type": "code",
   "execution_count": 8,
   "metadata": {},
   "outputs": [
    {
     "data": {
      "text/plain": [
       "{'job_id': '6579d04766705e945c78fb11', 'status': 'RUNNING'}"
      ]
     },
     "execution_count": 8,
     "metadata": {},
     "output_type": "execute_result"
    }
   ],
   "source": [
    "qciclient.get_job_status(job_id=job_id)"
   ]
  },
  {
   "cell_type": "markdown",
   "metadata": {},
   "source": [
    "This loop waits for the job to complete."
   ]
  },
  {
   "cell_type": "code",
   "execution_count": 11,
   "metadata": {},
   "outputs": [],
   "source": [
    "import time\n",
    "while qciclient.get_job_status(job_id=job_id)[\"status\"] == \"RUNNING\":\n",
    "    time.sleep(10)"
   ]
  },
  {
   "cell_type": "code",
   "execution_count": 12,
   "metadata": {},
   "outputs": [],
   "source": [
    "response = qciclient.get_job_response(job_id=job_id, job_type=\"sample-constraint\")"
   ]
  },
  {
   "cell_type": "markdown",
   "metadata": {},
   "source": [
    "The response includes a reference to a results file, which is where the solution samples and energies are found. "
   ]
  },
  {
   "cell_type": "code",
   "execution_count": 14,
   "metadata": {},
   "outputs": [],
   "source": [
    "results_file_id = response[\"results\"][\"file_id\"]\n",
    "results = qciclient.get_file_whole(file_id=results_file_id)"
   ]
  },
  {
   "cell_type": "code",
   "execution_count": 15,
   "metadata": {},
   "outputs": [],
   "source": [
    "# results = response[\"results\"]\n",
    "sample = np.array(results[\"samples\"])"
   ]
  },
  {
   "cell_type": "code",
   "execution_count": 16,
   "metadata": {},
   "outputs": [
    {
     "data": {
      "text/plain": [
       "([330.6398242187506, 331.7902148437506], [4, 1])"
      ]
     },
     "execution_count": 16,
     "metadata": {},
     "output_type": "execute_result"
    }
   ],
   "source": [
    "results[\"energies\"], results[\"counts\"]"
   ]
  },
  {
   "cell_type": "markdown",
   "metadata": {},
   "source": [
    "We convert the bit vector of length 25 into an array of assignments of length 5 and plot the assignments in a bi-partite graph."
   ]
  },
  {
   "cell_type": "code",
   "execution_count": 17,
   "metadata": {},
   "outputs": [
    {
     "data": {
      "text/plain": [
       "[0, 3, 2, 1, 4]"
      ]
     },
     "execution_count": 17,
     "metadata": {},
     "output_type": "execute_result"
    }
   ],
   "source": [
    "assignment = assignment_from_solution(sample[0], n)\n",
    "assignment"
   ]
  },
  {
   "cell_type": "code",
   "execution_count": 18,
   "metadata": {},
   "outputs": [
    {
     "data": {
      "image/png": "[encoded data removed]",
      "text/plain": [
       "<Figure size 640x480 with 1 Axes>"
      ]
     },
     "metadata": {},
     "output_type": "display_data"
    }
   ],
   "source": [
    "plot_qap(assignment)"
   ]
  },
  {
   "cell_type": "markdown",
   "metadata": {},
   "source": [
    "These values were obtained by enumerating all feasible solutions and evaluating the objective function. "
   ]
  },
  {
   "attachments": {},
   "cell_type": "markdown",
   "metadata": {},
   "source": [
    "Results\n",
    "========\n",
    "\n",
    "In this plot, the objective values of all feasible solutions are shown with the objective value of the solution found by **Dirac-1**. Notice the result is the lowest possible objective value."
   ]
  },
  {
   "cell_type": "code",
   "execution_count": 19,
   "metadata": {},
   "outputs": [
    {
     "data": {
      "image/png": "[encoded data removed]",
      "text/plain": [
       "<Figure size 1200x900 with 1 Axes>"
      ]
     },
     "metadata": {},
     "output_type": "display_data"
    }
   ],
   "source": [
    "plt.figure(figsize=(12, 9))\n",
    "ser1 = plt.plot(mip_obj_vals, \"c-\", label=\"Feasible Solutions\")\n",
    "plt.title(\"Feasible solutions to QAP\")\n",
    "ax = plt.gca()\n",
    "plt.xlabel(\"Feasible Solution\")\n",
    "ax.get_xaxis().set_visible(False)\n",
    "plt.ylabel(\"Objective Value\")\n",
    "# ser2 = plt.plot([0, len(mip_obj_vals)-1], [results[\"energies\"][0], results[\"energies\"][0]], label=\"Found Solution\")\n",
    "obj_val = results[\"energies\"][0]\n",
    "idx = find_index_of_nearest(mip_obj_vals, obj_val)\n",
    "ser2 = plt.scatter([idx], [obj_val], c=\"r\", marker=\"o\", label=\"Found Solution\")\n",
    "plt.legend()\n",
    "plt.grid()"
   ]
  },
  {
   "cell_type": "code",
   "execution_count": null,
   "metadata": {},
   "outputs": [],
   "source": []
  }
 ],
 "metadata": {
  "kernelspec": {
   "display_name": "Python 3 (ipykernel)",
   "language": "python",
   "name": "python3"
  },
  "language_info": {
   "codemirror_mode": {
    "name": "ipython",
    "version": 3
   },
   "file_extension": ".py",
   "mimetype": "text/x-python",
   "name": "python",
   "nbconvert_exporter": "python",
   "pygments_lexer": "ipython3",
   "version": "3.9.2"
  },
  "vscode": {
   "interpreter": {
    "hash": "e4e5229f39531d576486b7a7581587d21e0df360ca01eb3c7a4911d025aa9da2"
   }
  }
 },
 "nbformat": 4,
 "nbformat_minor": 2
}
