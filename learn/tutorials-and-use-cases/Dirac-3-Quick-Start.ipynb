{
 "cells": [
  {
   "cell_type": "markdown",
   "metadata": {},
   "source": [
    "# Dirac-3 Quick Start\n",
    "#### Device: Dirac-3\n",
    "\n",
    "Entropy quantum computing (EQC) is a unique tool for optimization leveraging exotic effects in open quantum systems, including the quantum Zeno effect. Most quantum and quantum-inspired programming models, including quantum annealing models, are restricted to qubits. Dirac-3 hybrid quantum optimization machine, 3<sup>rd</sup> generation of EQC, allows the use of qudits, which are units of quantum information similar to qubits, but each taking more than two possible values. Be sure to read the [Qudit Basics](https://learn.quantumcomputinginc.com/learn/lessons/qudit-basics) to further understand the benefit of high dimensional encoding using qudits.\n",
    "\n",
    "This tutorial serves as a quick starter guide, offering practical examples to help users learn the solver characteristics, submit problem, and interpret the results from Dirac-3 effectively.\n",
    "\n",
    "## Device - Dirac-3\n",
    "\n",
    "Dirac-3 solves quadratic Hamiltonians of up to 949 variables. It also solves highly complex problems with three and four-body interaction. For more details, see the [user guide](https://quantumcomputinginc.com/learn/dirac-3/dirac-3-users-guide). \n",
    "\n",
    "## Tutorial Structure\n",
    "\n",
    "The goal of this tutorial is to explain how to work with Dirac-3. \n",
    "\n",
    "The first step is to turn an objective function into a Hamiltonian. It is important that the Hamiltonian is important in Hermitian form. That means the interaction matrices or tensors must be symmetric upon conjugation or transposition operations. \n",
    "\n",
    "For example, if the objective function is \n",
    "\n",
    "$$\n",
    "E=x_1-x_2+x_1^2+bx_1x_2\n",
    "$$\n",
    "\n",
    "Then the Hamiltonian in the matrix form shall be (assuming $b$ is real)\n",
    "\n",
    "$$\n",
    "H=\\begin{bmatrix} 1 & -1 \\end{bmatrix}\\begin{bmatrix}x_1\\\\ x_2\\end{bmatrix}\n",
    " + \\begin{bmatrix} x_1 & x_2 \\end{bmatrix} \\begin{bmatrix} 1 & b / 2 \\\\ b / 2 & 0 \\end{bmatrix}\n",
    " \\begin{bmatrix} x_1 \\\\ x_2 \\end{bmatrix} \n",
    "$$\n",
    "\n",
    "for state vector $\\begin{bmatrix}x_1 \\\\ x_2 \\end{bmatrix}$. Note that cross-term in the second part of the Hamiltonian is $b/2$. To code the Hamiltonian into Dirac-3, the linear and quadratic parts are defined separately as \n",
    "\n",
    "$$\n",
    "C=\\begin{bmatrix} 1 \\\\ -1\\end{bmatrix}\n",
    "$$\n",
    "\n",
    "and \n",
    "\n",
    "$$\n",
    "J=\\begin{bmatrix} 1 & b/2 \\\\ b/2 & 0 \\end{bmatrix}.\n",
    "$$\n",
    "\n",
    "These two matrices are input into the `sample_hamiltonian` method in the examples below.\n",
    "\n",
    "In the following, we will use three different examples to illustrate how to prepare and submit problems.\n",
    "\n",
    "1. The first is a simple example to help with understanding the use of the qudits.\n",
    "2. The second example is a polynomial which will be used for demonstrating how different values of the summation constraint can be used to change the solution of the problem.\n",
    "4. The third example is a simple problem which, like the first, is minimized by setting one value to the whole quantity of $R$. The difference is that there are three solutions at optimality. Repeated runs will reveal different solutions.\n",
    "\n",
    "First, we'll get our Python environment set up. We need `numpy`, two methods to sample and evaluate quadratic Hamiltonians, respectively, and the connection to a device. \n"
   ]
  },
  {
   "cell_type": "code",
   "execution_count": 1,
   "metadata": {},
   "outputs": [],
   "source": [
    "import numpy as np\n",
    "import matplotlib.pyplot as plt\n",
    "from qci_client import QciClient\n",
    "import os\n",
    "\n",
    "url = \"https://api.qci-prod.com\"\n",
    "q1 = QciClient(api_token=os.getenv(\"QCI_TOKEN\"), url=url)"
   ]
  },
  {
   "cell_type": "markdown",
   "metadata": {},
   "source": [
    "The `sample_hamiltonian` method takes six required arguments. `C` and `J` are the linear and quadratic terms of the polynomial. These matrices are dense and the method converts into a sparse format for the `process_job` call. The `sum_constraint` parameter is a value that indicates the total returned given solution vector must add up to. The `schedule` parameter takes four different values, 1, 2, 3 or 4.\n",
    "\n",
    "1. This is the quickest execution. It has the lowest probability of obtaining high-quality solutions.\n",
    "2. This execution takes more time, likely a few seconds, but has a higher probability of finding good solutions.\n",
    "3. This option may take tens of seconds. The quality of these solutions is expected to be higher.\n",
    "4. This is the longest-running relaxation option. It takes up to multiple minutes to run and has the highest probability of returning quality solutions.\n",
    "\n",
    "The `solution_precision` parameter is a value that indicates how granular a solution should be. Use a value of 1 for integer solutions. Use decimals such as 0.1 or 0.05 for higher precision with the highest precision accepted being 0.00001. Specify a connected `EqcClient` in the `client` parameter. Suppress print statements in the call using a value of `True` for `suppress_output`."
   ]
  },
  {
   "cell_type": "code",
   "execution_count": 2,
   "metadata": {},
   "outputs": [],
   "source": [
    "def sample_hamiltonian(C : np.ndarray, J : np.ndarray, sum_constraint : float, schedule : int, solution_precision : float, client : QciClient):\n",
    "    \n",
    "    n = C.shape[0]\n",
    "    H = np.hstack([C.reshape([n, 1]), J])\n",
    "    ham_file = {\"file_name\": \"qudit-tutorial-hame\", \"file_config\": {\"hamiltonian\": {\"data\": H}}}\n",
    "    file_id = client.upload_file(file=ham_file)[\"file_id\"]\n",
    "    job_tags = [\"qudit-tutorial\"]\n",
    "    job_body = client.build_job_body(job_type=\"sample-hamiltonian\", hamiltonian_file_id=file_id, \n",
    "                                     job_params={\"device_type\": \"dirac-3\", \"num_samples\": 1, \"solution_precision\": solution_precision,\n",
    "                                                 \"sum_constraint\": sum_constraint, \"relaxation_schedule\": schedule}, job_tags=job_tags)\n",
    "    response = client.process_job(job_body=job_body, wait=True)\n",
    "    return response\n",
    "\n",
    "def get_results(response):\n",
    "    if \"results\" in response and response[\"results\"] is not None:\n",
    "        results = response[\"results\"]\n",
    "    else:\n",
    "        if \"job_info\" in response and \"job_result\" in response[\"job_info\"]:\n",
    "            details = response[\"job_info\"][\"job_result\"]\n",
    "        else:\n",
    "            details = None\n",
    "        raise RuntimeError(f\"Execution failed. See details: {details}\")\n",
    "    return results"
   ]
  },
  {
   "cell_type": "markdown",
   "metadata": {},
   "source": [
    "## Qudit Domain\n",
    "Dirac-3 uses qudits to solve discrete optimization problems.\n",
    "\n",
    "The first example is a three-variable problem with uniform two-body interaction, whose solution corresponds to one variable taking on the total value of the summation constraint and the rest taking the value 0.\n",
    "\n",
    "In the coding please note the `dtype` of `float32`. This is the digital precision for floating point numbers used in the gRPC protocol. A warning will be raised if higher precision decimal values are used."
   ]
  },
  {
   "cell_type": "code",
   "execution_count": 3,
   "metadata": {},
   "outputs": [
    {
     "data": {
      "text/plain": [
       "(array([[-1.],\n",
       "        [ 0.],\n",
       "        [ 0.]], dtype=float32),\n",
       " array([[0., 1., 1.],\n",
       "        [1., 0., 1.],\n",
       "        [1., 1., 0.]], dtype=float32))"
      ]
     },
     "execution_count": 3,
     "metadata": {},
     "output_type": "execute_result"
    }
   ],
   "source": [
    "h = np.array([\n",
    "    [-1],\n",
    "    [0],\n",
    "    [0]\n",
    "], dtype=np.float32\n",
    ")\n",
    "J= np.array([\n",
    "    [0, 1, 1],\n",
    "    [1, 0, 1],\n",
    "    [1, 1, 0]\n",
    "], dtype=np.float32\n",
    ")\n",
    "h, J"
   ]
  },
  {
   "cell_type": "code",
   "execution_count": 5,
   "metadata": {},
   "outputs": [
    {
     "name": "stdout",
     "output_type": "stream",
     "text": [
      "2024-05-08 09:47:14 - Dirac allocation balance = 0 s (unmetered)\n",
      "2024-05-08 09:47:14 - Job submitted: job_id='663bac92d448b017e54f94ac'\n",
      "2024-05-08 09:47:15 - QUEUED\n",
      "2024-05-08 09:47:17 - RUNNING\n",
      "2024-05-08 09:47:58 - COMPLETED\n",
      "2024-05-08 09:48:01 - Dirac allocation balance = 0 s (unmetered)\n",
      "Status: {'submitted_at_rfc3339nano': '2024-05-08T16:47:14.96Z', 'queued_at_rfc3339nano': '2024-05-08T16:47:14.962Z', 'running_at_rfc3339nano': '2024-05-08T16:47:15.736Z', 'completed_at_rfc3339nano': '2024-05-08T16:47:56.304Z'}\n",
      "Energy: -400\n",
      "Solution\n",
      "[400, 0, 0]\n",
      "Solution Value (should match energy) [-400.]\n",
      "Known ground state [-400.]\n",
      "With solution [400   0   0]\n"
     ]
    }
   ],
   "source": [
    "response = sample_hamiltonian(h, J, 400, 1, 0.1, q1)\n",
    "if \"job_info\" in response:\n",
    "    print(\"Status:\", response[\"job_info\"][\"job_status\"])\n",
    "    results = get_results(response)\n",
    "    print(\"Energy:\", results[\"energies\"][0])\n",
    "    print(\"Solution\")\n",
    "    print(results[\"solutions\"][0])\n",
    "    solution = np.array(results[\"solutions\"][0])\n",
    "    print(\"Solution Value (should match energy)\", h.T@solution + solution.T@J@solution)\n",
    "    x = np.array([400, 0, 0])\n",
    "    print(\"Known ground state\", h.T@x + x.T@J@x)\n",
    "    print(\"With solution\", x)\n",
    "else:\n",
    "    print(response)"
   ]
  },
  {
   "cell_type": "markdown",
   "metadata": {},
   "source": [
    "\n",
    "## Dynamic Range\n",
    "\n",
    "Solution precision is dictated by the machine sensitivity and precision, including those of the photon-counting modules and optoelectronic devices, and shot-noise limited quantum measurements. Dirac-3 has a dynamic range of at least 23 dB. This means that Hamiltonian coefficients having an absolute value smaller than ~1/200 of the peak coefficient value may not be recognized and will be effectively treated as 0 when encoding the Hamiltonian. In some cases, the dynamic range can reach as high as 40 dB. However, it is not guaranteed.\n",
    "\n",
    "During computing cycles, each qudit takes discrete numbers of levels, which is at least 200, but can reach 10,000, as limited by the 23 dB or 40 dB dynamic range. At the output, however, the optimal solutions may consist of variables that have fractional components, as a result of normalization to the summation constraint. Thus when the number of levels is 200, each qudit value will be a multiple of R/200. \n",
    "\n",
    "Device sensitivity is not a controllable parameter and so the number of levels is not a part of problem formulation. More details on this are available in the Dirac-3 User Guide.\n"
   ]
  },
  {
   "cell_type": "markdown",
   "metadata": {},
   "source": [
    "## Summation Constraint\n",
    "\n",
    "The summation constraint is required to be some value between 1 and 10,000. This restriction is a property of Dirac-3.1 and not EQC in general. This constraint is helpful in some models and a formulation hurdle in others. In all formulations of TSP, for instance, the sum of a final solution is known beforehand. A Hamiltonian cycle (another one of those confusing terminologies that shows up when mathematicians and physicists work together) has exactly $n$ edges, where $n$ is the number of nodes in a graph. This means that solving a TSP with Dirac-3 requires setting the sum constraint equal to the number of nodes in the graph.\n",
    "\n",
    "Other cases where the sparsity or sum of the solution is not known before solving can be solved with a couple of different approaches.\n",
    "\n",
    "### Machine Slack Qudits\n",
    "When formulating a model, it can be advantageous to add slack variables. To use this method when setting a summation constraint, formulate the Hamiltonian like normal, then determine a lower bound and an upper bound on the sum of the qudit values. Introduce an additional qudit into the formulated model which can sum to the upper bound minus the lower bound. This additional variable in the model will be ignored in the solution. See some of the more indepth examples, like Max Cut, to understand slack qudits in action. \n",
    "\n"
   ]
  },
  {
   "cell_type": "markdown",
   "metadata": {},
   "source": [
    "### Minimizing a simple polynomial\n",
    "\n",
    "Let $H(x)=-5x_1x_3-4x_2^2-10x_1-10x_3$. This polynomial itself has no lower bound, but as we put a summation constraint, it does. If $\\sum_i x_i = R$, then $H(s)$ has a minimum value that changes negatively with $R$ and changes the cardinality of $x$. Below are the results for different $R$ values."
   ]
  },
  {
   "cell_type": "code",
   "execution_count": 6,
   "metadata": {},
   "outputs": [
    {
     "name": "stdout",
     "output_type": "stream",
     "text": [
      "**********************************\n",
      "S=2\n",
      "2024-05-08 09:49:01 - Dirac allocation balance = 0 s (unmetered)\n",
      "2024-05-08 09:49:01 - Job submitted: job_id='663bacfdd448b017e54f94ad'\n",
      "2024-05-08 09:49:01 - QUEUED\n",
      "2024-05-08 09:49:04 - RUNNING\n",
      "2024-05-08 09:49:55 - COMPLETED\n",
      "2024-05-08 09:49:58 - Dirac allocation balance = 0 s (unmetered)\n",
      "Status: {'submitted_at_rfc3339nano': '2024-05-08T16:49:01.515Z', 'queued_at_rfc3339nano': '2024-05-08T16:49:01.517Z', 'running_at_rfc3339nano': '2024-05-08T16:49:01.823Z', 'completed_at_rfc3339nano': '2024-05-08T16:49:54.459Z'}\n",
      "Energy: -24.9997101\n",
      "Solution\n",
      "[0.9924028, 0, 1.0075972]\n",
      "\n",
      "**********************************\n",
      "S=3\n",
      "2024-05-08 09:50:38 - Dirac allocation balance = 0 s (unmetered)\n",
      "2024-05-08 09:50:38 - Job submitted: job_id='663bad5ed448b017e54f94ae'\n",
      "2024-05-08 09:50:38 - QUEUED\n",
      "2024-05-08 09:50:41 - RUNNING\n",
      "2024-05-08 09:51:32 - COMPLETED\n",
      "2024-05-08 09:51:35 - Dirac allocation balance = 0 s (unmetered)\n",
      "Status: {'submitted_at_rfc3339nano': '2024-05-08T16:50:38.857Z', 'queued_at_rfc3339nano': '2024-05-08T16:50:38.859Z', 'running_at_rfc3339nano': '2024-05-08T16:50:39.525Z', 'completed_at_rfc3339nano': '2024-05-08T16:51:32.208Z'}\n",
      "Energy: -41.2500076\n",
      "Solution\n",
      "[1.4997756, 0, 1.5002246]\n",
      "\n",
      "**********************************\n",
      "S=4\n",
      "2024-05-08 09:52:15 - Dirac allocation balance = 0 s (unmetered)\n",
      "2024-05-08 09:52:15 - Job submitted: job_id='663badbfd448b017e54f94af'\n",
      "2024-05-08 09:52:15 - QUEUED\n",
      "2024-05-08 09:52:18 - RUNNING\n",
      "2024-05-08 09:53:12 - COMPLETED\n",
      "2024-05-08 09:53:14 - Dirac allocation balance = 0 s (unmetered)\n",
      "Status: {'submitted_at_rfc3339nano': '2024-05-08T16:52:15.857Z', 'queued_at_rfc3339nano': '2024-05-08T16:52:15.858Z', 'running_at_rfc3339nano': '2024-05-08T16:52:16.329Z', 'completed_at_rfc3339nano': '2024-05-08T16:53:10.127Z'}\n",
      "Energy: -59.9980927\n",
      "Solution\n",
      "[2.0195472, 0, 1.9804529]\n",
      "\n",
      "**********************************\n",
      "S=5\n",
      "2024-05-08 09:53:55 - Dirac allocation balance = 0 s (unmetered)\n",
      "2024-05-08 09:53:55 - Job submitted: job_id='663bae23d448b017e54f94b0'\n",
      "2024-05-08 09:53:55 - QUEUED\n",
      "2024-05-08 09:53:57 - RUNNING\n",
      "2024-05-08 09:54:49 - COMPLETED\n",
      "2024-05-08 09:54:51 - Dirac allocation balance = 0 s (unmetered)\n",
      "Status: {'submitted_at_rfc3339nano': '2024-05-08T16:53:55.363Z', 'queued_at_rfc3339nano': '2024-05-08T16:53:55.364Z', 'running_at_rfc3339nano': '2024-05-08T16:53:56.372Z', 'completed_at_rfc3339nano': '2024-05-08T16:54:47.923Z'}\n",
      "Energy: -81.2500153\n",
      "Solution\n",
      "[2.5000925, 0, 2.499908]\n",
      "\n",
      "**********************************\n",
      "S=6\n",
      "2024-05-08 09:55:32 - Dirac allocation balance = 0 s (unmetered)\n",
      "2024-05-08 09:55:32 - Job submitted: job_id='663bae84d448b017e54f94b1'\n",
      "2024-05-08 09:55:32 - QUEUED\n",
      "2024-05-08 09:55:35 - RUNNING\n",
      "2024-05-08 09:56:57 - COMPLETED\n",
      "2024-05-08 09:56:59 - Dirac allocation balance = 0 s (unmetered)\n",
      "Status: {'submitted_at_rfc3339nano': '2024-05-08T16:55:32.437Z', 'queued_at_rfc3339nano': '2024-05-08T16:55:32.439Z', 'running_at_rfc3339nano': '2024-05-08T16:55:33.057Z', 'completed_at_rfc3339nano': '2024-05-08T16:56:55.554Z'}\n",
      "Energy: -105\n",
      "Solution\n",
      "[3, 0, 3]\n",
      "\n",
      "**********************************\n",
      "S=7\n",
      "2024-05-08 09:57:40 - Dirac allocation balance = 0 s (unmetered)\n",
      "2024-05-08 09:57:40 - Job submitted: job_id='663baf04d448b017e54f94b2'\n",
      "2024-05-08 09:57:40 - QUEUED\n",
      "2024-05-08 09:57:43 - RUNNING\n",
      "2024-05-08 09:58:34 - COMPLETED\n",
      "2024-05-08 09:58:37 - Dirac allocation balance = 0 s (unmetered)\n",
      "Status: {'submitted_at_rfc3339nano': '2024-05-08T16:57:40.414Z', 'queued_at_rfc3339nano': '2024-05-08T16:57:40.416Z', 'running_at_rfc3339nano': '2024-05-08T16:57:40.618Z', 'completed_at_rfc3339nano': '2024-05-08T16:58:33.574Z'}\n",
      "Energy: -196\n",
      "Solution\n",
      "[2e-07, 7, 2e-07]\n",
      "\n"
     ]
    }
   ],
   "source": [
    "h = np.array([[-10.],\n",
    "              [  0.],\n",
    "              [-10.]], dtype=np.float32)\n",
    "J = np.array([[0.,    0.,   -2.5],\n",
    "              [0.,   -4.,    0. ],\n",
    "              [-2.5,   0.,    0. ]], dtype=np.float32)\n",
    "for S in [2, 3, 4, 5, 6, 7]:\n",
    "    print(\"**********************************\")\n",
    "    print(f\"S={S}\")\n",
    "    response = sample_hamiltonian(h, J, S, 3, 0.1, q1)\n",
    "    results = get_results(response)\n",
    "    print(\"Status:\", response[\"job_info\"][\"job_status\"])\n",
    "    results = get_results(response)\n",
    "    print(\"Energy:\", results[\"energies\"][0])\n",
    "    print(\"Solution\")\n",
    "    print(results[\"solutions\"][0])\n",
    "    print()"
   ]
  },
  {
   "cell_type": "markdown",
   "metadata": {},
   "source": [
    "For reference, here is a job response that is returned in JSON from the REST API"
   ]
  },
  {
   "cell_type": "code",
   "execution_count": 7,
   "metadata": {},
   "outputs": [
    {
     "data": {
      "text/plain": [
       "{'job_info': {'job_id': '663baf04d448b017e54f94b2',\n",
       "  'job_submission': {'job_tags': ['qudit-tutorial'],\n",
       "   'problem_config': {'normalized_qudit_hamiltonian_optimization': {'hamiltonian_file_id': '663baf0498263204a36574f8'}},\n",
       "   'device_config': {'dirac-3': {'num_samples': 1,\n",
       "     'relaxation_schedule': 3,\n",
       "     'solution_precision': 0.1,\n",
       "     'sum_constraint': 7}}},\n",
       "  'job_status': {'submitted_at_rfc3339nano': '2024-05-08T16:57:40.414Z',\n",
       "   'queued_at_rfc3339nano': '2024-05-08T16:57:40.416Z',\n",
       "   'running_at_rfc3339nano': '2024-05-08T16:57:40.618Z',\n",
       "   'completed_at_rfc3339nano': '2024-05-08T16:58:33.574Z'},\n",
       "  'job_result': {'file_id': '663baf3998263204a36574fa', 'device_usage_s': 13}},\n",
       " 'status': 'COMPLETED',\n",
       " 'results': {'counts': [1],\n",
       "  'energies': [-196],\n",
       "  'solutions': [[2e-07, 7, 2e-07]],\n",
       "  'distilled_energies': [-196],\n",
       "  'distilled_solutions': [[0, 7, 0]]}}"
      ]
     },
     "execution_count": 7,
     "metadata": {},
     "output_type": "execute_result"
    }
   ],
   "source": [
    "response"
   ]
  },
  {
   "cell_type": "markdown",
   "metadata": {},
   "source": [
    "## Degeneracy Demonstration\n",
    "\n",
    "Dirac-3 will return various solutions to a problem with multiple solutions near the optimal value. \n",
    "\n",
    "Let's see what happens with a clearly degenerate problem. Take the first example modified to give the same weight to all the linear terms. Each solution: `[S, 0, 0]`, `[0, S, 0]` and `[0, 0, S]` give the same value for the Hamiltonian."
   ]
  },
  {
   "cell_type": "code",
   "execution_count": 8,
   "metadata": {},
   "outputs": [],
   "source": [
    "h = np.array([[-1],\n",
    "              [-1],\n",
    "              [-1]], dtype=np.float32)\n",
    "J = np.array([[0, 1, 1],\n",
    "              [1, 0, 1],\n",
    "              [1, 1, 0]], dtype=np.float32)\n"
   ]
  },
  {
   "cell_type": "code",
   "execution_count": 10,
   "metadata": {},
   "outputs": [
    {
     "name": "stdout",
     "output_type": "stream",
     "text": [
      "2024-05-08 10:04:59 - Dirac allocation balance = 0 s (unmetered)\n",
      "2024-05-08 10:05:00 - Job submitted: job_id='663bb0bbd448b017e54f94b3'\n",
      "2024-05-08 10:05:00 - QUEUED\n",
      "2024-05-08 10:05:02 - RUNNING\n",
      "2024-05-08 10:05:51 - COMPLETED\n",
      "2024-05-08 10:05:54 - Dirac allocation balance = 0 s (unmetered)\n",
      "2024-05-08 10:06:34 - Dirac allocation balance = 0 s (unmetered)\n",
      "2024-05-08 10:06:34 - Job submitted: job_id='663bb11ad448b017e54f94b4'\n",
      "2024-05-08 10:06:34 - QUEUED\n",
      "2024-05-08 10:06:37 - RUNNING\n",
      "2024-05-08 10:07:43 - COMPLETED\n",
      "2024-05-08 10:07:46 - Dirac allocation balance = 0 s (unmetered)\n",
      "2024-05-08 10:08:27 - Dirac allocation balance = 0 s (unmetered)\n",
      "2024-05-08 10:08:27 - Job submitted: job_id='663bb18bd448b017e54f94b5'\n",
      "2024-05-08 10:08:27 - QUEUED\n",
      "2024-05-08 10:08:30 - RUNNING\n",
      "2024-05-08 10:09:19 - COMPLETED\n",
      "2024-05-08 10:09:21 - Dirac allocation balance = 0 s (unmetered)\n",
      "2024-05-08 10:10:02 - Dirac allocation balance = 0 s (unmetered)\n",
      "2024-05-08 10:10:02 - Job submitted: job_id='663bb1ead448b017e54f94b6'\n",
      "2024-05-08 10:10:02 - QUEUED\n",
      "2024-05-08 10:10:04 - RUNNING\n",
      "2024-05-08 10:10:50 - COMPLETED\n",
      "2024-05-08 10:10:53 - Dirac allocation balance = 0 s (unmetered)\n",
      "2024-05-08 10:11:33 - Dirac allocation balance = 0 s (unmetered)\n",
      "2024-05-08 10:11:33 - Job submitted: job_id='663bb245d448b017e54f94b7'\n",
      "2024-05-08 10:11:33 - QUEUED\n",
      "2024-05-08 10:11:36 - RUNNING\n",
      "2024-05-08 10:12:22 - COMPLETED\n",
      "2024-05-08 10:12:25 - Dirac allocation balance = 0 s (unmetered)\n",
      "2024-05-08 10:13:05 - Dirac allocation balance = 0 s (unmetered)\n",
      "2024-05-08 10:13:05 - Job submitted: job_id='663bb2a1d448b017e54f94b8'\n",
      "2024-05-08 10:13:05 - QUEUED\n",
      "2024-05-08 10:13:08 - RUNNING\n",
      "2024-05-08 10:13:57 - COMPLETED\n",
      "2024-05-08 10:13:59 - Dirac allocation balance = 0 s (unmetered)\n",
      "2024-05-08 10:14:39 - Dirac allocation balance = 0 s (unmetered)\n",
      "2024-05-08 10:14:40 - Job submitted: job_id='663bb300d448b017e54f94b9'\n",
      "2024-05-08 10:14:40 - QUEUED\n",
      "2024-05-08 10:14:42 - RUNNING\n",
      "2024-05-08 10:15:31 - COMPLETED\n",
      "2024-05-08 10:15:34 - Dirac allocation balance = 0 s (unmetered)\n",
      "2024-05-08 10:16:14 - Dirac allocation balance = 0 s (unmetered)\n",
      "2024-05-08 10:16:14 - Job submitted: job_id='663bb35ed448b017e54f94ba'\n",
      "2024-05-08 10:16:14 - QUEUED\n",
      "2024-05-08 10:16:17 - RUNNING\n",
      "2024-05-08 10:17:03 - COMPLETED\n",
      "2024-05-08 10:17:06 - Dirac allocation balance = 0 s (unmetered)\n",
      "2024-05-08 10:17:46 - Dirac allocation balance = 0 s (unmetered)\n",
      "2024-05-08 10:17:46 - Job submitted: job_id='663bb3bad448b017e54f94bb'\n",
      "2024-05-08 10:17:46 - QUEUED\n",
      "2024-05-08 10:18:25 - RUNNING\n",
      "2024-05-08 10:19:14 - COMPLETED\n",
      "2024-05-08 10:19:16 - Dirac allocation balance = 0 s (unmetered)\n",
      "2024-05-08 10:19:57 - Dirac allocation balance = 0 s (unmetered)\n",
      "2024-05-08 10:19:57 - Job submitted: job_id='663bb43dd448b017e54f94bc'\n",
      "2024-05-08 10:19:57 - QUEUED\n",
      "2024-05-08 10:19:59 - RUNNING\n",
      "2024-05-08 10:20:48 - COMPLETED\n",
      "2024-05-08 10:20:51 - Dirac allocation balance = 0 s (unmetered)\n",
      "Solution           | Frequency\n",
      "(0, 400, 0)    ***\n",
      "(400, 0, 0)    *****\n",
      "(0.0, 0.0, 400)    **\n"
     ]
    },
    {
     "data": {
      "image/png": "[encoded data removed]",
      "text/plain": [
       "<Figure size 640x480 with 1 Axes>"
      ]
     },
     "metadata": {},
     "output_type": "display_data"
    }
   ],
   "source": [
    "super_test = {}\n",
    "energies_list = []\n",
    "for i in range(10):\n",
    "    response = sample_hamiltonian(h, J, 400, 2, 0.1, q1)\n",
    "    results = get_results(response)\n",
    "    energies_list.append(results[\"energies\"][0])\n",
    "    solution = [round(v, 1) for v in results[\"solutions\"][0]]\n",
    "    solution = tuple(solution)\n",
    "    if solution in super_test:\n",
    "        super_test[solution] += 1\n",
    "    else:\n",
    "        super_test[solution] = 1\n",
    "print(\"Solution           | Frequency\")\n",
    "for solution in super_test:\n",
    "    print(solution, \"  \", \"*\"*super_test[solution])\n",
    "labels = list(super_test.keys())\n",
    "sizes = [super_test[key] for key in labels]\n",
    "fig, ax = plt.subplots()\n",
    "patches, labels = ax.pie(sizes, labels=labels)"
   ]
  }
 ],
 "metadata": {
  "kernelspec": {
   "display_name": "Python 3 (ipykernel)",
   "language": "python",
   "name": "python3"
  },
  "language_info": {
   "codemirror_mode": {
    "name": "ipython",
    "version": 3
   },
   "file_extension": ".py",
   "mimetype": "text/x-python",
   "name": "python",
   "nbconvert_exporter": "python",
   "pygments_lexer": "ipython3",
   "version": "3.10.7"
  }
 },
 "nbformat": 4,
 "nbformat_minor": 4
}
