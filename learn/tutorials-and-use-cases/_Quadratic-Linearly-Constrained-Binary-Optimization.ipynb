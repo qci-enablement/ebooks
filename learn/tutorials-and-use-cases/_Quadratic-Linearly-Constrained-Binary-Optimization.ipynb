{
 "cells": [
  {
   "cell_type": "markdown",
   "metadata": {},
   "source": [
    "# Quadratic Linearly Constrained Binary Optimization\n",
    "## Introduction\n",
    "Quadratic Unconstrained Binary Optimization (Qubo) problems can be formulated from a square, symmetric objective function and a matrix of binary constraints. Suppose we are given an objective function, $O$, of dimension $n \\times n$,  and a set of $m$ constraints, represented by the matrix $A$, with dimension $m \\times n$ and right-hand side vector $b$ of length $m$. We want to combine them into a Qubo, which can be defined as $Q = O + \\alpha (A^T A-2\\mathrm{diag}(b^TA))$, where $\\alpha \\in \\mathbb{R}$. At this point, we can find an optimal solution,\n",
    "$x^{*} = \\min_{x} x^T Q x$. \n",
    "The parameter $\\alpha$ plays an important role in guaranteeing that the constraints are satisfied. We will not go into more detail on this page. \n",
    "We will define a simple problem on the Upload tab and show how to upload the components.\n",
    "Suppose the original problem we want to minimize is \n",
    "$-3xy + xz,$\n",
    "subject to the constraints $x + z = 1$ and  $2x + 2y= 2$.\n",
    "\n",
    "\n",
    "\n",
    "\n",
    "## Uploading\n",
    "There are three matrix components that can be associated with to a constraint problem of this type. The objective function in matrix form, the linear constraints matrix, and the right-hand side (RHS) represent the linear constraints themselves. The format should follow the transformation from $\\mathbf{A}\\vec{x}$ = $\\vec{b}$  &rarr;  $\\mathbf{A}\\vec{x}$ - $\\vec{b}$ = 0.\n"
   ]
  },
  {
   "cell_type": "markdown",
   "metadata": {},
   "source": [
    "### Uploading and file_id's\n",
    "First, import the necessary packages:"
   ]
  },
  {
   "cell_type": "code",
   "execution_count": null,
   "metadata": {},
   "outputs": [],
   "source": [
    "import numpy as np\n",
    "from qci_client import QciClient"
   ]
  },
  {
   "cell_type": "code",
   "execution_count": null,
   "metadata": {},
   "outputs": [],
   "source": [
    "token = \"token_here\"\n",
    "api_url = \"https://api.qci-prod.com\"\n",
    "qclient = QciClient(api_token=token, url=api_url)"
   ]
  },
  {
   "cell_type": "markdown",
   "metadata": {},
   "source": [
    "### Formation\n",
    "For the equation above, $\\mathbf{A}\\vec{x}$ - $\\vec{b}$ = 0, we will break it down into an objective function and constraints.<br>\n",
    "<br>\n",
    "&rarr;  $\\mathbf{A}$ as the objective function, `obj` <br>\n",
    "&rarr;  $\\vec{b}$ as the constraints (`b` & `rhs`)"
   ]
  },
  {
   "cell_type": "code",
   "execution_count": null,
   "metadata": {},
   "outputs": [],
   "source": [
    "obj = np.array([[ 0. , -1.5,  0.5],\n",
    "                [-1.5,  0. ,  0. ],\n",
    "                [ 0.5,  0. ,  0. ]])"
   ]
  },
  {
   "cell_type": "markdown",
   "metadata": {},
   "source": [
    "The constraints take the form and an explicit RHS vector can be represented as  \n"
   ]
  },
  {
   "cell_type": "code",
   "execution_count": null,
   "metadata": {},
   "outputs": [],
   "source": [
    "b = np.array([[1, 0, 1],\n",
    "              [2, 2, 0]])\n",
    "rhs = -(np.array([[1],\n",
    "                [2]]))\n",
    "b, rhs"
   ]
  },
  {
   "cell_type": "code",
   "execution_count": null,
   "metadata": {},
   "outputs": [],
   "source": [
    "constraints = np.hstack((b, rhs))\n",
    "constraints"
   ]
  },
  {
   "cell_type": "markdown",
   "metadata": {},
   "source": [
    "Concatenate your objective function and constraints into two dictionaries: "
   ]
  },
  {
   "cell_type": "code",
   "execution_count": null,
   "metadata": {},
   "outputs": [],
   "source": [
    "qlcbo_obj = {\n",
    "    'file_name': \"smallest_objective.json\",\n",
    "    'file_config': {'objective':{\"data\": obj, \"num_variables\": 3}}\n",
    "}"
   ]
  },
  {
   "cell_type": "code",
   "execution_count": null,
   "metadata": {},
   "outputs": [],
   "source": [
    "qlcbo_constraints = {\n",
    "    \"file_name\": \"smallest_constraints.json\",\n",
    "    \"file_config\": {'constraints':{\"data\": constraints,\n",
    "    \"num_constraints\": 2,\n",
    "    \"num_variables\": 3}}\n",
    "}"
   ]
  },
  {
   "cell_type": "markdown",
   "metadata": {},
   "source": [
    "\n",
    "Now we can upload the various files using the client. Suppose we store the data in a variable data, then we call upload_file to push the data to the server.\n"
   ]
  },
  {
   "cell_type": "code",
   "execution_count": null,
   "metadata": {},
   "outputs": [],
   "source": [
    "response_json = qclient.upload_file(qlcbo_constraints)\n",
    "file_id_constraints = response_json[\"file_id\"]\n",
    "\n",
    "response_json = qclient.upload_file(qlcbo_obj)\n",
    "file_id_obj = response_json[\"file_id\"]"
   ]
  },
  {
   "cell_type": "markdown",
   "metadata": {},
   "source": [
    "\n",
    "\n",
    "We can extract the file_id for later use. Triggering a job to run requires the file_id to tell the backend which data to use. We cover this step in the Running Section.\n",
    "## Running\n",
    "Running a job involves two key steps to build parameters for the job:\n",
    "1. Building a job body to submit. \n",
    "2. Providing a job_type.\n",
    "\n",
    "### Building the job_body\n",
    "The job_body is a dictionary that contains the file_id's and parameter data for running the job.  All job bodies must contain the following data fields, which can be leveraged by the user to track jobs. \n"
   ]
  },
  {
   "cell_type": "markdown",
   "metadata": {},
   "source": [
    "\n",
    "It is easiest to use `qci.build_job_body()` to construct a job_body."
   ]
  },
  {
   "cell_type": "code",
   "execution_count": null,
   "metadata": {},
   "outputs": [],
   "source": [
    "job_body = qclient.build_job_body(\n",
    "    job_type=\"sample-constraint\",\n",
    "    job_params={\"nsamples\": 40, \"alpha\": 2, \"sampler_type\": \"dirac-1\"},\n",
    "    constraints_file_id=file_id_constraints,\n",
    "    objective_file_id=file_id_obj)"
   ]
  },
  {
   "cell_type": "code",
   "execution_count": null,
   "metadata": {},
   "outputs": [],
   "source": [
    "qclient.download_file(file_id=file_id_constraints)"
   ]
  },
  {
   "cell_type": "markdown",
   "metadata": {},
   "source": [
    "\n",
    "This returns a job_body with the file_id fields appended to the above dictionary. Each of these file_id's was obtained after uploading the corresponding file in the Uploading section. \n",
    "Now we can trigger a job using the following command:\n"
   ]
  },
  {
   "cell_type": "code",
   "execution_count": null,
   "metadata": {},
   "outputs": [],
   "source": [
    "job_response = qclient.process_job(job_body=job_body, job_type=\"sample-constraint\")\n",
    "job_response\n"
   ]
  },
  {
   "cell_type": "markdown",
   "metadata": {},
   "source": [
    "Below we show how to query the result object if an error occurs:"
   ]
  },
  {
   "cell_type": "code",
   "execution_count": null,
   "metadata": {},
   "outputs": [],
   "source": [
    "def error_status(job_response):\n",
    "    try:\n",
    "        if job_response['job_info']['details']['status'] == \"ERROR\":\n",
    "            return job_response['job_info']['details']['status'], job_response['job_info']['results']['error']\n",
    "        else:\n",
    "            return \"No errors detected\"\n",
    "    except KeyError:\n",
    "        return \"Error: Unable to retrieve error status information from the job response\"\n",
    "\n",
    "error_status(job_response)"
   ]
  }
 ],
 "metadata": {
  "kernelspec": {
   "display_name": "Python 3",
   "language": "python",
   "name": "python3"
  },
  "language_info": {
   "codemirror_mode": {
    "name": "ipython",
    "version": 3
   },
   "file_extension": ".py",
   "mimetype": "text/x-python",
   "name": "python",
   "nbconvert_exporter": "python",
   "pygments_lexer": "ipython3",
   "version": "3.10.11"
  }
 },
 "nbformat": 4,
 "nbformat_minor": 2
}
