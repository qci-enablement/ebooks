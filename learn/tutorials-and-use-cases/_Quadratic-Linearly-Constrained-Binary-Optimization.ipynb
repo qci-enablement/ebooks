{
 "cells": [
  {
   "cell_type": "markdown",
   "metadata": {},
   "source": [
    "# Quadratic Linearly Constrained Binary Optimization\n",
    "## Introduction\n",
    "Quadratic Unconstrained Binary Optimization (Qubo) problems can be formulated from a square, symmetric objective function and a matrix of binary constraints. Suppose we are given an objective function, $O$, of dimension $n \\times n$,  and a set of $m$ constraints, represented by the matrix $A$, with dimension $m \\times n$ and right-hand side vector $b$ of length $m$. We want to combine them into a Qubo, which can be defined as $Q = O + \\alpha (A^T A-2\\mathrm{diag}(b^TA))$, where $\\alpha \\in \\mathbb{R}$. At this point, we can find an optimal solution,\n",
    "$x^{*} = \\min_{x} x^T Q x$. \n",
    "The parameter $\\alpha$ plays an important role in guaranteeing that the constraints are satisfied. We will not go into more detail on this page. \n",
    "We will define a simple problem on the Upload tab and show how to upload the components. The examples on the Running tab will describe how to run the constraint problem. \n",
    "Suppose the original problem we want to minimize is \n",
    "$-3xy + xz,$\n",
    "subject to the constraints $x + z = 1$ and  $2x + 2y= 2$.\n",
    "\n",
    "\n",
    "\n",
    "\n",
    "## Uploading\n",
    "There are three matrix components that can be associated with to a constraint problem of this type. The objective function in matrix form, the linear constraints matrix, and an optional right-hand side (RHS) represent the linear constraints themselves. This can optionally be appended to the last column of the aforementioned constraints matrix. We will describe them and their upload formats in what follows. \n",
    "The objective matrix is written \n"
   ]
  },
  {
   "cell_type": "markdown",
   "metadata": {},
   "source": [
    "### Uploading and file_id's\n",
    "First, import the necessary packages:"
   ]
  },
  {
   "cell_type": "code",
   "execution_count": 1,
   "metadata": {},
   "outputs": [],
   "source": [
    "import numpy as np\n",
    "import json\n",
    "from qci_client import QciClient"
   ]
  },
  {
   "cell_type": "code",
   "execution_count": 2,
   "metadata": {},
   "outputs": [],
   "source": [
    "token = \"22f1f3d275d713f18f46c8020eab9848\"\n",
    "api_url = \"https://api.qci-prod.com\"\n",
    "qclient = QciClient(api_token=token, url=api_url)"
   ]
  },
  {
   "cell_type": "code",
   "execution_count": 3,
   "metadata": {},
   "outputs": [],
   "source": [
    "obj = np.array([[ 0. , -1.5,  0.5],\n",
    "                [-1.5,  0. ,  0. ],\n",
    "                [ 0.5,  0. ,  0. ]])"
   ]
  },
  {
   "cell_type": "markdown",
   "metadata": {},
   "source": [
    "The constraints take the form and an explicit RHS vector can be represented as  \n"
   ]
  },
  {
   "cell_type": "code",
   "execution_count": 4,
   "metadata": {},
   "outputs": [
    {
     "data": {
      "text/plain": [
       "(array([[1, 0, 1],\n",
       "        [2, 2, 0]]),\n",
       " array([[-1],\n",
       "        [-2]]))"
      ]
     },
     "execution_count": 4,
     "metadata": {},
     "output_type": "execute_result"
    }
   ],
   "source": [
    "A = np.array([[1, 0, 1],\n",
    "              [2, 2, 0]])\n",
    "rhs = -(np.array([[1],\n",
    "                [2]]))\n",
    "A, rhs"
   ]
  },
  {
   "cell_type": "code",
   "execution_count": 5,
   "metadata": {},
   "outputs": [
    {
     "data": {
      "text/plain": [
       "array([[ 1,  0,  1, -1],\n",
       "       [ 2,  2,  0, -2]])"
      ]
     },
     "execution_count": 5,
     "metadata": {},
     "output_type": "execute_result"
    }
   ],
   "source": [
    "constraints = np.hstack((A, rhs))\n",
    "constraints"
   ]
  },
  {
   "cell_type": "markdown",
   "metadata": {},
   "source": [
    "\n",
    "### API format\n",
    "We encode the above in a sparse dictionary format for the upload step to the API:\n",
    "### Objective \n",
    "It is essential to label the file_type value as \"objective\":\n"
   ]
  },
  {
   "cell_type": "code",
   "execution_count": 6,
   "metadata": {},
   "outputs": [],
   "source": [
    "qlcbo_data = {\n",
    "    'file_name': \"smallest_objective.json\",\n",
    "    'file_config': {'objective':{\"data\": obj, \"num_variables\": 3}}\n",
    "}"
   ]
  },
  {
   "cell_type": "markdown",
   "metadata": {},
   "source": [
    "\n",
    "### Constraints\n",
    "Similarly, the file_type must be labels as \"constraints\" for the constraints matrix.\n"
   ]
  },
  {
   "cell_type": "markdown",
   "metadata": {},
   "source": [
    "### RHS\n",
    " Similarly, file_type should be \"rhs\" for the optional RHS vector.\n"
   ]
  },
  {
   "cell_type": "code",
   "execution_count": 7,
   "metadata": {},
   "outputs": [],
   "source": [
    "qlcbo_constraints = {\n",
    "    \"file_name\": \"smallest_constraints.json\",\n",
    "    \"file_config\": {'constraints':{\"data\": constraints,\n",
    "    \"num_constraints\": 2,\n",
    "    \"num_variables\": 3}}\n",
    "}"
   ]
  },
  {
   "cell_type": "markdown",
   "metadata": {},
   "source": [
    "\n",
    "Now we can upload the various files using the client. Suppose we store the data in a variable data. Then we call upload_file to push the data to the server.\n"
   ]
  },
  {
   "cell_type": "code",
   "execution_count": 8,
   "metadata": {},
   "outputs": [],
   "source": [
    "response_json = qclient.upload_file(qlcbo_constraints)\n",
    "file_id_constraints = response_json[\"file_id\"]\n",
    "\n",
    "response_json = qclient.upload_file(qlcbo_data)\n",
    "file_id_obj = response_json[\"file_id\"]"
   ]
  },
  {
   "cell_type": "code",
   "execution_count": 12,
   "metadata": {},
   "outputs": [
    {
     "name": "stdout",
     "output_type": "stream",
     "text": [
      "66032d8b38d25ec78cae8d54\n"
     ]
    }
   ],
   "source": [
    "print(file_id_constraints)"
   ]
  },
  {
   "cell_type": "markdown",
   "metadata": {},
   "source": [
    "\n",
    "\n",
    "We can extract the file_id for later use. Triggering a job to run requires the file_id to tell the backend which data to use. We cover this step in the Running tab.\n",
    "## Running\n",
    "Running a job involves two key steps to build parameters for the job:\n",
    "1. Building a job body to submit. \n",
    "2. Providing a job_type.\n",
    "\n",
    "### Building the job_body\n",
    "The job_body is a dictionary that contains the file_id's and parameter data for running the job.  All job bodies must contain the following data fields, which can be leveraged by the user to track jobs. \n"
   ]
  },
  {
   "cell_type": "markdown",
   "metadata": {},
   "source": [
    "\n",
    "It is easiest to use `qci.build_job_body()` to construct a job_body. For example,\n",
    "## *Something referring to the alpha parameter*"
   ]
  },
  {
   "cell_type": "code",
   "execution_count": 9,
   "metadata": {},
   "outputs": [],
   "source": [
    "job_body = qclient.build_job_body(\n",
    "    job_type=\"sample-constraint\",\n",
    "    job_params = {\"sampler_type\": \"dirac-1\", \"alpha\": 2, \"nsamples\": 5},\n",
    "    constraints_file_id=file_id_constraints,\n",
    "    objective_file_id=file_id_obj)"
   ]
  },
  {
   "cell_type": "code",
   "execution_count": 10,
   "metadata": {},
   "outputs": [
    {
     "data": {
      "text/plain": [
       "{'file_id': '66032d8b38d25ec78cae8d54',\n",
       " 'num_parts': 1,\n",
       " 'num_bytes': 373,\n",
       " 'file_name': 'smallest_constraints.json',\n",
       " 'file_config': {'constraints': {'num_constraints': 2,\n",
       "   'num_variables': 4,\n",
       "   'data': [{'i': 0, 'j': 0, 'val': 1},\n",
       "    {'i': 0, 'j': 2, 'val': 1},\n",
       "    {'i': 0, 'j': 3, 'val': -1},\n",
       "    {'i': 1, 'j': 0, 'val': 2},\n",
       "    {'i': 1, 'j': 1, 'val': 2},\n",
       "    {'i': 1, 'j': 3, 'val': -2}]}}}"
      ]
     },
     "execution_count": 10,
     "metadata": {},
     "output_type": "execute_result"
    }
   ],
   "source": [
    "qclient.download_file(file_id=file_id_constraints)"
   ]
  },
  {
   "cell_type": "markdown",
   "metadata": {},
   "source": [
    "\n",
    "This returns a job_body with the file_id fields appended to the above dictionary. Each of these file_id's was obtained after uploading the corresponding file in the Uploading section. \n",
    "Now we can trigger a job using the following command:\n"
   ]
  },
  {
   "cell_type": "code",
   "execution_count": 11,
   "metadata": {},
   "outputs": [
    {
     "name": "stdout",
     "output_type": "stream",
     "text": [
      "Dirac allocation balance = 0\n"
     ]
    },
    {
     "ename": "AssertionError",
     "evalue": "Error: {\"message\":\"File at field job_submission.problem_config.quadratic_linearly_constrained_binary_optimization.constraints_file_id does not have same number of variables as file at field job_submission.problem_config.quadratic_linearly_constrained_binary_optimization.objective_file_id\"}. Received error code 400",
     "output_type": "error",
     "traceback": [
      "\u001b[0;31m---------------------------------------------------------------------------\u001b[0m",
      "\u001b[0;31mAssertionError\u001b[0m                            Traceback (most recent call last)",
      "\u001b[1;32m/Users/dylan/Documents/qci-data/learn/tutorials-and-use-cases/_Quadratic-Linearly-Constrained-Binary-Optimization.ipynb Cell 22\u001b[0m line \u001b[0;36m1\n\u001b[0;32m----> <a href='vscode-notebook-cell:/Users/dylan/Documents/qci-data/learn/tutorials-and-use-cases/_Quadratic-Linearly-Constrained-Binary-Optimization.ipynb#Y133sZmlsZQ%3D%3D?line=0'>1</a>\u001b[0m job_response \u001b[39m=\u001b[39m qclient\u001b[39m.\u001b[39;49mprocess_job(job_body\u001b[39m=\u001b[39;49mjob_body, job_type\u001b[39m=\u001b[39;49m\u001b[39m\"\u001b[39;49m\u001b[39msample-constraint\u001b[39;49m\u001b[39m\"\u001b[39;49m)\n",
      "File \u001b[0;32m~/Documents/eqc3_test/venv/lib/python3.10/site-packages/qci_client/qci_client.py:559\u001b[0m, in \u001b[0;36mQciClient.process_job\u001b[0;34m(self, job_type, job_body, wait)\u001b[0m\n\u001b[1;32m    557\u001b[0m \u001b[39mprint\u001b[39m(\u001b[39mf\u001b[39m\u001b[39m\"\u001b[39m\u001b[39mDirac allocation balance = \u001b[39m\u001b[39m{\u001b[39;00mdirac_allocation\u001b[39m}\u001b[39;00m\u001b[39m\"\u001b[39m)\n\u001b[1;32m    558\u001b[0m \u001b[39mself\u001b[39m\u001b[39m.\u001b[39mvalidate_job_type(job_type\u001b[39m=\u001b[39mjob_type)\n\u001b[0;32m--> 559\u001b[0m submit_response \u001b[39m=\u001b[39m \u001b[39mself\u001b[39;49m\u001b[39m.\u001b[39;49msubmit_job(job_body\u001b[39m=\u001b[39;49mjob_body, job_type\u001b[39m=\u001b[39;49mjob_type)\n\u001b[1;32m    560\u001b[0m job_id \u001b[39m=\u001b[39m submit_response[\u001b[39m\"\u001b[39m\u001b[39mjob_id\u001b[39m\u001b[39m\"\u001b[39m]\n\u001b[1;32m    561\u001b[0m \u001b[39mself\u001b[39m\u001b[39m.\u001b[39mprint_job_log(message\u001b[39m=\u001b[39m\u001b[39mf\u001b[39m\u001b[39m\"\u001b[39m\u001b[39mJob submitted job_id=\u001b[39m\u001b[39m'\u001b[39m\u001b[39m{\u001b[39;00mjob_id\u001b[39m}\u001b[39;00m\u001b[39m'\u001b[39m\u001b[39m-\u001b[39m\u001b[39m\"\u001b[39m)\n",
      "File \u001b[0;32m~/Documents/eqc3_test/venv/lib/python3.10/site-packages/qci_client/base.py:172\u001b[0m, in \u001b[0;36mBaseApi.refresh_token.<locals>.check_token\u001b[0;34m(api, *args, **kwargs)\u001b[0m\n\u001b[1;32m    170\u001b[0m \u001b[39mif\u001b[39;00m is_expired:\n\u001b[1;32m    171\u001b[0m     api\u001b[39m.\u001b[39mset_bearer_token()\n\u001b[0;32m--> 172\u001b[0m     \u001b[39mreturn\u001b[39;00m func(api, \u001b[39m*\u001b[39;49margs, \u001b[39m*\u001b[39;49m\u001b[39m*\u001b[39;49mkwargs)\n\u001b[1;32m    173\u001b[0m \u001b[39m# still have time on the token, so just pass the wrapped func through\u001b[39;00m\n\u001b[1;32m    174\u001b[0m \u001b[39mreturn\u001b[39;00m func(api, \u001b[39m*\u001b[39margs, \u001b[39m*\u001b[39m\u001b[39m*\u001b[39mkwargs)\n",
      "File \u001b[0;32m~/Documents/eqc3_test/venv/lib/python3.10/site-packages/qci_client/qci_client.py:308\u001b[0m, in \u001b[0;36mQciClient.submit_job\u001b[0;34m(self, job_body, job_type)\u001b[0m\n\u001b[1;32m    299\u001b[0m \u001b[39mself\u001b[39m\u001b[39m.\u001b[39mvalidate_job_type(job_type\u001b[39m=\u001b[39mjob_type)\n\u001b[1;32m    300\u001b[0m response \u001b[39m=\u001b[39m \u001b[39mself\u001b[39m\u001b[39m.\u001b[39msession\u001b[39m.\u001b[39mrequest(\n\u001b[1;32m    301\u001b[0m     \u001b[39m\"\u001b[39m\u001b[39mPOST\u001b[39m\u001b[39m\"\u001b[39m,\n\u001b[1;32m    302\u001b[0m     \u001b[39mself\u001b[39m\u001b[39m.\u001b[39mget_job_url(),\n\u001b[0;32m   (...)\u001b[0m\n\u001b[1;32m    306\u001b[0m     verify\u001b[39m=\u001b[39m\u001b[39mself\u001b[39m\u001b[39m.\u001b[39mverify,\n\u001b[1;32m    307\u001b[0m )\n\u001b[0;32m--> 308\u001b[0m \u001b[39mself\u001b[39;49m\u001b[39m.\u001b[39;49m_check_response_error(response\u001b[39m=\u001b[39;49mresponse)\n\u001b[1;32m    309\u001b[0m \u001b[39mreturn\u001b[39;00m response\u001b[39m.\u001b[39mjson()\n",
      "File \u001b[0;32m~/Documents/eqc3_test/venv/lib/python3.10/site-packages/qci_client/base.py:126\u001b[0m, in \u001b[0;36mBaseApi._check_response_error\u001b[0;34m(self, response)\u001b[0m\n\u001b[1;32m    120\u001b[0m \u001b[39mdef\u001b[39;00m \u001b[39m_check_response_error\u001b[39m(\u001b[39mself\u001b[39m, response: requests\u001b[39m.\u001b[39mResponse) \u001b[39m-\u001b[39m\u001b[39m>\u001b[39m \u001b[39mNone\u001b[39;00m:\n\u001b[1;32m    121\u001b[0m \u001b[39m    \u001b[39m\u001b[39m\"\"\"\u001b[39;00m\n\u001b[1;32m    122\u001b[0m \u001b[39m    Single place to update error check and message for API calls\u001b[39;00m\n\u001b[1;32m    123\u001b[0m \u001b[39m    :param response: a response from any API call using the requests package\u001b[39;00m\n\u001b[1;32m    124\u001b[0m \u001b[39m    \"\"\"\u001b[39;00m\n\u001b[1;32m    125\u001b[0m     \u001b[39massert\u001b[39;00m (\n\u001b[0;32m--> 126\u001b[0m         response\u001b[39m.\u001b[39mstatus_code \u001b[39m<\u001b[39m \u001b[39m300\u001b[39m\n\u001b[1;32m    127\u001b[0m     ), \u001b[39mf\u001b[39m\u001b[39m\"\u001b[39m\u001b[39mError: \u001b[39m\u001b[39m{\u001b[39;00mresponse\u001b[39m.\u001b[39mtext\u001b[39m}\u001b[39;00m\u001b[39m. Received error code \u001b[39m\u001b[39m{\u001b[39;00mresponse\u001b[39m.\u001b[39mstatus_code\u001b[39m}\u001b[39;00m\u001b[39m\"\u001b[39m\n",
      "\u001b[0;31mAssertionError\u001b[0m: Error: {\"message\":\"File at field job_submission.problem_config.quadratic_linearly_constrained_binary_optimization.constraints_file_id does not have same number of variables as file at field job_submission.problem_config.quadratic_linearly_constrained_binary_optimization.objective_file_id\"}. Received error code 400"
     ]
    }
   ],
   "source": [
    "job_response = qclient.process_job(job_body=job_body, job_type=\"sample-constraint\")"
   ]
  },
  {
   "cell_type": "markdown",
   "metadata": {},
   "source": [
    "\n",
    "By default, process_job polls for a job to finish. To extract results from a successful job\n"
   ]
  },
  {
   "cell_type": "code",
   "execution_count": null,
   "metadata": {},
   "outputs": [],
   "source": [
    "results_list = list(job_response['results']) # defaults to generator\n",
    "print(results_list[0]['energies'])  # first entries, lowest energy\n",
    "print(results_list[0]['samples']).\n"
   ]
  }
 ],
 "metadata": {
  "kernelspec": {
   "display_name": "Python 3",
   "language": "python",
   "name": "python3"
  },
  "language_info": {
   "codemirror_mode": {
    "name": "ipython",
    "version": 3
   },
   "file_extension": ".py",
   "mimetype": "text/x-python",
   "name": "python",
   "nbconvert_exporter": "python",
   "pygments_lexer": "ipython3",
   "version": "3.10.11"
  }
 },
 "nbformat": 4,
 "nbformat_minor": 2
}
