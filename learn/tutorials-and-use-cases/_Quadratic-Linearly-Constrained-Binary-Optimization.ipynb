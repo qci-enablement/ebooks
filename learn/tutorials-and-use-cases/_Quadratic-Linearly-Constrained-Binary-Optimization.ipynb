{
 "cells": [
  {
   "cell_type": "markdown",
   "metadata": {},
   "source": [
    "# Quadratic Linearly Constrained Binary Optimization\n",
    "## Introduction\n",
    "Quadratic Unconstrained Binary Optimization (Qubo) problems can be formulated from a square, symmetric objective function and a matrix of binary constraints. Suppose we are given an objective function, $O$, of dimension $n \\times n$,  and a set of $m$ constraints, represented by the matrix $A$, with dimension $m \\times n$ and right-hand side vector $b$ of length $m$. We want to combine them into a Qubo, which can be defined as $Q = O + \\alpha (A^T A-2\\mathrm{diag}(b^TA))$, where $\\alpha \\in \\mathbb{R}$. At this point, we can find an optimal solution,\n",
    "$x^{*} = \\min_{x} x^T Q x$. \n",
    "The parameter $\\alpha$ plays an important role in guaranteeing that the constraints are satisfied. We will not go into more detail on this page. \n",
    "We will define a simple problem on the Upload tab and show how to upload the components. The examples on the Running tab will describe how to run the constraint problem. \n",
    "Suppose the original problem we want to minimize is \n",
    "$-3xy + xz,$\n",
    "subject to the constraints $x + z = 1$ and  $2x + 2y= 2$.\n",
    "\n",
    "\n",
    "\n",
    "\n",
    "## Uploading\n",
    "There are three matrix components that can be associated with to a constraint problem of this type. The objective function in matrix form, the linear constraints matrix, and the right-hand side (RHS) represent the linear constraints themselves. The format should follow the transformation from $\\mathbf{A}\\vec{x}$ = $\\vec{b}$  &rarr;  $\\mathbf{A}\\vec{x}$ - $\\vec{b}$ = 0.\n"
   ]
  },
  {
   "cell_type": "markdown",
   "metadata": {},
   "source": [
    "### Uploading and file_id's\n",
    "First, import the necessary packages:"
   ]
  },
  {
   "cell_type": "code",
   "execution_count": 30,
   "metadata": {},
   "outputs": [],
   "source": [
    "import numpy as np\n",
    "from qci_client import QciClient"
   ]
  },
  {
   "cell_type": "code",
   "execution_count": 31,
   "metadata": {},
   "outputs": [],
   "source": [
    "token = \"22f1f3d275d713f18f46c8020eab9848\"\n",
    "api_url = \"https://api.qci-prod.com\"\n",
    "qclient = QciClient(api_token=token, url=api_url)"
   ]
  },
  {
   "cell_type": "markdown",
   "metadata": {},
   "source": [
    "### Formation\n",
    "For the equation above, $\\mathbf{A}\\vec{x}$ - $\\vec{b}$ = 0, we will break it down into an objective function and constraints.<br>\n",
    "<br>\n",
    "&rarr;  $\\mathbf{A}$ as the objective function, `obj` <br>\n",
    "&rarr;  $\\vec{b}$ as the constraints (`b` & `rhs`)"
   ]
  },
  {
   "cell_type": "code",
   "execution_count": 32,
   "metadata": {},
   "outputs": [],
   "source": [
    "obj = np.array([[ 0. , -1.5,  0.5],\n",
    "                [-1.5,  0. ,  0. ],\n",
    "                [ 0.5,  0. ,  0. ]])"
   ]
  },
  {
   "cell_type": "markdown",
   "metadata": {},
   "source": [
    "The constraints take the form and an explicit RHS vector can be represented as  \n"
   ]
  },
  {
   "cell_type": "code",
   "execution_count": 33,
   "metadata": {},
   "outputs": [
    {
     "data": {
      "text/plain": [
       "(array([[1, 0, 1],\n",
       "        [2, 2, 0]]),\n",
       " array([[-1],\n",
       "        [-2]]))"
      ]
     },
     "execution_count": 33,
     "metadata": {},
     "output_type": "execute_result"
    }
   ],
   "source": [
    "b = np.array([[1, 0, 1],\n",
    "              [2, 2, 0]])\n",
    "rhs = -(np.array([[1],\n",
    "                [2]]))\n",
    "b, rhs"
   ]
  },
  {
   "cell_type": "code",
   "execution_count": 34,
   "metadata": {},
   "outputs": [
    {
     "data": {
      "text/plain": [
       "array([[ 1,  0,  1, -1],\n",
       "       [ 2,  2,  0, -2]])"
      ]
     },
     "execution_count": 34,
     "metadata": {},
     "output_type": "execute_result"
    }
   ],
   "source": [
    "constraints = np.hstack((b, rhs))\n",
    "constraints"
   ]
  },
  {
   "cell_type": "markdown",
   "metadata": {},
   "source": [
    "Concatenate your objective function and constraints into two dictionaries: "
   ]
  },
  {
   "cell_type": "code",
   "execution_count": 35,
   "metadata": {},
   "outputs": [],
   "source": [
    "qlcbo_obj = {\n",
    "    'file_name': \"smallest_objective.json\",\n",
    "    'file_config': {'objective':{\"data\": obj, \"num_variables\": 3}}\n",
    "}"
   ]
  },
  {
   "cell_type": "code",
   "execution_count": 36,
   "metadata": {},
   "outputs": [],
   "source": [
    "qlcbo_constraints = {\n",
    "    \"file_name\": \"smallest_constraints.json\",\n",
    "    \"file_config\": {'constraints':{\"data\": constraints,\n",
    "    \"num_constraints\": 2,\n",
    "    \"num_variables\": 3}}\n",
    "}"
   ]
  },
  {
   "cell_type": "markdown",
   "metadata": {},
   "source": [
    "\n",
    "Now we can upload the various files using the client. Suppose we store the data in a variable data, then we call upload_file to push the data to the server.\n"
   ]
  },
  {
   "cell_type": "code",
   "execution_count": 37,
   "metadata": {},
   "outputs": [],
   "source": [
    "response_json = qclient.upload_file(qlcbo_constraints)\n",
    "file_id_constraints = response_json[\"file_id\"]\n",
    "\n",
    "response_json = qclient.upload_file(qlcbo_obj)\n",
    "file_id_obj = response_json[\"file_id\"]"
   ]
  },
  {
   "cell_type": "markdown",
   "metadata": {},
   "source": [
    "\n",
    "\n",
    "We can extract the file_id for later use. Triggering a job to run requires the file_id to tell the backend which data to use. We cover this step in the Running tab.\n",
    "## Running\n",
    "Running a job involves two key steps to build parameters for the job:\n",
    "1. Building a job body to submit. \n",
    "2. Providing a job_type.\n",
    "\n",
    "### Building the job_body\n",
    "The job_body is a dictionary that contains the file_id's and parameter data for running the job.  All job bodies must contain the following data fields, which can be leveraged by the user to track jobs. \n"
   ]
  },
  {
   "cell_type": "markdown",
   "metadata": {},
   "source": [
    "\n",
    "It is easiest to use `qci.build_job_body()` to construct a job_body."
   ]
  },
  {
   "cell_type": "code",
   "execution_count": 40,
   "metadata": {},
   "outputs": [],
   "source": [
    "job_body = qclient.build_job_body(\n",
    "    job_type=\"sample-constraint\",\n",
    "    job_params={\"nsamples\": 40, \"alpha\": 2, \"sampler_type\": \"dirac-1\", \"relaxation_schedule\": 2},\n",
    "    constraints_file_id=file_id_constraints,\n",
    "    objective_file_id=file_id_obj)"
   ]
  },
  {
   "cell_type": "code",
   "execution_count": 41,
   "metadata": {},
   "outputs": [
    {
     "data": {
      "text/plain": [
       "{'file_id': '6606f2c938d25ec78cae9578',\n",
       " 'num_parts': 1,\n",
       " 'num_bytes': 373,\n",
       " 'file_name': 'smallest_constraints.json',\n",
       " 'file_config': {'constraints': {'num_constraints': 2,\n",
       "   'num_variables': 3,\n",
       "   'data': [{'i': 0, 'j': 0, 'val': 1},\n",
       "    {'i': 0, 'j': 2, 'val': 1},\n",
       "    {'i': 0, 'j': 3, 'val': -1},\n",
       "    {'i': 1, 'j': 0, 'val': 2},\n",
       "    {'i': 1, 'j': 1, 'val': 2},\n",
       "    {'i': 1, 'j': 3, 'val': -2}]}}}"
      ]
     },
     "execution_count": 41,
     "metadata": {},
     "output_type": "execute_result"
    }
   ],
   "source": [
    "qclient.download_file(file_id=file_id_constraints)"
   ]
  },
  {
   "cell_type": "markdown",
   "metadata": {},
   "source": [
    "\n",
    "This returns a job_body with the file_id fields appended to the above dictionary. Each of these file_id's was obtained after uploading the corresponding file in the Uploading section. \n",
    "Now we can trigger a job using the following command:\n"
   ]
  },
  {
   "cell_type": "code",
   "execution_count": 42,
   "metadata": {},
   "outputs": [
    {
     "name": "stdout",
     "output_type": "stream",
     "text": [
      "Dirac allocation balance = 0 s (unmetered)\n",
      "Job submitted job_id='6606f2cb832ac38bab8fe517'-: 2024/03/29 12:56:43\n",
      "RUNNING: 2024/03/29 12:56:45\n"
     ]
    },
    {
     "ename": "KeyboardInterrupt",
     "evalue": "",
     "output_type": "error",
     "traceback": [
      "\u001b[0;31m---------------------------------------------------------------------------\u001b[0m",
      "\u001b[0;31mKeyboardInterrupt\u001b[0m                         Traceback (most recent call last)",
      "\u001b[1;32m/Users/dylan/Documents/qci-data/learn/tutorials-and-use-cases/_Quadratic-Linearly-Constrained-Binary-Optimization.ipynb Cell 24\u001b[0m line \u001b[0;36m1\n\u001b[0;32m----> <a href='vscode-notebook-cell:/Users/dylan/Documents/qci-data/learn/tutorials-and-use-cases/_Quadratic-Linearly-Constrained-Binary-Optimization.ipynb#X31sZmlsZQ%3D%3D?line=0'>1</a>\u001b[0m job_response \u001b[39m=\u001b[39m qclient\u001b[39m.\u001b[39;49mprocess_job(job_body\u001b[39m=\u001b[39;49mjob_body, job_type\u001b[39m=\u001b[39;49m\u001b[39m\"\u001b[39;49m\u001b[39msample-constraint\u001b[39;49m\u001b[39m\"\u001b[39;49m)\n",
      "File \u001b[0;32m~/Documents/qci-data/venv/lib/python3.10/site-packages/qci_client/qci_client.py:570\u001b[0m, in \u001b[0;36mQciClient.process_job\u001b[0;34m(self, job_type, job_body, wait)\u001b[0m\n\u001b[1;32m    568\u001b[0m curr_status \u001b[39m=\u001b[39m \u001b[39m\"\u001b[39m\u001b[39m\"\u001b[39m\n\u001b[1;32m    569\u001b[0m \u001b[39mwhile\u001b[39;00m curr_status \u001b[39mnot\u001b[39;00m \u001b[39min\u001b[39;00m FINAL_STATUSES:\n\u001b[0;32m--> 570\u001b[0m     time\u001b[39m.\u001b[39;49msleep(\u001b[39m1\u001b[39;49m)\n\u001b[1;32m    571\u001b[0m     iter_status \u001b[39m=\u001b[39m \u001b[39mself\u001b[39m\u001b[39m.\u001b[39mget_job_status(job_id\u001b[39m=\u001b[39mjob_id)[\u001b[39m\"\u001b[39m\u001b[39mstatus\u001b[39m\u001b[39m\"\u001b[39m]\n\u001b[1;32m    573\u001b[0m     \u001b[39mif\u001b[39;00m iter_status \u001b[39m!=\u001b[39m curr_status:\n",
      "\u001b[0;31mKeyboardInterrupt\u001b[0m: "
     ]
    }
   ],
   "source": [
    "job_response = qclient.process_job(job_body=job_body, job_type=\"sample-constraint\")\n",
    "job_response\n"
   ]
  },
  {
   "cell_type": "markdown",
   "metadata": {},
   "source": [
    "Below we show how to query the result object if an error occurs:"
   ]
  },
  {
   "cell_type": "code",
   "execution_count": null,
   "metadata": {},
   "outputs": [
    {
     "ename": "TypeError",
     "evalue": "string indices must be integers",
     "output_type": "error",
     "traceback": [
      "\u001b[0;31m---------------------------------------------------------------------------\u001b[0m",
      "\u001b[0;31mTypeError\u001b[0m                                 Traceback (most recent call last)",
      "\u001b[1;32m/Users/dylan/Documents/qci-data/learn/tutorials-and-use-cases/_Quadratic-Linearly-Constrained-Binary-Optimization.ipynb Cell 25\u001b[0m line \u001b[0;36m2\n\u001b[1;32m      <a href='vscode-notebook-cell:/Users/dylan/Documents/qci-data/learn/tutorials-and-use-cases/_Quadratic-Linearly-Constrained-Binary-Optimization.ipynb#X33sZmlsZQ%3D%3D?line=0'>1</a>\u001b[0m results_list \u001b[39m=\u001b[39m \u001b[39mlist\u001b[39m(job_response[\u001b[39m'\u001b[39m\u001b[39mresults\u001b[39m\u001b[39m'\u001b[39m]) \u001b[39m# defaults to generator\u001b[39;00m\n\u001b[0;32m----> <a href='vscode-notebook-cell:/Users/dylan/Documents/qci-data/learn/tutorials-and-use-cases/_Quadratic-Linearly-Constrained-Binary-Optimization.ipynb#X33sZmlsZQ%3D%3D?line=1'>2</a>\u001b[0m \u001b[39mprint\u001b[39m(results_list[\u001b[39m0\u001b[39;49m][\u001b[39m'\u001b[39;49m\u001b[39menergies\u001b[39;49m\u001b[39m'\u001b[39;49m])  \u001b[39m# first entries, lowest energy\u001b[39;00m\n\u001b[1;32m      <a href='vscode-notebook-cell:/Users/dylan/Documents/qci-data/learn/tutorials-and-use-cases/_Quadratic-Linearly-Constrained-Binary-Optimization.ipynb#X33sZmlsZQ%3D%3D?line=2'>3</a>\u001b[0m \u001b[39mprint\u001b[39m(results_list[\u001b[39m0\u001b[39m][\u001b[39m'\u001b[39m\u001b[39msamples\u001b[39m\u001b[39m'\u001b[39m])\n\u001b[1;32m      <a href='vscode-notebook-cell:/Users/dylan/Documents/qci-data/learn/tutorials-and-use-cases/_Quadratic-Linearly-Constrained-Binary-Optimization.ipynb#X33sZmlsZQ%3D%3D?line=4'>5</a>\u001b[0m \u001b[39m\"\"\"def error_status(job_response):\u001b[39;00m\n\u001b[1;32m      <a href='vscode-notebook-cell:/Users/dylan/Documents/qci-data/learn/tutorials-and-use-cases/_Quadratic-Linearly-Constrained-Binary-Optimization.ipynb#X33sZmlsZQ%3D%3D?line=5'>6</a>\u001b[0m \u001b[39m    try:\u001b[39;00m\n\u001b[1;32m      <a href='vscode-notebook-cell:/Users/dylan/Documents/qci-data/learn/tutorials-and-use-cases/_Quadratic-Linearly-Constrained-Binary-Optimization.ipynb#X33sZmlsZQ%3D%3D?line=6'>7</a>\u001b[0m \u001b[39m        if job_response['job_info']['details']['status'] == \"ERROR\":\u001b[39;00m\n\u001b[0;32m   (...)\u001b[0m\n\u001b[1;32m     <a href='vscode-notebook-cell:/Users/dylan/Documents/qci-data/learn/tutorials-and-use-cases/_Quadratic-Linearly-Constrained-Binary-Optimization.ipynb#X33sZmlsZQ%3D%3D?line=12'>13</a>\u001b[0m \n\u001b[1;32m     <a href='vscode-notebook-cell:/Users/dylan/Documents/qci-data/learn/tutorials-and-use-cases/_Quadratic-Linearly-Constrained-Binary-Optimization.ipynb#X33sZmlsZQ%3D%3D?line=13'>14</a>\u001b[0m \u001b[39merror_status(job_response)\"\"\"\u001b[39;00m\n",
      "\u001b[0;31mTypeError\u001b[0m: string indices must be integers"
     ]
    }
   ],
   "source": [
    "def error_status(job_response):\n",
    "    try:\n",
    "        if job_response['job_info']['details']['status'] == \"ERROR\":\n",
    "            return job_response['job_info']['details']['status'], job_response['job_info']['results']['error']\n",
    "        else:\n",
    "            return \"No errors detected\"\n",
    "    except KeyError:\n",
    "        return \"Error: Unable to retrieve error status information from the job response\"\n",
    "\n",
    "error_status(job_response)"
   ]
  }
 ],
 "metadata": {
  "kernelspec": {
   "display_name": "Python 3",
   "language": "python",
   "name": "python3"
  },
  "language_info": {
   "codemirror_mode": {
    "name": "ipython",
    "version": 3
   },
   "file_extension": ".py",
   "mimetype": "text/x-python",
   "name": "python",
   "nbconvert_exporter": "python",
   "pygments_lexer": "ipython3",
   "version": "3.10.11"
  }
 },
 "nbformat": 4,
 "nbformat_minor": 2
}
