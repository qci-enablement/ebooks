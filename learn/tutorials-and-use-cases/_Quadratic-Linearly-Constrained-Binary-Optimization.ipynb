{
 "cells": [
  {
   "cell_type": "markdown",
   "metadata": {},
   "source": [
    "# Quadratic Linearly Constrained Binary Optimization\n",
    "## Introduction\n",
    "Quadratic Unconstrained Binary Optimization (Qubo) problems can be formulated from a square, symmetric objective function and a matrix of binary constraints. Suppose we are given an objective function, $O$, of dimension $n \\times n$,  and a set of $m$ constraints, represented by the matrix $A$, with dimension $m \\times n$ and right-hand side vector $b$ of length $m$. We want to combine them into a Qubo, which can be defined as $Q = O + \\alpha (A^T A-2\\mathrm{diag}(b^TA))$, where $\\alpha \\in \\mathbb{R}$. At this point, we can find an optimal solution,\n",
    "$x^{*} = \\min_{x} x^T Q x$. \n",
    "The parameter $\\alpha$ plays an important role in guaranteeing that the constraints are satisfied. We will not go into more detail on this page. \n",
    "We will define a simple problem on the Upload tab and show how to upload the components. The examples on the Running tab will describe how to run the constraint problem. \n",
    "Suppose the original problem we want to minimize is \n",
    "$-3xy + xz,$\n",
    "subject to the constraints $x + z = 1$ and  $2x + 2y= 2$.\n",
    "\n",
    "\n",
    "\n",
    "\n",
    "## Uploading\n",
    "There are three matrix components that can be associated with to a constraint problem of this type. The objective function in matrix form, the linear constraints matrix, and an optional right-hand side (RHS) represent the linear constraints themselves. This can optionally be appended to the last column of the aforementioned constraints matrix. We will describe them and their upload formats in what follows. \n",
    "The objective matrix is written \n"
   ]
  },
  {
   "cell_type": "code",
   "execution_count": null,
   "metadata": {},
   "outputs": [],
   "source": [
    "import numpy as np\n",
    "obj = np.array([[ 0. , -1.5,  0.5],\n",
    "                [-1.5,  0. ,  0. ],\n",
    "                [ 0.5,  0. ,  0. ]]).\n"
   ]
  },
  {
   "cell_type": "markdown",
   "metadata": {},
   "source": [
    "The constraints take the form\n"
   ]
  },
  {
   "cell_type": "code",
   "execution_count": null,
   "metadata": {},
   "outputs": [],
   "source": [
    "A = np.array([[1, 0, 1],\n",
    "              [2, 2, 0]])"
   ]
  },
  {
   "cell_type": "markdown",
   "metadata": {},
   "source": [
    "and an explicit RHS vector can be represented as  \n"
   ]
  },
  {
   "cell_type": "code",
   "execution_count": null,
   "metadata": {},
   "outputs": [],
   "source": [
    "rhs = np.array([[1],\n",
    "                [2]])."
   ]
  },
  {
   "cell_type": "markdown",
   "metadata": {},
   "source": [
    "\n",
    "### API format\n",
    "We encode the above in a sparse dictionary format for the upload step to the API:\n",
    "### Objective \n",
    "It is essential to label the file_type value as \"objective\":\n"
   ]
  },
  {
   "cell_type": "code",
   "execution_count": null,
   "metadata": {},
   "outputs": [],
   "source": [
    "{\n",
    "    \"data\": [\n",
    "        {\n",
    "            \"i\": 1,\n",
    "            \"j\": 0,\n",
    "            \"val\": -1.5\n",
    "        },\n",
    "        {\n",
    "            \"i\": 2,\n",
    "            \"j\": 0,\n",
    "            \"val\": 0.5\n",
    "        },\n",
    "        {\n",
    "            \"i\": 0,\n",
    "            \"j\": 1,\n",
    "            \"val\": -1.5\n",
    "        },\n",
    "        {\n",
    "            \"i\": 0,\n",
    "            \"j\": 2,\n",
    "            \"val\": 0.5\n",
    "        }\n",
    "    ],\n",
    "    \"file_name\": \"smallest_objective.json\",\n",
    "    \"num_variables\": 3,\n",
    "    \"file_type\": \"objective\"}"
   ]
  },
  {
   "cell_type": "markdown",
   "metadata": {},
   "source": [
    "\n",
    "### Constraints\n",
    "Similarly, the file_type must be labels as \"constraints\" for the constraints matrix.\n"
   ]
  },
  {
   "cell_type": "code",
   "execution_count": null,
   "metadata": {},
   "outputs": [],
   "source": [
    "{\n",
    "    \"data\": [\n",
    "        {\n",
    "            \"i\": 0,\n",
    "            \"j\": 0,\n",
    "            \"val\": 1.0\n",
    "        },\n",
    "        {\n",
    "            \"i\": 1,\n",
    "            \"j\": 0,\n",
    "            \"val\": 2.0\n",
    "        },\n",
    "        {\n",
    "            \"i\": 1,\n",
    "            \"j\": 1,\n",
    "            \"val\": 2.0\n",
    "        },\n",
    "        {\n",
    "            \"i\": 0,\n",
    "            \"j\": 2,\n",
    "            \"val\": 1.0\n",
    "        }\n",
    "    ],\n",
    "    \"file_name\": \"smallest_constraints.json\",\n",
    "    \"num_constraints\": 2,\n",
    "    \"num_variables\": 3,\n",
    "    \"file_type\": \"constraints\"}\n"
   ]
  },
  {
   "cell_type": "markdown",
   "metadata": {},
   "source": [
    "### RHS\n",
    " Similarly, file_type should be \"rhs\" for the optional RHS vector.\n"
   ]
  },
  {
   "cell_type": "code",
   "execution_count": null,
   "metadata": {},
   "outputs": [],
   "source": [
    "{\n",
    "    \"data\": [\n",
    "        1.0,\n",
    "        2.0\n",
    "    ],\n",
    "    \"file_name\": \"smallest_rhs.json\",\n",
    "    \"file_type\": \"rhs\",\n",
    "    \"num_constraints\": 2}"
   ]
  },
  {
   "cell_type": "markdown",
   "metadata": {},
   "source": [
    "\n",
    "### Uploading and file_id's\n",
    "First, import the necessary packages:\n"
   ]
  },
  {
   "cell_type": "code",
   "execution_count": null,
   "metadata": {},
   "outputs": [],
   "source": [
    "import json\n",
    "from qci_client import QciClient\n",
    "qci = QciClient()"
   ]
  },
  {
   "cell_type": "markdown",
   "metadata": {},
   "source": [
    "\n",
    "Now we can upload the various files using the client. Suppose we store the data in a variable data. Then we call upload_file to push the data to the server.\n"
   ]
  },
  {
   "cell_type": "code",
   "execution_count": null,
   "metadata": {},
   "outputs": [],
   "source": [
    "response_json = qci.upload_file(constraints_data)\n",
    "file_id = response_json[\"file_id\"]"
   ]
  },
  {
   "cell_type": "markdown",
   "metadata": {},
   "source": [
    "\n",
    "\n",
    "We can extract the file_id for later use. Triggering a job to run requires the file_id to tell the backend which data to use. We cover this step in the Running tab.\n",
    "## Running\n",
    "Running a job involves two key steps to build parameters for the job:\n",
    "1. Building a job body to submit. \n",
    "2. Providing a job_type.\n",
    "\n",
    "### Building the job_body\n",
    "The job_body is a dictionary that contains the file_id's and parameter data for running the job.  All job bodies must contain the following data fields, which can be leveraged by the user to track jobs. \n"
   ]
  },
  {
   "cell_type": "code",
   "execution_count": null,
   "metadata": {},
   "outputs": [],
   "source": [
    "job_body = {\n",
    "          \"job_name\": \"test-job\",\n",
    "          \"job_tags\": [\n",
    "        \t\t\"foo\",\n",
    "        \t\t\"bar\"\n",
    "        \t]\n",
    "        }"
   ]
  },
  {
   "cell_type": "markdown",
   "metadata": {},
   "source": [
    "\n",
    "It is easiest to use `qci.build_job_body()` to construct a job_body. For example,\n"
   ]
  },
  {
   "cell_type": "code",
   "execution_count": null,
   "metadata": {},
   "outputs": [],
   "source": [
    "job_body = qci.build_job_body(\n",
    "    job_type=\"sample_constraint\",\n",
    "    constraints_file_id=constraints_file_id,\n",
    "    objective_file_id=objective_file_id,\n",
    "    rhs_file_id=rhs_file_id) "
   ]
  },
  {
   "cell_type": "markdown",
   "metadata": {},
   "source": [
    "\n",
    "This returns a job_body with the file_id fields appended to the above dictionary. Each of these file_id's was obtained after uploading the corresponding file in the Uploading section. \n",
    "Now we can trigger a job using the following command:\n"
   ]
  },
  {
   "cell_type": "code",
   "execution_count": null,
   "metadata": {},
   "outputs": [],
   "source": [
    "job_response = qci.process_job(job_body=job_json, job_type=\"sample-constraint\")"
   ]
  },
  {
   "cell_type": "markdown",
   "metadata": {},
   "source": [
    "\n",
    "By default, process_job polls for a job to finish. To extract results from a successful job\n"
   ]
  },
  {
   "cell_type": "code",
   "execution_count": null,
   "metadata": {},
   "outputs": [],
   "source": [
    "results_list = list(job_response['results']) # defaults to generator\n",
    "print(results_list[0]['energies'])  # first entries, lowest energy\n",
    "print(results_list[0]['samples']).\n"
   ]
  }
 ],
 "metadata": {
  "language_info": {
   "name": "python"
  }
 },
 "nbformat": 4,
 "nbformat_minor": 2
}
