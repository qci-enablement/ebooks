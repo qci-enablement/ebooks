{
 "cells": [
  {
   "cell_type": "markdown",
   "metadata": {
    "id": "wOj5zv2MppGD"
   },
   "source": [
    "# Continuous Portfolio Optimization\n",
    "\n",
    "#### Device: Dirac-3\n",
    "\n",
    "\n",
    "Continuous optimization helps in selecting and determining how much to invest in each stock. Unlike binary optimization, where you decide whether to include a stock or not (1 or 0), continuous optimization allows for more precise investment decisions by assigning continuous values to represent the proportion of your investment in each stock. This method helps create a well-diversified portfolio with varying levels of investment in different stocks to better manage risk and achieve desired returns.\n"
   ]
  },
  {
   "cell_type": "markdown",
   "metadata": {
    "colab": {
     "base_uri": "https://localhost:8080/",
     "height": 472
    },
    "id": "KXCYfzyDjCG7",
    "outputId": "0171d1a7-82f6-4208-ac11-728bbd81137f"
   },
   "source": [
    "![weighted stocks](img/continuous/01.svg)"
   ]
  },
  {
   "cell_type": "markdown",
   "metadata": {
    "id": "0yq1Sv3yqgyg"
   },
   "source": [
    "## Constructing our Objective Function\n",
    "\n",
    "In our tutorial, we have historical datasets containing stock prices over a period of time. Our goal is to use these datasets to calculate important metrics such as [the rate of return](https://en.wikipedia.org/wiki/Rate_of_return), [expected return](https://en.wikipedia.org/wiki/Expected_return), [variance](https://en.wikipedia.org/wiki/Variance), and [covariance](https://en.wikipedia.org/wiki/Covariance). By calculating these metrics for each stock in our portfolio, we gain insights into their performance and risk characteristics. Expected return helps us gauge potential profitability, variance quantifies the risk associated with individual stocks, and covariance indicates how stocks move relative to each other. These calculations are essential for making informed investment decisions aimed at optimizing returns while managing risk effectively.\n",
    "\n",
    "\n",
    "We define the following variables as:\n",
    "\n",
    "**1. $i$:** Index of stock\n",
    "\n",
    "**2. K:** Total number of available stocks in given portfolio.\n",
    "\n",
    "**3. R:** Daily returns or the Returns per Day of the portfolio\n",
    "\n",
    "**4. E(R):** Expected Return of the portfolio\n",
    "\n",
    "**5. Var(R):** Variance of portfolio's returns\n",
    "\n",
    "**6. ξ:** A parameter that balances the importance of maximizing returns versus minimizing risk.\n",
    "\n",
    "**7. $R_b$:** Base interest rate.e; it is introduced so that the\n",
    "two added terms in the objective function are on an equal footing.\n",
    "\n",
    "**8. $w_i$:**  Weight of\n",
    "stock i in the portfolio; $i ∈ {1, 2, ..., K}$\n",
    "\n",
    "\n",
    "Now, we can define our **Objective Function**, i.e, the function that encapsulates the goal of constructing a portfolio that balances maximizing expected returns and minimizing risk.   as follows:\n",
    "\n",
    "\n",
    "$$\\text{min}_{\\{w_i\\}_i𝞊\\{1,2,..k\\}} [  -E(R) \\cdot R_b + ξ\\cdot \\text{Var}(R)$$\n",
    "\n",
    "\n",
    "\n",
    "We want our weights to sum to $100%$, therefore:\n",
    "\n",
    "$$ ∑_{i=1}^k w_i = 100$$\n",
    "\n",
    "\n",
    "\n",
    "We also want the portfolio to be diverse, so we apply an upper limit on all the weights:\n",
    "\n",
    "$$ w_i \\leq W_{\\text{max}}$$\n",
    "\n",
    "In our example we set our  upper limit on all the weights $W_{\\text{max}}$ equal to $80$."
   ]
  },
  {
   "cell_type": "markdown",
   "metadata": {
    "id": "BOwzVZy2vj63"
   },
   "source": [
    "## Hamiltonian Construction\n",
    "\n",
    "We are going to get into more rigorous math in this section. So you can feel free to skip to the next section to understand the code flow and observe the results!\n",
    "\n",
    "\n",
    "The portfolio daily return over a time period $m$ can be written as a linear combination of daily returns of its constituent stocks over the same time period. We have,\n",
    "\n",
    "$$ R^{(m)}(t) = ∑_{i = 1}^K w_i r_i ^{(m)}(t) $$\n",
    "\n",
    "where, $r_i ^{(m)}(t)$ is the daily return of stock $i$ at time $t$ during time period $m$.\n",
    "\n",
    "The expectation of portfolio daily return over time period $m$ can thus be expanded as:\n",
    " $$ E(R^{(m)}) = ∑_{i = 1}^K w_i E(r_i ^{(m)})$$\n",
    "\n",
    "and the variance of portfolio daily returns over time period $m$ is expanded as,\n",
    "\n",
    "$$ \\text{Var}(R^{(m)}) = ∑_{i = 1}^K ∑_{j = 1}^K w_i w_j \\text{Covar}(r_i ^{(m)},r_j ^{(m)}) $$\n",
    "\n",
    "where Covar is the covariant function.\n",
    "\n",
    "\n",
    "\n",
    "To impose the inequality constraints in $ w_i \\leq W_{\\text{max}}$, we can introduce $K$ auxiliary variables\n",
    "$w_{K+1}, w_{K+2}, ..., w_{2K}$, and impose $K$ equality constraints as,\n",
    "\n",
    "$$w_i + w_{i+K} = W_{\\text{max}} $$\n",
    "\n",
    "\n",
    "Substituting Equations for daily expectation of portfolio daily return over time period $m$ and variance of portfolio daily returns over time period $m$ into Equation 2, the objective function, that we now call $f^{(m)},$ becomes:\n",
    "\n",
    "$$ f^{(m)}(w) = ∑_{i,j = 1} ^K w_i A_{ij}^{(m)}w_j + \\sum_{i=1}^K w_ib_i^{(m)} + α(∑_{i=1}^K w_i - 100 )^2 + β(∑_{i=1}^K (w_i + w_{i+K} - W_{\\text{max}})^2 $$\n",
    "\n",
    "where,\n",
    "\n",
    "$$ A^{(m)}_{ij} = ξ\\cdot \\text{Covar}(r^{(m)}_i, r^{(m)}_j) $$\n",
    "\n",
    "$$b^{(m)}_i = −R_B\\cdot E(r^{(m)}_i)$$\n",
    "\n",
    "\n",
    "To avoid an over-fit on the portfolio data, we can minimize the average of the cost function over $M$\n",
    "overlapping time periods, that is $m ∈ {1, 2, ..., M}.$ The problem becomes,\n",
    "\n",
    "$$ f(w) =  \\frac{1}{M} ∑_{m=1}^M f(w)$$\n",
    "\n",
    "\n",
    "Adding the constraints to the objective function, the optimization\n",
    "problem reduces to,\n",
    "\n",
    "$$ \\text{min}_{w_i} ∑_{i=1}^{2K} ∑_{j=1}^{2K} J_{ij} w_iw_j + ∑_{i=1}^{2k}h_iw_i $$\n",
    "\n",
    "where the two body coupling coefficients J_{ij} are defined as\n",
    "\n",
    "$J_{ij} = \\left\\{\n",
    "  \\begin{array}{cl}\n",
    "    \\frac{1}{M} \\sum_{m=1}^M A_{ij}^{(m)} + \\alpha + \\beta \\delta_{ij} & \\quad \\text{if } i,j \\leq K \\\\\n",
    "    \\beta & \\quad \\text{if } i \\leq K, j = i + K \\\\\n",
    "    \\beta & \\quad \\text{if } i = j + K, j \\leq K \\\\\n",
    "    \\beta \\delta_{ij} & \\quad \\text{if } i > K, j > K \\\\\n",
    "    0 & \\quad \\text{otherwise}\n",
    "  \\end{array}\n",
    "\\right.$\n",
    "\n",
    "\n",
    "and the linear coefficients $h_i$ are defined as,\n",
    "\n",
    "$h_{i} = \\left\\{\n",
    "  \\begin{array}{cl}\n",
    "    b_i - 200\\alpha - 2\\beta W_{\\text{max}}& \\quad \\text{if } i \\leq K \\\\\n",
    "    -2\\beta W_{\\text{max}} & \\quad \\text{if } i \\geq K\n",
    "  \\end{array}\n",
    "\\right.$\n",
    "\n",
    "The Hamiltonian equation becomes:\n",
    "\n",
    "\n",
    "$H = [ h \\mid \\frac{1}{2} (J + J^T)]$\n",
    "\n",
    "where:\n",
    "\n",
    "- $( 0.5 \\cdot (J + J^T) )$ represents the symmetrized form of $J$\n",
    "- The notation $h \\mid \\frac{1}{2} (J + J^T)$ denotes the [horizontal concatenation](https://www.mathworks.com/help/matlab/ref/double.horzcat.html) of $h$ and $\\frac{1}{2} (J + J^T)$."
   ]
  },
  {
   "cell_type": "markdown",
   "metadata": {
    "id": "Rl1o2LOx_JP7"
   },
   "source": [
    "## Advantages of Using Dirac-3 for Portfolio Optimization\n",
    "### Challenges with Traditional Quantum Computing Methods\n",
    "\n",
    "In portfolio optimization, we aim to minimize the cost function:\n",
    "$$ \\text{min}_{w_i} ∑_{i=1}^{2K} ∑_{j=1}^{2K} J_{ij} w_iw_j + ∑_{i=1}^{2k}h_iw_i $$\n",
    "\n",
    "This involves continuous variables $ w_i $. To solve this on a quantum computer, we typically need to convert the problem into a format called Quadratic Unconstrained Binary Optimization (QUBO) [1, 2]. This requires an additional embedding step.\n",
    "\n",
    "### Increased Problem Size and Accuracy-Complexity Trade-off\n",
    "\n",
    "Converting continuous variables into binary ones makes the problem much larger. Achieving higher accuracy requires more binary variables, which can exceed the hardware's capabilities, increasing both the complexity and the required dynamic range.\n",
    "\n",
    "### Limited Connectivity Issues\n",
    "\n",
    "Quantum computers often lack global connectivity, meaning not all qubits can interact directly. This necessitates mapping the problem onto the hardware's specific qubit arrangement, further increasing the problem size and the time needed to find a solution [3, 4].\n",
    "\n",
    "### Advantages of Dirac-3\n",
    "\n",
    "Dirac-3 quantum optimization machine offers a significant advantage over traditional methods. It can work directly with discrete variables encoded in a high-dimensional time-energy mode, allowing it to handle the portfolio optimization problem without needing the conversion step. This eliminates the issues related to limited connectivity and simplifies the optimization process."
   ]
  },
  {
   "cell_type": "markdown",
   "metadata": {
    "id": "q-U6kYmb_org"
   },
   "source": [
    "# Understanding the Code with an Example\n",
    "\n",
    "Before we begin, you'll need your unique token to access the QCi Client API and connect to the Dirac device. If you don't have a token yet, you can sign up for our [Free Trial Cloud Access](https://quantumcomputinginc.com/learn/tutorials-and-use-cases/quick-start-on-cloud)). Let's get started!\n",
    "\n",
    "You can download the data sets and get access to the full code base [here](https://git.qci-dev.com/cvadlamani/basic-catalyst-tutorial/-/tree/Chitra/integer_portfolio_optimization?ref_type=heads)\n",
    "\n",
    "Imagine you have  $5$  stocks in your portfolio and you want to find the optimized portfolio weights\n",
    "\n",
    "Here are 5 stocks present in our portfolio, let us see how we can optimize them using our Run() method:\n",
    "\n",
    "<table border=\"1\" class=\"dataframe\">\n",
    "  <thead>\n",
    "    <tr style=\"text-align: right;\">\n",
    "      <th></th>\n",
    "      <th>Stock</th>\n",
    "    </tr>\n",
    "  </thead>\n",
    "  <tbody>\n",
    "    <tr>\n",
    "      <th>0</th>\n",
    "      <td>AAPL</td>\n",
    "    </tr>\n",
    "    <tr>\n",
    "      <th>1</th>\n",
    "      <td>AMZN</td>\n",
    "    </tr>\n",
    "    <tr>\n",
    "      <th>2</th>\n",
    "      <td>GOOG</td>\n",
    "    </tr>\n",
    "    <tr>\n",
    "      <th>3</th>\n",
    "      <td>MSFT</td>\n",
    "    </tr>\n",
    "    <tr>\n",
    "      <th>4</th>\n",
    "      <td>NVDA</td>\n",
    "    </tr>\n",
    "  </tbody>\n",
    "</table>\n",
    "\n",
    "\n",
    "## Run () method\n",
    "\n",
    "The *run function* is the main function of the portfolio optimization pipeine that performs a series of operations to analyze stock data and optimize a stock portfolio based on historical returns.\n",
    "\n",
    "It does three main things: first, it retrieves the stock data. Then it preprocesses the data and  constructs a Hamiltonian matrix to balance returns and risks. Finally, it optimizes the stock portfolio and the function ultimately saves the stock allocation data to a specified CSV file and displays the optimized portfolio"
   ]
  },
  {
   "cell_type": "markdown",
   "metadata": {
    "id": "scJzDeQJKPsV"
   },
   "source": []
  },
  {
   "cell_type": "markdown",
   "metadata": {
    "colab": {
     "base_uri": "https://localhost:8080/",
     "height": 316
    },
    "id": "oElJA52V5x5T",
    "outputId": "84f263fc-dd81-405b-df34-3ee7e0c851ac"
   },
   "source": [
    "![flow diagram](img/continuous/02.svg)"
   ]
  },
  {
   "cell_type": "markdown",
   "metadata": {
    "id": "cwvQr05H51Vk"
   },
   "source": [
    "## Step 1\n",
    "\n",
    "Initialize and Prepare Dates:\n",
    "* Calculates the in-sample date range based on the current date for historical data analysis."
   ]
  },
  {
   "cell_type": "code",
   "execution_count": null,
   "metadata": {},
   "outputs": [],
   "source": [
    "current_date  = pd.to_datetime(current_date )\n",
    "in_sample_start_date  = current_date  - datetime.timedelta(days=in_sample_days)\n",
    "in_sample_end_date  = current_date - datetime.timedelta(days=1)"
   ]
  },
  {
   "cell_type": "markdown",
   "metadata": {},
   "source": [
    "Retrieve Stock Data:\n",
    "* Obtains the list of stock constituents as of the current_date.\n",
    "* Fetches historical stock returns for the in-sample period."
   ]
  },
  {
   "cell_type": "code",
   "execution_count": null,
   "metadata": {},
   "outputs": [],
   "source": [
    "stocks = get_constituents(current_date)\n",
    "in_sample_returns_df  = get_stock_returns(stocks, in_sample_start_date, in_sample_end_date)"
   ]
  },
  {
   "cell_type": "markdown",
   "metadata": {
    "id": "l2xBO_bO6Ur9"
   },
   "source": [
    "## Step 2\n",
    "Preprocess Data:\n",
    "* Sorts the stock return data by date.\n",
    "* Fills any missing values in the stock return data."
   ]
  },
  {
   "cell_type": "code",
   "execution_count": null,
   "metadata": {},
   "outputs": [],
   "source": [
    "in_sample_returns_df  = in_sample_returns_df.sort_values(\"Date\")\n",
    "in_sample_returns_df  = in_sample_returns_df.fillna(method=\"ffill\").fillna(0)"
   ]
  },
  {
   "cell_type": "markdown",
   "metadata": {
    "id": "mDnHpL-O6etc"
   },
   "source": [
    "## Step 3\n",
    "Calculates Elements of Hamiltonian\n",
    "* Computes the elements $J$ and $h$, and a sum constraint using the in-sample stock returns.\n"
   ]
  },
  {
   "cell_type": "code",
   "execution_count": null,
   "metadata": {},
   "outputs": [],
   "source": [
    "J, h, sum_constraint = get_hamiltonian(\n",
    "    in_sample_returns_df,\n",
    "    stocks,\n",
    "    in_sample_start_date ,\n",
    "    in_sample_end_date ,\n",
    ")\n",
    "\n",
    "np.save(\"J_%s.npy\" % current_date.strftime(\"%Y-%m-%d\"), J)\n",
    "np.save(\"h_%s.npy\" % current_date.strftime(\"%Y-%m-%d\"), h)\n",
    "\n"
   ]
  },
  {
   "cell_type": "markdown",
   "metadata": {
    "id": "uQekKfA1636o"
   },
   "source": [
    "## Step 4\n",
    "* Optimize Portfolio:\n",
    "  * Creates Hamiltonian using Hamiltonian data.\n",
    "  * Runs a portfolio optimization algorithm using the Hamiltonian.\n",
    "  * Saves the optimization results and stock list to files.\n"
   ]
  },
  {
   "cell_type": "code",
   "execution_count": null,
   "metadata": {},
   "outputs": [],
   "source": [
    "  optimized_weights , stock_allocations = optimize_portfolio(J, h, sum_constraint, stocks)"
   ]
  },
  {
   "cell_type": "markdown",
   "metadata": {
    "id": "PBUMeexqEC4r"
   },
   "source": [
    "The result JSON file looks like this:"
   ]
  },
  {
   "cell_type": "code",
   "execution_count": null,
   "metadata": {},
   "outputs": [],
   "source": [
    "{\n",
    "  \"job_info\": {\n",
    "    \"job_id\": \"6679944a450099160ba0bf88\",\n",
    "    \"job_submission\": {\n",
    "      \"job_tags\": [\"port_opot_nasdaq100_d3\"],\n",
    "      \"problem_config\": {\n",
    "        \"normalized_qudit_hamiltonian_optimization\": {\n",
    "          \"hamiltonian_file_id\": \"6679944a98263204a365f329\"\n",
    "        }\n",
    "      },\n",
    "      \"device_config\": {\n",
    "        \"dirac-3\": {\n",
    "          \"num_samples\": 1,\n",
    "          \"relaxation_schedule\": 1,\n",
    "          \"sum_constraint\": 40\n",
    "        }\n",
    "      }\n",
    "    },\n",
    "    \"job_status\": {\n",
    "      \"submitted_at_rfc3339nano\": \"2024-06-24T15:44:10.523Z\",\n",
    "      \"queued_at_rfc3339nano\": \"2024-06-24T15:44:10.524Z\",\n",
    "      \"running_at_rfc3339nano\": \"2024-06-24T15:44:11.514Z\",\n",
    "      \"completed_at_rfc3339nano\": \"2024-06-24T15:44:13.339Z\"\n",
    "    },\n",
    "    \"job_result\": {\n",
    "      \"file_id\": \"6679944d98263204a365f32b\",\n",
    "      \"device_usage_s\": 2\n",
    "    }\n",
    "  },\n",
    "  \"status\": \"COMPLETED\",\n",
    "  \"results\": {\n",
    "    \"counts\": [1],\n",
    "    \"energies\": [-32319.5527344],\n",
    "    \"solutions\": [\n",
    "      [8.0512924, 7.9148078, 7.9524417, 7.9162955, 8.1651621, 0, 0, 0, 0, 0]\n",
    "    ]\n",
    "  }\n",
    "}"
   ]
  },
  {
   "cell_type": "markdown",
   "metadata": {
    "id": "Ew2UL66OEK8L"
   },
   "source": [
    "Where the following fields are:\n",
    "\n",
    "Certainly! Here's a breakdown of each field in the JSON:\n",
    "\n",
    "- **job_info**: Contains details about the job.\n",
    "  - **job_id**: Unique identifier for the job (`6679944a450099160ba0bf88`).\n",
    "  - **job_submission**: Information about the job submission.\n",
    "    - **job_tags**: Tags associated with the job (`port_opot_nasdaq100_d3`).\n",
    "    - **problem_config**: Configuration of the problem to be solved.\n",
    "      - **normalized_qudit_hamiltonian_optimization**: Specifies the problem type as normalized qudit Hamiltonian optimization.\n",
    "        - **hamiltonian_file_id**: ID of the file containing the Hamiltonian information (`6679944a98263204a365f329`).\n",
    "    - **device_config**: Configuration of the device used for the job.\n",
    "      - **dirac-3**: Specifies the device used (`dirac-3`).\n",
    "        - **num_samples**: Number of samples taken (value: 1).\n",
    "        - **relaxation_schedule**: Relaxation schedule parameter (value: 1).\n",
    "        - **sum_constraint**: Sum constraint parameter (value: 40).\n",
    "  - **job_status**: Status updates of the job.\n",
    "    - **submitted_at_rfc3339nano**: Time when the job was submitted (`2024-06-24T15:44:10.523Z`).\n",
    "    - **queued_at_rfc3339nano**: Time when the job was queued (`2024-06-24T15:44:10.524Z`).\n",
    "    - **running_at_rfc3339nano**: Time when the job started running (`2024-06-24T15:44:11.514Z`).\n",
    "    - **completed_at_rfc3339nano**: Time when the job completed (`2024-06-24T15:44:13.339Z`).\n",
    "  - **job_result**: Results of the job.\n",
    "    - **file_id**: ID of the file containing the job result (`6679944d98263204a365f32b`).\n",
    "    - **device_usage_s**: Time the device was used, in seconds (value: 2).\n",
    "\n",
    "- **status**: The current status of the job (`COMPLETED`).\n",
    "\n",
    "- **results**: The outcomes of the job.\n",
    "  - **counts**: Number of samples taken for each solution (value: [1]).\n",
    "  - **energies**: Energy values associated with the solutions (value: [-32319.5527344]).\n",
    "  - **solutions**: The actual solutions found, represented as a list of values (value: [[8.0512924, 7.9148078, 7.9524417, 7.9162955, 8.1651621, 0, 0, 0, 0, 0]]).\n",
    "\n",
    "\n"
   ]
  },
  {
   "cell_type": "markdown",
   "metadata": {
    "id": "Ws2ExQhEFRPZ"
   },
   "source": [
    "The solution weights are then adjusted to form a balanced portfolio and we obtain:\n",
    "\n",
    "```python\n",
    " Optimal_Portfolio_with_allocations = {\n",
    "    \"AAPL\": 0.2012823125160289,\n",
    "    \"NVDA\": 0.19787019747337747,\n",
    "    \"AMZN\": 0.19881104498513807,\n",
    "    \"MSFT\": 0.19790738997384238,\n",
    "    \"GOOG\": 0.20412905505161316\n",
    "  }\n",
    "\n",
    "Where The optimal allocations for the portfolio are as follows:\n",
    "  - **AAPL**: 20.13%\n",
    "  - **NVDA**: 19.79%\n",
    "  - **AMZN**: 19.88%\n",
    "  - **MSFT**: 19.79%\n",
    "  - **GOOG**: 20.41%"
   ]
  },
  {
   "cell_type": "markdown",
   "metadata": {
    "id": "DieLNHWu7LK6"
   },
   "source": [
    "## Step 5\n",
    "Generate and Save Allocation Data:\n",
    "* Creates a DataFrame with stock allocations.\n",
    "* Saves the allocation data to a specified CSV file, appending if the file already exists."
   ]
  },
  {
   "cell_type": "code",
   "execution_count": null,
   "metadata": {},
   "outputs": [],
   "source": [
    "np.save(\"qci_sol_%s.npy\" % current_date.strftime(\"%Y-%m-%d\"), sol)\n",
    "np.save(\"stock_list_%s.npy\" % current_date.strftime(\"%Y-%m-%d\"), stocks)    \n",
    "weight_df = pd.DataFrame(\n",
    "    {\n",
    "        \"Stock\": [item for item in stock_allocations.keys()],\n",
    "        \"Allocation\": [\n",
    "            stock_allocations[item] for item in stock_allocations.keys()\n",
    "        ],\n",
    "    }\n",
    ")\n",
    "weight_df[\"Date\"] = current_date\n",
    "weight_df = weight_df[weight_df[\"Allocation\"] > 0]\n",
    "weight_df[\"Stock_Count\"] = weight_df.shape[0]\n",
    "if os.path.exists(ALLOC_OUT_FILE):\n",
    "    weight_df.to_csv(\n",
    "        ALLOC_OUT_FILE,\n",
    "        index=False,\n",
    "        mode=\"a\",\n",
    "        header=False,\n",
    "    )\n",
    "else:\n",
    "    weight_df.to_csv(\n",
    "        ALLOC_OUT_FILE,\n",
    "        index=False,\n",
    "    )"
   ]
  },
  {
   "cell_type": "markdown",
   "metadata": {},
   "source": [
    "Display optimized portfolio"
   ]
  },
  {
   "cell_type": "code",
   "execution_count": null,
   "metadata": {},
   "outputs": [],
   "source": [
    "display(HTML(weight_df[[\"Stock\",\"Allocation\"]].tail(5).to_html()))\n"
   ]
  },
  {
   "cell_type": "markdown",
   "metadata": {
    "id": "GCXfifwO-vGC"
   },
   "source": [
    "## Optimial Portfilio with Allocated weights:\n",
    "\n",
    "When we run our code, we will see that the optimal portfolio has the following stock allocations:\n",
    "\n",
    "<table border=\"1\" class=\"dataframe\">\n",
    "  <thead>\n",
    "    <tr style=\"text-align: right;\">\n",
    "      <th></th>\n",
    "      <th>Stock</th>\n",
    "      <th>Allocation</th>\n",
    "    </tr>\n",
    "  </thead>\n",
    "  <tbody>\n",
    "    <tr>\n",
    "      <th>0</th>\n",
    "      <td>NVDA</td>\n",
    "      <td>0.196433</td>\n",
    "    </tr>\n",
    "    <tr>\n",
    "      <th>1</th>\n",
    "      <td>AMZN</td>\n",
    "      <td>0.194561</td>\n",
    "    </tr>\n",
    "    <tr>\n",
    "      <th>2</th>\n",
    "      <td>MSFT</td>\n",
    "      <td>0.211609</td>\n",
    "    </tr>\n",
    "    <tr>\n",
    "      <th>3</th>\n",
    "      <td>AAPL</td>\n",
    "      <td>0.195888</td>\n",
    "    </tr>\n",
    "    <tr>\n",
    "      <th>4</th>\n",
    "      <td>GOOG</td>\n",
    "      <td>0.201509</td>\n",
    "    </tr>\n",
    "  </tbody>\n",
    "</table>"
   ]
  },
  {
   "cell_type": "markdown",
   "metadata": {
    "colab": {
     "base_uri": "https://localhost:8080/",
     "height": 564
    },
    "id": "5FCM4JR2Bocu",
    "outputId": "57e73846-4158-4a65-e9e2-5b526ff4177a"
   },
   "source": [
    "![weighted chart](img/continuous/03.svg)"
   ]
  },
  {
   "cell_type": "markdown",
   "metadata": {
    "id": "T39FxGEb77Ol"
   },
   "source": [
    "## Conclusion\n",
    "\n",
    "In conclusion, we observe that Dirac effectively finds the solution and successfully solves the portfolio optimization problem. For a more challenging and comprehensive use case, refer to our example tutorial on optimizing a 100-asset portfolio over a 21-year period using the Nasdaq-100 as a benchmark with the Dirac-3 machine. Click [here](https://git.qci-dev.com/qci-dev/quantum-solutions/-/blob/main/qc/portfolio_optimization_dirac_3/build_unequal_nasdaq100_dirac3.py?ref_type=heads) to learn more.\n"
   ]
  },
  {
   "cell_type": "markdown",
   "metadata": {
    "id": "kfmaH-_AAGwc"
   },
   "source": [
    "## Citations\n",
    "[1] R. Dridi and H. Alghassi. “Prime factorization using quantum annealing and computational\n",
    "algebraic geometry”. In: Sci Rep 7 (2017).[ DOI: https://doi.org/10.1038/srep43048.](https://www.nature.com/articles/srep43048)\n",
    "\n",
    "[2] Akshay Ajagekar, Kumail Al Hamoud, and Fengqi You. “Hybrid Classical-Quantum Optimization\n",
    "Techniques for Solving Mixed-Integer Programming Problems in Production Scheduling”. In:\n",
    "IEEE Transactions on Quantum Engineering 3 (2022), pp. 1–16.[ DOI: 10.1109/TQE.2022.3187367.](https://ieeexplore.ieee.org/document/9810536)\n",
    "\n",
    "[3] Yanjun Ji et al. Algorithm-oriented qubit mapping for variational quantum algorithms. 2024. arXiv:\n",
    "2310.09826 [quant-ph](https://arxiv.org/abs/2310.09826).\n",
    "\n",
    "[4] Adam Holmes et al. “Impact of qubit connectivity on quantum algorithm performance”. In:\n",
    "Quantum Sci. Technol (2020)\n"
   ]
  }
 ],
 "metadata": {
  "colab": {
   "provenance": []
  },
  "kernelspec": {
   "display_name": "Python 3 (ipykernel)",
   "language": "python",
   "name": "python3"
  },
  "language_info": {
   "codemirror_mode": {
    "name": "ipython",
    "version": 3
   },
   "file_extension": ".py",
   "mimetype": "text/x-python",
   "name": "python",
   "nbconvert_exporter": "python",
   "pygments_lexer": "ipython3",
   "version": "3.11.4"
  }
 },
 "nbformat": 4,
 "nbformat_minor": 1
}
