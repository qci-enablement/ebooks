{
 "cells": [
  {
   "cell_type": "markdown",
   "metadata": {},
   "source": [
    "# QBoost using EQC Models Package\n",
    "\n",
    "#### Device: Dirac-3\n",
    "\n",
    "\n",
    "## Introduction\n",
    "\n",
    "The QBoost algorithm is a classification method that leverages open quantum systems (such as QCi's Dirac-3 machine) to obtain superior speed and power consumption over classical approaches. QBoost is an adaptation of the classical boosting algorithm. Boosting is a powerful technique in machine learning that combines the output of several weak classifiers to produce a strong classifier. In classical boosting algorithms, such as AdaBoost, the weights of the weak classifiers are adjusted iteratively based on their performance, with the goal of minimizing the overall classification error."
   ]
  },
  {
   "cell_type": "markdown",
   "metadata": {
    "jp-MarkdownHeadingCollapsed": true
   },
   "source": [
    "## Methodology\n",
    "\n",
    "The idea is based on the concept of boosting. Let us assume that we have a collection of $N$ \"weak\" classifiers $h_i$ where $i=1, 2,...,N$. The goal is to construct a \"strong\" classifier as a linear superposition of these weak classifiers, that is,\n",
    "\n",
    "$y = \\sum_{i=1}^{N} w_i h_i({\\bf{x}})$\n",
    "\n",
    "where ${\\bf{x}}$ is a vector of input features and $y \\in \\{-1, 1\\}$, and $\\sum_{i=1}^{N} w_i = 1$. The goal is to find an optimal set of $w_i$s, weights associated with the weak classifiers. \n",
    "\n",
    "Let us have a training set $\\{({\\bf{x_s}}, y_s) | s = 1, 2,...,S\\}$ of size $S$. We can determine optimal weights $w_i$ by minimizing,\n",
    "\n",
    "$\\min_{w_i} \\sum_{s=1}^{S} |\\sum_{i=1}^{N} w_i h_i({\\bf{x_s}}) - y_s|^2 + \\lambda \\sum_{i=1}^{N} (w_i)^2$\n",
    "\n",
    "where the regularization term $\\lambda \\sum_{i=1}^{N} (w_i)^2$ penalizes non-zero weights; $\\lambda$ is the regularization coefficient. \n",
    "\n",
    "$\\min_{{\\bf{w}}} \\sum_{i=1}^{N} \\sum_{j=1}^{N} J_{ij} w_i w_j + \\sum_{i=1}^{N} C_i w_i$\n",
    "\n",
    "where \n",
    "\n",
    "$J_{ij} = \\sum_{s=1}^{S} h_i({\\bf{x_s}}) h_j({\\bf{x_s}})$\n",
    "\n",
    "and\n",
    "\n",
    "$C_{i} = -2 \\sum_{s=1}^{S} y_s h_i({\\bf{x_s}})$\n",
    "\n",
    "subject to,\n",
    "\n",
    "$\\sum_{i=1}^{N} w_i = 1$\n",
    "\n",
    "Note that the above algorithm assumes that the total number of weak classifiers, that is $N$, is less than the number of available qudits on Dirac-3. \n"
   ]
  },
  {
   "cell_type": "markdown",
   "metadata": {},
   "source": [
    "## Data\n",
    "\n",
    "We used the IRIS dataset to build a binary classifier using QBoost. The reader can refer to \n",
    "\n",
    "https://scikit-learn.org/stable/auto_examples/datasets/plot_iris_dataset.html\n",
    "\n",
    "and \n",
    "\n",
    "https://en.wikipedia.org/wiki/Iris_flower_data_set\n",
    "\n",
    "for more information on the IRIS dataset."
   ]
  },
  {
   "cell_type": "markdown",
   "metadata": {},
   "source": [
    "## QBoost Implementation in QCI's EQC Models Package\n",
    "\n",
    "The QCi's EQC Models package includes an implementation of the QBoost algorithm.\n",
    "\n",
    "# Setting up the environment\n",
    "\n",
    "The user should ensure that QCI_TOKEN and QCI_API_URL are set as the algorithm needs access to QCi's Dirac-3 device. "
   ]
  },
  {
   "cell_type": "markdown",
   "metadata": {},
   "source": [
    "# Import libraries\n",
    "\n",
    "We start by importing some libraries. This includes importing the QBoostClassifier instance from the EQC Models ML package."
   ]
  },
  {
   "cell_type": "code",
   "execution_count": null,
   "metadata": {},
   "outputs": [],
   "source": [
    "import sys\n",
    "from collections import Counter\n",
    "import numpy as np\n",
    "import pandas as pd\n",
    "from sklearn import datasets\n",
    "from sklearn.preprocessing import MinMaxScaler\n",
    "from sklearn.model_selection import train_test_split\n",
    "from sklearn.metrics import (\n",
    "    confusion_matrix,\n",
    "    precision_score,\n",
    "    recall_score,\n",
    "    accuracy_score,\n",
    ")\n",
    "\n",
    "from eqc_models.ml.classifierqboost import QBoostClassifier"
   ]
  },
  {
   "cell_type": "markdown",
   "metadata": {},
   "source": [
    "# Setting parameters\n",
    "\n",
    "The only parameter we need to set here is the train test split ratio. We have,"
   ]
  },
  {
   "cell_type": "code",
   "execution_count": 4,
   "metadata": {},
   "outputs": [],
   "source": [
    "TEST_SIZE = 0.2"
   ]
  },
  {
   "cell_type": "markdown",
   "metadata": {},
   "source": [
    "# Read Dataset\n",
    "\n",
    "We can now load the IRIS data from scikit-learn dataset library. We have,"
   ]
  },
  {
   "cell_type": "code",
   "execution_count": 5,
   "metadata": {},
   "outputs": [],
   "source": [
    "iris = datasets.load_iris()\n",
    "X = iris.data\n",
    "y = iris.target"
   ]
  },
  {
   "cell_type": "markdown",
   "metadata": {},
   "source": [
    "# Pre-Processing of the data\n",
    "\n",
    "We now scale the features using a min/max scaler, and the classes to either 1 or -1 labels. The data is then splitted into training and testing sets."
   ]
  },
  {
   "cell_type": "code",
   "execution_count": 10,
   "metadata": {},
   "outputs": [],
   "source": [
    "scaler = MinMaxScaler()\n",
    "X = scaler.fit_transform(X)\n",
    "\n",
    "for i in range(len(y)):\n",
    "    if y[i] == 0:\n",
    "        y[i] = -1\n",
    "    elif y[i] == 2:\n",
    "    \ty[i] = 1\n",
    "        \n",
    "X_train, X_test, y_train, y_test = train_test_split(\n",
    "    X,\n",
    "    y,\n",
    "    test_size=TEST_SIZE,\n",
    "    random_state=42,\n",
    ")"
   ]
  },
  {
   "cell_type": "markdown",
   "metadata": {},
   "source": [
    "We can echo some statitics on the training and testing sets,"
   ]
  },
  {
   "cell_type": "code",
   "execution_count": 11,
   "metadata": {},
   "outputs": [
    {
     "name": "stdout",
     "output_type": "stream",
     "text": [
      "Training data counts:\n",
      "Counter({1: 80, -1: 40})\n",
      "Testing data counts:\n",
      "Counter({1: 20, -1: 10})\n"
     ]
    }
   ],
   "source": [
    "print(\"Training data counts:\")\n",
    "print(Counter(y_train))\n",
    "\n",
    "print(\"Testing data counts:\")\n",
    "print(Counter(y_test))"
   ]
  },
  {
   "cell_type": "markdown",
   "metadata": {},
   "source": [
    "# Train the model\n",
    "\n",
    "We now instantiate the QBoost classifier object and train a model,"
   ]
  },
  {
   "cell_type": "code",
   "execution_count": 13,
   "metadata": {},
   "outputs": [
    {
     "name": "stdout",
     "output_type": "stream",
     "text": [
      "Runtime of _build_weak_classifiers: 0.03 seconds!\n",
      "Built 10 weak classifiers!\n",
      "Runtime of get_hamiltonian: 0.03 seconds!\n",
      "2024-07-30 11:49:28 - Dirac allocation balance = 0 s (unmetered)\n",
      "2024-07-30 11:49:28 - Job submitted: job_id='66a935b827d9cb8ae30094e6'\n",
      "2024-07-30 11:49:28 - RUNNING\n",
      "2024-07-30 11:49:39 - COMPLETED\n",
      "2024-07-30 11:49:41 - Dirac allocation balance = 0 s (unmetered)\n",
      "{'job_info': {'job_id': '66a935b827d9cb8ae30094e6', 'job_submission': {'problem_config': {'normalized_qudit_hamiltonian_optimization': {'polynomial_file_id': '66a935b811ecab62cc23eaa4'}}, 'device_config': {'dirac-3': {'num_samples': 1, 'relaxation_schedule': 2, 'solution_precision': 1, 'sum_constraint': 1}}}, 'job_status': {'submitted_at_rfc3339nano': '2024-07-30T18:49:28.822Z', 'queued_at_rfc3339nano': '2024-07-30T18:49:28.822Z', 'running_at_rfc3339nano': '2024-07-30T18:49:28.879Z', 'completed_at_rfc3339nano': '2024-07-30T18:49:37.142Z'}, 'job_result': {'file_id': '66a935c111ecab62cc23eaa6', 'device_usage_s': 8}}, 'status': 'COMPLETED', 'results': {'counts': [1], 'energies': [-120.0000305], 'solutions': [[1.1e-06, 0, 0.1428512, 0.1428512, 0, 0.1428512, 0.1428512, 0.1428512, 0.14287, 0.14287]], 'distilled_energies': [-120], 'distilled_solutions': [[0, 0, 0, 0, 0, 0, 0, 0, 0, 1]]}}\n"
     ]
    },
    {
     "data": {
      "text/plain": [
       "<eqc_models.ml.classifierqboost.QBoostClassifier at 0x1394addb0>"
      ]
     },
     "execution_count": 13,
     "metadata": {},
     "output_type": "execute_result"
    }
   ],
   "source": [
    "obj = QBoostClassifier(\n",
    "    relaxation_schedule=2,\n",
    "    num_samples=1,\n",
    "    lambda_coef=0.0,\n",
    "    weak_cls_type=\"lg\",\n",
    ")\n",
    "\n",
    "obj.fit(X_train, y_train)"
   ]
  },
  {
   "cell_type": "markdown",
   "metadata": {},
   "source": [
    "# Results\n",
    "\n",
    "We can now use the model to get predictions on the training and testing datasets,"
   ]
  },
  {
   "cell_type": "code",
   "execution_count": 14,
   "metadata": {},
   "outputs": [],
   "source": [
    "y_train_prd = obj.predict(X_train)\n",
    "y_test_prd = obj.predict(X_test)"
   ]
  },
  {
   "cell_type": "markdown",
   "metadata": {},
   "source": [
    "and use the predictions to calculate precision, recall, and accuracy."
   ]
  },
  {
   "cell_type": "code",
   "execution_count": 16,
   "metadata": {},
   "outputs": [
    {
     "name": "stdout",
     "output_type": "stream",
     "text": [
      "Train precision: 1.0\n",
      "Train recall: 1.0\n",
      "Train accuracy: 1.0\n"
     ]
    },
    {
     "data": {
      "image/png": "[encoded data removed]",
      "text/plain": [
       "<Figure size 640x480 with 2 Axes>"
      ]
     },
     "metadata": {},
     "output_type": "display_data"
    },
    {
     "name": "stdout",
     "output_type": "stream",
     "text": [
      "Test precision: 1.0\n",
      "Test recall: 1.0\n",
      "Test accuracy: 1.0\n"
     ]
    },
    {
     "data": {
      "image/png": "[encoded data removed]",
      "text/plain": [
       "<Figure size 640x480 with 2 Axes>"
      ]
     },
     "metadata": {},
     "output_type": "display_data"
    }
   ],
   "source": [
    "from sklearn.metrics import confusion_matrix, precision_score, recall_score, accuracy_score\n",
    "import matplotlib.pyplot as plt\n",
    "import seaborn as sn\n",
    "\n",
    "print(\n",
    "    \"Train precision:\",\n",
    "    precision_score(y_train, y_train_prd, labels=[-1, 1], pos_label=1),\n",
    ")\n",
    "print(\n",
    "    \"Train recall:\",\n",
    "    recall_score(y_train, y_train_prd, labels=[-1, 1], pos_label=1),\n",
    ")\n",
    "print(\n",
    "    \"Train accuracy:\",\n",
    "    accuracy_score(y_train, y_train_prd),\n",
    ")\n",
    "\n",
    "sn.set(font_scale=1.4)\n",
    "train_conf_mat = confusion_matrix(y_train, y_train_prd, labels=[-1, 1])\n",
    "sn.heatmap(train_conf_mat, annot=True, annot_kws={\"size\": 16})\n",
    "plt.show()\n",
    "\n",
    "print(\n",
    "    \"Test precision:\",\n",
    "    precision_score(y_test, y_test_prd, labels=[-1, 1], pos_label=1),\n",
    ")\n",
    "print(\n",
    "    \"Test recall:\",\n",
    "    recall_score(y_test, y_test_prd, labels=[-1, 1], pos_label=1),\n",
    ")\n",
    "print(\n",
    "    \"Test accuracy:\",\n",
    "    accuracy_score(y_test, y_test_prd),\n",
    ")\n",
    "\n",
    "test_conf_mat = confusion_matrix(y_test, y_test_prd, labels=[-1, 1])\n",
    "sn.heatmap(test_conf_mat, annot=True, annot_kws={\"size\": 16})\n",
    "plt.show()"
   ]
  }
 ],
 "metadata": {
  "anaconda-cloud": {},
  "kernelspec": {
   "display_name": "Python 3 (ipykernel)",
   "language": "python",
   "name": "python3"
  },
  "language_info": {
   "codemirror_mode": {
    "name": "ipython",
    "version": 3
   },
   "file_extension": ".py",
   "mimetype": "text/x-python",
   "name": "python",
   "nbconvert_exporter": "python",
   "pygments_lexer": "ipython3",
   "version": "3.10.7"
  }
 },
 "nbformat": 4,
 "nbformat_minor": 4
}
