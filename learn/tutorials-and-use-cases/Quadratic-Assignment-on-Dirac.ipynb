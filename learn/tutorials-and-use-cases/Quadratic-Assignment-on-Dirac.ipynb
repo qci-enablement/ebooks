{
 "cells": [
  {
   "cell_type": "markdown",
   "metadata": {},
   "source": [
    "Quadratic Assignment on Dirac\n",
    "================================\n",
    "#### Device: Dirac-1\n",
    "\n",
    "The quadratic assignment problem was first introduced in 1957 by Koopmans and Beckmann to solve facility location problems which call for minimizing the cost proportional to the flow of goods between the facilities. This is a well studied problem.\n",
    "\n",
    "QAP seeks to mimimize a cost function based on fixed quantities (weights) between pairs of one set, $P$, and distances between pairs of another set $L$ when each member of $L$ is assigned to one member of $P$."
   ]
  },
  {
   "cell_type": "markdown",
   "metadata": {},
   "source": [
    "## Importance\n",
    "\n",
    "The problem itself is based on a hypothetical situation which is a possibly simplified but realistic planning problem. Although the context of the problem itself is quite different, it has the same double-one-hot constraint structure as [traveling salesperson](https://quantumcomputinginc.com/learn/tutorials-and-use-cases/tsp-tutorial). This constraint structure comes from the fact that only one of each type of facility will be constructed, and each location can only accomodate one facility. As we will show in our example, the problem statement is more involved than with traveling salesperson, it is defined by distances between locations, flows between facilities, and the cost to construct at each location. The component of the objective function from the cost to move each flow a given distance leads to analogous terms to the traveling salesperson problem, terms which reference the location of two facilities, in the same way the distances which define traveling salesperson costs reference the times at which two cities are visited. The cost of bulding a facility at each location however provides terms which reference only the location of a single facility. This extra cost means that quadratic assignment has less symmetry then traveling salesperson. While the cost is the same in travelling salesperson regardless of the starting city (assuming the salesperson must end in that city), there is no analogous symmetry for quadratic assignment."
   ]
  },
  {
   "cell_type": "markdown",
   "metadata": {},
   "source": [
    "## Applications\n",
    "\n",
    "As with many other problems, the quadratic assignment problem is motivated by a real task, deciding where to construct industrial facilities. While a real situation may involve additional constraints (for example regulations which do not allow a factory which works with dangerous chemicals to be located in certain parts of a city), this problem presents a simplified framework for understanding planning problems. In addition to the obvious planning application, which is how the problem is formulated, there are other less obvious applications as reviewed in [this paper](https://link.springer.com/article/10.1007/s12652-018-0917-x). These include for example hospital design, where the flow is a flow of patients rather than materials. Similarly the problem of placing components on a computer backboard to minimise the length of wires can be phrased as a QAP (with the wires being the flow in this case, and the components the facilities, representing an empty location as a facility with no cost and no flows). An even more exotic application of this problem is forest management, where facilities are representations of zoning of a location for a specific use (in this case there will be multiple facilities of the same type), and flows represent the desirability (or lack thereof) of having different types of areas in proximity to each other, for example having an area zoned as a wildlife preserve next to an area zoned for recreation (or others zoned as preserves) is desirable, while having recreation next to logging is not. "
   ]
  },
  {
   "cell_type": "markdown",
   "metadata": {},
   "source": [
    "Simple Example\n",
    "-----------------\n",
    "\n",
    "This first example is a synthetic problem with a five facilities and five locations. The first consideration is the planned flow between the facilities. The table below shows the quantity of material planned to be moved from one facility to the other. Facility 1 sends to facilities 2, 3 and 5. Facilites 2 and 3 send to facilities 4 and 5. Facility 4 doesn't send to any other faciilty and facility 5 sends one unit to facility 4.\n",
    "\n",
    "| Source Facility / Destination Facility | Facility 1 | Facility 2 | Faclity 3 | Facility 4 | Facility 5 |\n",
    "|---|---|---|---|---|---|\n",
    "| **Facility 1**| | 5 | 8 |  | 1 |\n",
    "| **Facility 2** | | | | 10 | 15 |\n",
    "| **Facility 3** | | | | 13 | 18 |\n",
    "| **Facility 4** | | | | | |\n",
    "| **Facility 5** | | | | 1 | |\n",
    "\n",
    "The second consideration is the distance between locations. The distances in this example are symmetric.\n",
    "\n",
    "| Distances | Location 1 | Location 2 | Location 3 | Location 4 | Location 5 |\n",
    "|---|---|---|---|---|---|\n",
    "| **Location 1** | 0 | 8.54 | 6.4 | 10 | 8.94 |\n",
    "| **Location 2** | 8.54 | 0 | 4.47 | 5.39 | 6.49 |\n",
    "| **Location 3** | 6.4 | 4.47 | 0 | 3.61 | 3 |\n",
    "| **Location 4** | 10 | 5.39 | 3.61 | 0 | 2 |\n",
    "| **Location 5** | 8.94 | 6.49 | 3 | 2 | 0 |\n",
    "\n",
    "The third consideration is the cost of building a facility at a location.\n",
    "\n",
    "| Facility / Location | Location 1| Location 2 | Location 3 | Location 4 | Location 5 |\n",
    "|---|---|---|---|---|---|\n",
    "| **Facility 1**| 2 | 3 | 6 | 3 | 7 |\n",
    "| **Facility 2** | 3 | 9 | 2 | 5 | 9 |\n",
    "| **Facility 3** | 2 | 6 | 4 | 1 | 2 |\n",
    "| **Facility 4** | 7 | 5 | 8 | 5 | 7 |\n",
    "| **Facility 5** | 1 | 9 | 2 | 9 | 2 |\n",
    "\n",
    "The outcomes in this example range from optimal to 166% of optimal. This implies a considerable benefit to performing the optimization."
   ]
  },
  {
   "cell_type": "code",
   "execution_count": 5,
   "metadata": {},
   "outputs": [],
   "source": [
    "import numpy as np\n",
    "import matplotlib.pyplot as plt\n",
    "from qci_client import QciClient\n",
    "from helpers import plot_qap, assignment_from_solution, create_qap_objective, create_qap_constraints, find_index_of_nearest\n",
    "from data import mip_obj_vals"
   ]
  },
  {
   "cell_type": "markdown",
   "metadata": {},
   "source": [
    "Here is the data described in the tables above."
   ]
  },
  {
   "cell_type": "code",
   "execution_count": 10,
   "metadata": {},
   "outputs": [],
   "source": [
    "\n",
    "A = np.array([[0, 5, 8, 0, 1],\n",
    "                [0, 0, 0, 10, 15],\n",
    "                [0, 0, 0, 13, 18],\n",
    "                [0, 0, 0, 0, 0.],\n",
    "                [0, 0, 0, 1, 0.]])\n",
    "B = np.array([[0, 8.54, 6.4, 10, 8.94],\n",
    "                [8.54, 0, 4.47, 5.39, 6.49],\n",
    "                [6.4, 4.47, 0, 3.61, 3.0],\n",
    "                [10, 5.39, 3.61, 0, 2.0],\n",
    "                [8.94, 6.49, 3.0, 2.0, 0.]])\n",
    "C = np.array([[2, 3, 6, 3, 7],\n",
    "                [3, 9, 2, 5, 9],\n",
    "                [2, 6, 4, 1, 2],\n",
    "                [7, 5, 8, 5, 7],\n",
    "                [1, 9, 2, 9, 2.]])\n",
    "n = 5\n",
    "num_variables = 25"
   ]
  },
  {
   "cell_type": "markdown",
   "metadata": {},
   "source": [
    "This code creates the objective matrix from the three input matrices, then uploads the data to the API."
   ]
  },
  {
   "cell_type": "code",
   "execution_count": 16,
   "metadata": {},
   "outputs": [],
   "source": [
    "token = \"your_token\"\n",
    "api_url = \"https://api.qci-prod.com\"\n",
    "qciclient = QciClient(api_token=token, url=api_url)"
   ]
  },
  {
   "cell_type": "markdown",
   "metadata": {},
   "source": [
    "Here we start a client for the API and upload the objective matrix."
   ]
  },
  {
   "cell_type": "markdown",
   "metadata": {},
   "source": [
    "The constraint matrix is built using only the number of facilities/locations. It is the same across all problems of the same size, independent of the other input data.\n",
    "\n",
    "This code builds the constraint data and uploads two files, one for the left hand side and another for the right."
   ]
  },
  {
   "cell_type": "code",
   "execution_count": 17,
   "metadata": {},
   "outputs": [],
   "source": [
    "constraint_file = create_qap_constraints(n)\n",
    "constraint_file_id = qciclient.upload_file(file=constraint_file)[\"file_id\"]"
   ]
  },
  {
   "cell_type": "code",
   "execution_count": 19,
   "metadata": {},
   "outputs": [],
   "source": [
    "objective_file = create_qap_objective(A, B, C, n, num_variables)\n",
    "obj_file_id = qciclient.upload_file(file=objective_file)[\"file_id\"]"
   ]
  },
  {
   "cell_type": "markdown",
   "metadata": {},
   "source": [
    "This is where we make the job request. The request is synchronous, but could be made asynchronously and results retrieved at a later time."
   ]
  },
  {
   "cell_type": "code",
   "execution_count": 20,
   "metadata": {},
   "outputs": [
    {
     "name": "stderr",
     "output_type": "stream",
     "text": [
      "/opt/homebrew/Caskroom/miniconda/base/envs/testing/lib/python3.12/site-packages/qci_client/optimization/client.py:407: UserWarning: the 'sampler_type' key is deprecated, please update your usage to 'device_type'\n",
      "  warnings.warn(\n",
      "/opt/homebrew/Caskroom/miniconda/base/envs/testing/lib/python3.12/site-packages/qci_client/optimization/client.py:433: UserWarning: the 'nsamples' key is deprecated, please update your usage to 'num_samples'\n",
      "  warnings.warn(\n"
     ]
    },
    {
     "name": "stdout",
     "output_type": "stream",
     "text": [
      "2024-04-29 15:54:37 - Dirac allocation balance = 0 s (unmetered)\n",
      "2024-04-29 15:54:37 - Job submitted: job_id='662fb4ade15a79bd9d02c497'\n",
      "2024-04-29 15:54:38 - RUNNING\n",
      "2024-04-29 15:56:38 - COMPLETED\n",
      "2024-04-29 15:56:41 - Dirac allocation balance = 0 s (unmetered)\n"
     ]
    }
   ],
   "source": [
    "\n",
    "alpha = 105.625\n",
    "job_params = {\"device_type\": \"dirac-1\", \"alpha\": alpha, \"num_samples\": 5}\n",
    "body = qciclient.build_job_body(job_type=\"sample-constraint\", job_params=job_params,\n",
    "    constraints_file_id=constraint_file_id, objective_file_id=obj_file_id,\n",
    "    job_name=f\"QAP Demo\",\n",
    "    job_tags=[])\n",
    "# submit the job request to be processed asynchronously\n",
    "response = qciclient.process_job(job_body=body)"
   ]
  },
  {
   "cell_type": "markdown",
   "metadata": {},
   "source": [
    "The response includes results samples and energies."
   ]
  },
  {
   "cell_type": "code",
   "execution_count": 25,
   "metadata": {},
   "outputs": [
    {
     "data": {
      "text/plain": [
       "{'counts': [3, 2],\n",
       " 'energies': [-725.6101734638214, -724.4597828388214],\n",
       " 'feasibilities': [True, False],\n",
       " 'objective_values': [330.6400022506714, 120.53999900817871],\n",
       " 'solutions': [[1,\n",
       "   0,\n",
       "   0,\n",
       "   0,\n",
       "   0,\n",
       "   0,\n",
       "   0,\n",
       "   0,\n",
       "   1,\n",
       "   0,\n",
       "   0,\n",
       "   0,\n",
       "   1,\n",
       "   0,\n",
       "   0,\n",
       "   0,\n",
       "   1,\n",
       "   0,\n",
       "   0,\n",
       "   0,\n",
       "   0,\n",
       "   0,\n",
       "   0,\n",
       "   0,\n",
       "   1],\n",
       "  [0, 1, 0, 0, 0, 0, 0, 0, 1, 0, 0, 0, 0, 0, 0, 0, 0, 1, 0, 0, 0, 0, 0, 0, 1]]}"
      ]
     },
     "execution_count": 25,
     "metadata": {},
     "output_type": "execute_result"
    }
   ],
   "source": [
    "response['results']"
   ]
  },
  {
   "cell_type": "code",
   "execution_count": 30,
   "metadata": {},
   "outputs": [],
   "source": [
    "results = response[\"results\"]\n",
    "sample = np.array(results[\"solutions\"])"
   ]
  },
  {
   "cell_type": "markdown",
   "metadata": {},
   "source": [
    "We convert the bit vector of length 25 into an array of assignments of length 5 and plot the assignments in a bi-partite graph."
   ]
  },
  {
   "cell_type": "code",
   "execution_count": 31,
   "metadata": {},
   "outputs": [
    {
     "data": {
      "text/plain": [
       "[0, 3, 2, 1, 4]"
      ]
     },
     "execution_count": 31,
     "metadata": {},
     "output_type": "execute_result"
    }
   ],
   "source": [
    "assignment = assignment_from_solution(sample[0], n)\n",
    "assignment"
   ]
  },
  {
   "cell_type": "code",
   "execution_count": 32,
   "metadata": {},
   "outputs": [
    {
     "data": {
      "image/png": "[encoded data removed]",
      "text/plain": [
       "<Figure size 640x480 with 1 Axes>"
      ]
     },
     "metadata": {},
     "output_type": "display_data"
    }
   ],
   "source": [
    "plot_qap(assignment)"
   ]
  },
  {
   "cell_type": "markdown",
   "metadata": {},
   "source": [
    "These values were obtained by enumerating all feasible solutions and evaluating the objective function. "
   ]
  },
  {
   "cell_type": "markdown",
   "metadata": {},
   "source": [
    "Results\n",
    "========\n",
    "\n",
    "In this plot, the objective values of all feasible solutions are shown with the objective value of the solution found by **Dirac 1**. Notice the result is the lowest possible objective value."
   ]
  },
  {
   "cell_type": "code",
   "execution_count": 33,
   "metadata": {},
   "outputs": [
    {
     "ename": "NameError",
     "evalue": "name 'mip_obj_vals' is not defined",
     "output_type": "error",
     "traceback": [
      "\u001b[0;31m---------------------------------------------------------------------------\u001b[0m",
      "\u001b[0;31mNameError\u001b[0m                                 Traceback (most recent call last)",
      "Cell \u001b[0;32mIn[33], line 2\u001b[0m\n\u001b[1;32m      1\u001b[0m plt\u001b[38;5;241m.\u001b[39mfigure(figsize\u001b[38;5;241m=\u001b[39m(\u001b[38;5;241m12\u001b[39m, \u001b[38;5;241m9\u001b[39m))\n\u001b[0;32m----> 2\u001b[0m ser1 \u001b[38;5;241m=\u001b[39m plt\u001b[38;5;241m.\u001b[39mplot(\u001b[43mmip_obj_vals\u001b[49m, \u001b[38;5;124m\"\u001b[39m\u001b[38;5;124mc-\u001b[39m\u001b[38;5;124m\"\u001b[39m, label\u001b[38;5;241m=\u001b[39m\u001b[38;5;124m\"\u001b[39m\u001b[38;5;124mFeasible Solutions\u001b[39m\u001b[38;5;124m\"\u001b[39m)\n\u001b[1;32m      3\u001b[0m plt\u001b[38;5;241m.\u001b[39mtitle(\u001b[38;5;124m\"\u001b[39m\u001b[38;5;124mFeasible solutions to QAP\u001b[39m\u001b[38;5;124m\"\u001b[39m)\n\u001b[1;32m      4\u001b[0m ax \u001b[38;5;241m=\u001b[39m plt\u001b[38;5;241m.\u001b[39mgca()\n",
      "\u001b[0;31mNameError\u001b[0m: name 'mip_obj_vals' is not defined"
     ]
    },
    {
     "data": {
      "text/plain": [
       "<Figure size 1200x900 with 0 Axes>"
      ]
     },
     "metadata": {},
     "output_type": "display_data"
    }
   ],
   "source": [
    "plt.figure(figsize=(12, 9))\n",
    "ser1 = plt.plot(mip_obj_vals, \"c-\", label=\"Feasible Solutions\")\n",
    "plt.title(\"Feasible solutions to QAP\")\n",
    "ax = plt.gca()\n",
    "plt.xlabel(\"Feasible Solution\")\n",
    "ax.get_xaxis().set_visible(False)\n",
    "plt.ylabel(\"Objective Value\")\n",
    "# ser2 = plt.plot([0, len(mip_obj_vals)-1], [results[\"energies\"][0], results[\"energies\"][0]], label=\"Found Solution\")\n",
    "obj_val = results[\"objective_values\"][0]\n",
    "idx = find_index_of_nearest(mip_obj_vals, obj_val)\n",
    "ser2 = plt.scatter([idx], [obj_val], c=\"r\", marker=\"o\", label=\"Found Solution\")\n",
    "plt.legend()\n",
    "plt.grid()"
   ]
  },
  {
   "cell_type": "markdown",
   "metadata": {},
   "source": [
    "## Conclusion\n",
    "\n",
    "In this tutorial we have learned about the quadratic assignment problem. While distinct quadratic assignment shares the same constraint structure as [traveling salesperson](https://quantumcomputinginc.com/learn/tutorials-and-use-cases/tsp-tutorial). While less well known than traveling salesperson, quadratic assignment is a rich problem which has many practical applications. A logical next step could be to explore other, constrained problems which are device can solve through the [quadratic linearly constrained binary optimisation](https://quantumcomputinginc.com/learn/tutorials-and-use-cases/quadratic-linearly-constrained-binary-optimization) page. Of course another option is to start using our device to solve some of your own optimisation problems."
   ]
  }
 ],
 "metadata": {
  "kernelspec": {
   "display_name": "testing",
   "language": "python",
   "name": "testing"
  },
  "language_info": {
   "codemirror_mode": {
    "name": "ipython",
    "version": 3
   },
   "file_extension": ".py",
   "mimetype": "text/x-python",
   "name": "python",
   "nbconvert_exporter": "python",
   "pygments_lexer": "ipython3",
   "version": "3.12.3"
  },
  "vscode": {
   "interpreter": {
    "hash": "e4e5229f39531d576486b7a7581587d21e0df360ca01eb3c7a4911d025aa9da2"
   }
  }
 },
 "nbformat": 4,
 "nbformat_minor": 4
}
