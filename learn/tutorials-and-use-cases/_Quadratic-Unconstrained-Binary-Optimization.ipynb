{
 "cells": [
  {
   "cell_type": "markdown",
   "metadata": {},
   "source": [
    "# Quadratic Unconstrained Binary Optimization (QUBO)\n",
    "## Introduction\n",
    "The Quadratic Unconstrained Binary Optimization (QUBO) is a foundational problem type used in many fields to formulate discrete combinatorial optimization problems. Generically, a Qubo is defined by linear and quadratic terms, but since $x^2 = x$ when $x \\in \\{0,1\\}$, we can simplify the optimization expression as such $f(x) = \\sum_{i} \\sum_{j} J_{ij} x_i x_j$, where $f: \\mathbb{B}^n \\rightarrow \\mathbb{R}$. Note that the coefficients naturally encodes as a square symmetric matrix, so that $f(x) = x^t Q x$, where $Q$ has entries $Q_{ij}$. The goal of the optimization problem is to find the binary vector, $x^{*}$, that minimizes $f(x)$, \n",
    "$x^{*} = \\min_{x} x^t Q x$. \n"
   ]
  },
  {
   "cell_type": "code",
   "execution_count": 4,
   "metadata": {},
   "outputs": [],
   "source": [
    "import numpy as np\n",
    "from qci_client import QciClient\n",
    "import os\n",
    "os.environ[\"QCI_API_URL\"] = api_url = \"https://api.qci-prod.com\"\n",
    "os.environ[\"QCI_TOKEN\"] = token = \"token_id\"\n",
    "qclient = QciClient(api_token=token, url=api_url)"
   ]
  },
  {
   "cell_type": "markdown",
   "metadata": {},
   "source": [
    "## Uploading a QUBO job\n",
    "### Data format\n",
    "To upload a square symmetric matrix or Qubo, we encode it in a sparse matrix format as shown below. We use Numpy array notation. \n"
   ]
  },
  {
   "cell_type": "code",
   "execution_count": 10,
   "metadata": {},
   "outputs": [],
   "source": [
    "Q = np.array([[0, -1.5, 0.5], [-1.5, 0, 0], [0.5, 0, 0]]) "
   ]
  },
  {
   "cell_type": "code",
   "execution_count": 11,
   "metadata": {},
   "outputs": [
    {
     "data": {
      "text/plain": [
       "'qubo_data = {\\n  \"data\": Q,\\n  \"file_name\": \"smallest_objective.json\", # can be any short string\\n  \"num_variables\": 3, # number of rows\\n  \"file_type\": \"qubo\" # defines the data type, \\'qubo\\' in this case\\n}'"
      ]
     },
     "execution_count": 11,
     "metadata": {},
     "output_type": "execute_result"
    }
   ],
   "source": [
    "ham_file = {\"file_name\": \"qudit-tutorial-hame\", \"file_config\": {\"hamiltonian\": {\"data\": Q}}}\n",
    "qubo_data = {\n",
    "    'file_name': \"smallest_objective.json\",\n",
    "    'file_config': {'qubo':{\"data\": Q}}\n",
    "}"
   ]
  },
  {
   "cell_type": "markdown",
   "metadata": {},
   "source": [
    "\n",
    "### Uploading\n",
    "To upload the matrix encoded above in `qubo_data`, we use the the `qci_client` imported previously. The following line \n"
   ]
  },
  {
   "cell_type": "code",
   "execution_count": 12,
   "metadata": {},
   "outputs": [],
   "source": [
    "response_json = qclient.upload_file(qubo_data)"
   ]
  },
  {
   "cell_type": "markdown",
   "metadata": {},
   "source": [
    "The response contains a file_id for the uploaded file. This id is provided when a job is run, along a few other parameters (see #Running). Note: the same `file_id` can be used multiple times to run a problem repeatedly. This enables an \"upload once, run many times\" scheme, which is especially useful for job types in which parameter searches may be involved.\n",
    "Triggering a job requires two items: first a job body that contains essential and optional metadata for the job, and second, the type of job a user wants to run. \n",
    "\n",
    "## Running a QUBO job\n",
    "### Job body\n",
    "This section defines the job body for a Qubo job.  \n",
    "\n"
   ]
  },
  {
   "cell_type": "code",
   "execution_count": 13,
   "metadata": {},
   "outputs": [],
   "source": [
    "params = {\n",
    "\"sampler_type\": \"dirac-1\", \n",
    "\"n_samples\": 100\n",
    "}"
   ]
  },
  {
   "cell_type": "code",
   "execution_count": 26,
   "metadata": {},
   "outputs": [],
   "source": [
    "\n",
    "job_body = {\n",
    "\"job_name\": \"test-job\", # required, can be any string\n",
    "\"job_tags\": [\"foo\", \"bar\"], # optional, useful for tracking different jobs \n",
    "\"params\": params, # dictionary containing job parameters\n",
    "\"qubo_file_id\": response_json[\"file_id\"] # string id returned from file upload\n",
    "}\n",
    "job_body = qclient.build_job_body(job_type=\"sample-qubo\", qubo_file_id=response_json['file_id'], \n",
    "                                    job_params={\"sampler_type\": \"dirac-1\", \"nsamples\": 1})"
   ]
  },
  {
   "cell_type": "code",
   "execution_count": 27,
   "metadata": {},
   "outputs": [
    {
     "data": {
      "text/plain": [
       "{'job_submission': {'problem_config': {'quadratic_unconstrained_binary_optimization': {'job_name': 'job_0',\n",
       "    'job_tags': [],\n",
       "    'qubo_file_id': '65fc532238d25ec78cae81f1',\n",
       "    'num_samples': 1}},\n",
       "  'device_config': {'dirac-1': {}}}}"
      ]
     },
     "execution_count": 27,
     "metadata": {},
     "output_type": "execute_result"
    }
   ],
   "source": [
    "job_body"
   ]
  },
  {
   "cell_type": "markdown",
   "metadata": {},
   "source": [
    "Additional parameters that can be included in the job using the params dictionary. Defaults are listed first, optional parameters in the complete list below. First, here is a params example:"
   ]
  },
  {
   "cell_type": "markdown",
   "metadata": {},
   "source": [
    "\n",
    "### Parameters list \n",
    "sampler_type: \"csample\", \"eqc1\", \"eqc2\"\n",
    "n_samples: defaults to 100 for csample jobs; defaults to 1 for eqc1 and eqc2 jobs. Note that each EQC sample is a job run in serial so multiple samples may incur a large overhead for large jobs. \n",
    "\n",
    "### Submitting a job\n",
    "To run a job, the API needs the job_body with the file_id from the upload step and the job \n",
    "result = qci.process_job(job_body=job_json, job_type=\"sample-qubo\")\n",
    "The process_job method is not asynchronous and includes a polling step within it. If the user wants more control the polling stage within process_job will serve as a good example of the few steps needed to create a sequence of asynchronous polling steps.\n",
    "The above call will return a result dictionary. To print the results:\n"
   ]
  },
  {
   "cell_type": "code",
   "execution_count": 28,
   "metadata": {},
   "outputs": [
    {
     "name": "stdout",
     "output_type": "stream",
     "text": [
      "Dirac allocation balance = 0\n",
      "Job submitted job_id='65fc5594832ac38bab8fe06d'-: 2024/03/21 11:43:16\n",
      "running: 2024/03/21 11:43:18\n",
      "completed: 2024/03/21 11:43:27\n",
      "Dirac allocation balance = 0\n"
     ]
    }
   ],
   "source": [
    "job_response = qclient.process_job(job_body=job_body, job_type=\"sample-qubo\")"
   ]
  },
  {
   "cell_type": "code",
   "execution_count": 34,
   "metadata": {},
   "outputs": [
    {
     "data": {
      "text/plain": [
       "{'job_info': {'job_id': '65fc5594832ac38bab8fe06d',\n",
       "  'job_submission': {'problem_config': {'quadratic_unconstrained_binary_optimization': {'qubo_file_id': '65fc532238d25ec78cae81f1'}},\n",
       "   'device_config': {'dirac-1': {'num_samples': 1}}},\n",
       "  'job_status': {'submitted_at_rfc3339nano': '2024-03-21T15:43:16.536Z',\n",
       "   'queued_at_rfc3339nano': '2024-03-21T15:43:16.536Z',\n",
       "   'running_at_rfc3339nano': '2024-03-21T15:43:16.777Z',\n",
       "   'completed_at_rfc3339nano': '2024-03-21T15:43:27.356Z'},\n",
       "  'job_result': {'file_id': '65fc559f38d25ec78cae81f7', 'device_usage_s': 1},\n",
       "  'details': {'status': 'completed'}},\n",
       " 'results': {'file_id': '65fc559f38d25ec78cae81f7',\n",
       "  'num_parts': 1,\n",
       "  'num_bytes': 235,\n",
       "  'file_config': {'quadratic_unconstrained_binary_optimization_results': {'counts': [1],\n",
       "    'energies': [-3],\n",
       "    'solutions': [[1, 1, 0]]}}}}"
      ]
     },
     "execution_count": 34,
     "metadata": {},
     "output_type": "execute_result"
    }
   ],
   "source": [
    "job_response"
   ]
  },
  {
   "cell_type": "markdown",
   "metadata": {},
   "source": [
    "\n",
    "Below we show how to query the result object if an error occurs:\n",
    "    \n",
    "\n"
   ]
  }
 ],
 "metadata": {
  "kernelspec": {
   "display_name": "eqc-deploy",
   "language": "python",
   "name": "python3"
  },
  "language_info": {
   "codemirror_mode": {
    "name": "ipython",
    "version": 3
   },
   "file_extension": ".py",
   "mimetype": "text/x-python",
   "name": "python",
   "nbconvert_exporter": "python",
   "pygments_lexer": "ipython3",
   "version": "3.10.11"
  }
 },
 "nbformat": 4,
 "nbformat_minor": 2
}
