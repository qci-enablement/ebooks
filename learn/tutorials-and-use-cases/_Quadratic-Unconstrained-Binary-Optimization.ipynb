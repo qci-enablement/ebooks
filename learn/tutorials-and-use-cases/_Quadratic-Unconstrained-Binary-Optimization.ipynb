{
 "cells": [
  {
   "cell_type": "markdown",
   "metadata": {},
   "source": [
    "# Quadratic Unconstrained Binary Optimization (QUBO)\n",
    "## Introduction\n",
    "The Quadratic Unconstrained Binary Optimization (QUBO) problem is fundamental in various fields, serving as a basis for formulating discrete combinatorial optimization problems. As an NP-hard problem, QUBO finds numerous applications across diverse domains, including machine learning, operations research, finance, chemistry, medicine, and beyond. In the realm of machine learning, its optimal performance is observed in support vector machines (SVM) and clustering algorithms.\n",
    "\n",
    "Generically, a QUBO is defined by linear and quadratic terms, but since $x^2 = x$ when $x \\in \\{0,1\\}$, we can simplify the optimization expression as such $f(x) = \\sum_{i} \\sum_{j} J_{ij} x_i x_j$, where $f: \\mathbb{B}^n \\rightarrow \\mathbb{R}$. Note that the coefficients naturally encode as a square symmetric matrix, so that $f(x) = x^T Q x$, where $Q$ has entries $Q_{ij}$. The goal of the optimization problem is to find the binary vector, $x^{*}$, that minimizes $f(x)$, \n",
    "$x^{*} = \\mathop{\\arg \\min}_{x} x^T Q x$. \n"
   ]
  },
  {
   "cell_type": "markdown",
   "metadata": {},
   "source": [
    "## Package Installation and Remote Connection\n",
    "Begin by importing the necessary packages:\n",
    "- `numpy`\n",
    "- `qci_client`\n",
    "- `OS`"
   ]
  },
  {
   "cell_type": "code",
   "execution_count": 65,
   "metadata": {},
   "outputs": [],
   "source": [
    "import numpy as np\n",
    "from qci_client import QciClient\n",
    "import os"
   ]
  },
  {
   "cell_type": "markdown",
   "metadata": {},
   "source": [
    "Establish connection with `qci_client` and QCi's server using your unique token ID and our default API URL."
   ]
  },
  {
   "cell_type": "code",
   "execution_count": 66,
   "metadata": {},
   "outputs": [],
   "source": [
    "def establish_connection(token, api_url=\"https://api.qci-prod.com\"):\n",
    "    os.environ[\"QCI_API_URL\"] = api_url\n",
    "    os.environ[\"QCI_TOKEN\"] = token\n",
    "    return token, api_url\n",
    "\n",
    "token, api_url = establish_connection(\"insert_token_id_here\")\n",
    "qclient = QciClient(api_token=token, url=api_url)"
   ]
  },
  {
   "cell_type": "markdown",
   "metadata": {},
   "source": [
    "## Uploading a QUBO job\n",
    "### Data format\n",
    "To upload a square symmetric matrix or QUBO, we encode it in a sparse matrix format as shown below. We use Numpy array notation. \n"
   ]
  },
  {
   "cell_type": "code",
   "execution_count": 67,
   "metadata": {},
   "outputs": [],
   "source": [
    "Q = np.array([[0, -1.5, 0.5], [-1.5, 0, 0], [0.5, 0, 0]]) "
   ]
  },
  {
   "cell_type": "markdown",
   "metadata": {},
   "source": [
    "Enter your file credentials, including the QUBO file."
   ]
  },
  {
   "cell_type": "code",
   "execution_count": 68,
   "metadata": {},
   "outputs": [],
   "source": [
    "ham_file = {\"file_name\": \"qudit-tutorial-hame\",\n",
    "            \"file_config\": {\"hamiltonian\": {\"data\": Q}}}\n",
    "\n",
    "qubo_data = {\n",
    "    'file_name': \"smallest_objective.json\",\n",
    "    'file_config': {'qubo':{\"data\": Q}}\n",
    "}"
   ]
  },
  {
   "cell_type": "markdown",
   "metadata": {},
   "source": [
    "\n",
    "### Uploading\n",
    "To upload the matrix encoded above in `qubo_data`, we use the `qci_client` imported previously. The following line \n"
   ]
  },
  {
   "cell_type": "code",
   "execution_count": 69,
   "metadata": {},
   "outputs": [],
   "source": [
    "response_json = qclient.upload_file(qubo_data)"
   ]
  },
  {
   "cell_type": "markdown",
   "metadata": {},
   "source": [
    "The response contains a file_id for the uploaded file. This id is provided when a job is run, along with a few other parameters (see #Running). Note: the same `file_id` can be used multiple times to run a problem repeatedly. This enables an \"upload once, run many times\" scheme, which is especially useful for job types in which parameter searches may be involved.\n",
    "Triggering a job requires two items: first a job body that contains essential and optional metadata for the job, and second, the type of job a user wants to run. \n",
    "\n",
    "## Running a QUBO job\n",
    "### Job body\n",
    "This section defines the job body for a QUBO job. Be sure to state the Dirac device of your choice under `sampler_type` and the number of samples `nsamples` required for your job.  \n",
    "\n"
   ]
  },
  {
   "cell_type": "code",
   "execution_count": 70,
   "metadata": {},
   "outputs": [
    {
     "data": {
      "text/plain": [
       "{'job_submission': {'problem_config': {'quadratic_unconstrained_binary_optimization': {'job_name': 'job_0',\n",
       "    'job_tags': [],\n",
       "    'qubo_file_id': '6601953438d25ec78cae8a65',\n",
       "    'num_samples': 5}},\n",
       "  'device_config': {'dirac-1': {}}}}"
      ]
     },
     "execution_count": 70,
     "metadata": {},
     "output_type": "execute_result"
    }
   ],
   "source": [
    "job_body = qclient.build_job_body(job_type=\"sample-qubo\",\n",
    "                                  qubo_file_id=response_json['file_id'],\n",
    "                                  job_params={\"sampler_type\": \"dirac-1\", \"nsamples\": 5})\n",
    "\n",
    "job_body"
   ]
  },
  {
   "cell_type": "markdown",
   "metadata": {},
   "source": [
    "Once the `job_body` is complete, use `job_response` to start running your job on the Dirac device."
   ]
  },
  {
   "cell_type": "code",
   "execution_count": 72,
   "metadata": {},
   "outputs": [
    {
     "name": "stdout",
     "output_type": "stream",
     "text": [
      "Dirac allocation balance = 0\n",
      "Job submitted job_id='6601958b832ac38bab8fe27f'-: 2024/03/25 11:17:31\n",
      "queued: 2024/03/25 11:17:32\n",
      "running: 2024/03/25 11:32:02\n",
      "completed: 2024/03/25 11:32:13\n",
      "Dirac allocation balance = 0\n"
     ]
    },
    {
     "data": {
      "text/plain": [
       "{'job_info': {'job_id': '6601958b832ac38bab8fe27f',\n",
       "  'job_submission': {'problem_config': {'quadratic_unconstrained_binary_optimization': {'qubo_file_id': '6601953438d25ec78cae8a65'}},\n",
       "   'device_config': {'dirac-1': {'num_samples': 1}}},\n",
       "  'job_status': {'submitted_at_rfc3339nano': '2024-03-25T15:17:31.032Z',\n",
       "   'queued_at_rfc3339nano': '2024-03-25T15:17:31.033Z',\n",
       "   'running_at_rfc3339nano': '2024-03-25T15:32:02.322Z',\n",
       "   'completed_at_rfc3339nano': '2024-03-25T15:32:12.91Z'},\n",
       "  'job_result': {'file_id': '660198fc38d25ec78cae8a67', 'device_usage_s': 1},\n",
       "  'details': {'status': 'completed'}},\n",
       " 'results': {'file_id': '660198fc38d25ec78cae8a67',\n",
       "  'num_parts': 1,\n",
       "  'num_bytes': 235,\n",
       "  'file_config': {'quadratic_unconstrained_binary_optimization_results': {'counts': [1],\n",
       "    'energies': [-3],\n",
       "    'solutions': [[1, 1, 0]]}}}}"
      ]
     },
     "execution_count": 72,
     "metadata": {},
     "output_type": "execute_result"
    }
   ],
   "source": [
    "job_response = qclient.process_job(job_body=job_body, job_type=\"sample-qubo\")\n",
    "job_response"
   ]
  },
  {
   "cell_type": "markdown",
   "metadata": {},
   "source": [
    "\n",
    "Below we show how to query the result object if an error occurs:\n",
    "    \n",
    "\n"
   ]
  },
  {
   "cell_type": "code",
   "execution_count": 73,
   "metadata": {},
   "outputs": [
    {
     "data": {
      "text/plain": [
       "'No errors detected'"
      ]
     },
     "execution_count": 73,
     "metadata": {},
     "output_type": "execute_result"
    }
   ],
   "source": [
    "def error_status():\n",
    "    if job_response['job_info']['details']['status'] == \"ERROR\":\n",
    "        print(job_response['job_info']['details']['status'])\n",
    "        print(job_response['job_info']['results']['error'])\n",
    "        return 'Error detected'\n",
    "    else:\n",
    "        return \"No errors detected\"\n",
    "\n",
    "error_status()"
   ]
  },
  {
   "cell_type": "markdown",
   "metadata": {},
   "source": [
    "## Dissecting results\n",
    "Under `file_config`, the job title and your results should be present in `solutions`. Below is an example of what you should expect:"
   ]
  },
  {
   "cell_type": "code",
   "execution_count": null,
   "metadata": {
    "vscode": {
     "languageId": "latex"
    }
   },
   "outputs": [],
   "source": [
    "Dirac allocation balance = 0\n",
    "Job submitted job_id='xxxxx'-: yyyy/mm/dd hh:mm:ss\n",
    "queued: yyyy/mm/dd hh:mm:ss\n",
    "running: yyyy/mm/dd hh:mm:ss\n",
    "completed: yyyy/mm/dd hh:mm:ss\n",
    "Dirac allocation balance = 0\n",
    "{'job_info': {'job_id': '6601958b832ac38bab8fe27f',\n",
    "  'job_submission': {'problem_config': {'quadratic_unconstrained_binary_optimization': {'qubo_file_id': '6601953438d25ec78cae8a65'}},\n",
    "   'device_config': {'dirac-1': {'num_samples': 1}}},\n",
    "  'job_status': {'submitted_at_rfc3339nano': 'yyyy-mm-ddThh:mm:ss',\n",
    "   'queued_at_rfc3339nano': 'yyyy-mm-ddThh:mm:ss',\n",
    "   'running_at_rfc3339nano': 'yyyy-mm-ddThh:mm:ss',\n",
    "   'completed_at_rfc3339nano': 'yyyy-mm-ddThh:mm:ss'},\n",
    "  'job_result': {'file_id': '660198fc38d25ec78cae8a67', 'device_usage_s': 1},\n",
    "  'details': {'status': 'completed'}},\n",
    " 'results': {'file_id': '660198fc38d25ec78cae8a67',\n",
    "  'num_parts': 1,\n",
    "  'num_bytes': 235,\n",
    "  'file_config': {'quadratic_unconstrained_binary_optimization_results': {'counts': [1],\n",
    "    'energies': [-3],\n",
    "    'solutions': [[1, 1, 0]]}}}}"
   ]
  }
 ],
 "metadata": {
  "kernelspec": {
   "display_name": "eqc-deploy",
   "language": "python",
   "name": "python3"
  },
  "language_info": {
   "codemirror_mode": {
    "name": "ipython",
    "version": 3
   },
   "file_extension": ".py",
   "mimetype": "text/x-python",
   "name": "python",
   "nbconvert_exporter": "python",
   "pygments_lexer": "ipython3",
   "version": "3.10.11"
  }
 },
 "nbformat": 4,
 "nbformat_minor": 2
}
