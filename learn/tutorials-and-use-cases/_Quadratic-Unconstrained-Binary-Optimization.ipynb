{
 "cells": [
  {
   "cell_type": "markdown",
   "metadata": {},
   "source": [
    "# Quadratic Unconstrained Binary Optimization (QUBO)\n",
    "## Introduction\n",
    "The Quadratic Unconstrained Binary Optimization (QUBO) problem is fundamental in various fields, serving as a basis for formulating discrete combinatorial optimization problems. As an NP-hard problem, QUBO finds numerous applications across diverse domains, including machine learning, operations research, finance, chemistry, medicine, and beyond. In the realm of machine learning, its optimal performance is observed in support vector machines (SVM) and clustering algorithms.\n",
    "\n",
    "Generically, a QUBO is defined by linear and quadratic terms, but since $x^2 = x$ when $x \\in \\{0,1\\}$, we can simplify the optimization expression as such $f(x) = \\sum_{i} \\sum_{j} J_{ij} x_i x_j$, where $f: \\mathbb{B}^n \\rightarrow \\mathbb{R}$. Note that the coefficients naturally encodes as a square symmetric matrix, so that $f(x) = x^T Q x$, where $Q$ has entries $Q_{ij}$. The goal of the optimization problem is to find the binary vector, $x^{*}$, that minimizes $f(x)$, \n",
    "$x^{*} = \\mathop{\\arg \\min}_{x} x^T Q x$. \n"
   ]
  },
  {
   "cell_type": "markdown",
   "metadata": {},
   "source": [
    "## Package Installation and Remote Connection\n",
    "Begin by importing the necessary packages:\n",
    "- `numpy`\n",
    "- `qci_client`\n",
    "- `os`"
   ]
  },
  {
   "cell_type": "code",
   "execution_count": 31,
   "metadata": {},
   "outputs": [],
   "source": [
    "import numpy as np\n",
    "from qci_client import QciClient\n",
    "import os"
   ]
  },
  {
   "cell_type": "markdown",
   "metadata": {},
   "source": [
    "Establish connection with `qci_client` and QCi's server using your unique token ID and our default API URL."
   ]
  },
  {
   "cell_type": "code",
   "execution_count": 32,
   "metadata": {},
   "outputs": [],
   "source": [
    "token = \"22f1f3d275d713f18f46c8020eab9848\"\n",
    "api_url = \"https://api.qci-prod.com\"\n",
    "qclient = QciClient(api_token=token, url=api_url)"
   ]
  },
  {
   "cell_type": "markdown",
   "metadata": {},
   "source": [
    "## Uploading a QUBO job\n",
    "### Data format\n",
    "To upload a square symmetric matrix or QUBO, we encode it in a sparse matrix format as shown below. We use Numpy array notation. \n"
   ]
  },
  {
   "cell_type": "code",
   "execution_count": 33,
   "metadata": {},
   "outputs": [],
   "source": [
    "Q = np.array([[0, -1.5, 0.5], [-1.5, 0, 0], [0.5, 0, 0]]) "
   ]
  },
  {
   "cell_type": "markdown",
   "metadata": {},
   "source": [
    "Enter your file credentials, including the QUBO file."
   ]
  },
  {
   "cell_type": "code",
   "execution_count": 34,
   "metadata": {},
   "outputs": [],
   "source": [
    "qubo_data = {\n",
    "    'file_name': \"smallest_objective.json\",\n",
    "    'file_config': {'qubo':{\"data\": Q}}\n",
    "}"
   ]
  },
  {
   "cell_type": "markdown",
   "metadata": {},
   "source": [
    "\n",
    "### Uploading\n",
    "To upload the matrix encoded above in `qubo_data`, we use the the `qci_client` imported previously. The following line \n"
   ]
  },
  {
   "cell_type": "code",
   "execution_count": 35,
   "metadata": {},
   "outputs": [],
   "source": [
    "response_json = qclient.upload_file(qubo_data)"
   ]
  },
  {
   "cell_type": "markdown",
   "metadata": {},
   "source": [
    "The response contains a file_id for the uploaded file. This id is provided when a job is run, along a few other parameters (see #Running). Note: the same `file_id` can be used multiple times to run a problem repeatedly. This enables an \"upload once, run many times\" scheme, which is especially useful for job types in which parameter searches may be involved.\n",
    "Triggering a job requires two items: first a job body that contains essential and optional metadata for the job, and second, the type of job a user wants to run. \n",
    "\n",
    "## Running a QUBO job\n",
    "### Job body\n",
    "This section defines the job body for a QUBO job. Be sure to state the Dirac device of your choice under `sampler_type` and the number of samples `nsamples` required for your job.  \n",
    "\n"
   ]
  },
  {
   "cell_type": "code",
   "execution_count": 36,
   "metadata": {},
   "outputs": [
    {
     "data": {
      "text/plain": [
       "{'job_submission': {'problem_config': {'quadratic_unconstrained_binary_optimization': {'job_name': 'job_0',\n",
       "    'job_tags': [],\n",
       "    'qubo_file_id': '6602fbf138d25ec78cae8c8a',\n",
       "    'num_samples': 5}},\n",
       "  'device_config': {'dirac-1': {}}}}"
      ]
     },
     "execution_count": 36,
     "metadata": {},
     "output_type": "execute_result"
    }
   ],
   "source": [
    "job_body = qclient.build_job_body(job_type=\"sample-qubo\",\n",
    "                                  qubo_file_id=response_json['file_id'],\n",
    "                                  job_params={\"sampler_type\": \"dirac-1\", \"nsamples\": 5})\n",
    "\n",
    "job_body"
   ]
  },
  {
   "cell_type": "markdown",
   "metadata": {},
   "source": [
    "Once the `job_body` is complete, use `job_response` to start running your job on the Dirac device."
   ]
  },
  {
   "cell_type": "code",
   "execution_count": 37,
   "metadata": {},
   "outputs": [
    {
     "name": "stdout",
     "output_type": "stream",
     "text": [
      "Dirac allocation balance = 0\n",
      "Job submitted job_id='6602fbf2832ac38bab8fe305'-: 2024/03/26 12:46:42\n",
      "running: 2024/03/26 12:46:44\n",
      "completed: 2024/03/26 13:04:46\n",
      "Dirac allocation balance = 0\n"
     ]
    },
    {
     "data": {
      "text/plain": [
       "{'job_info': {'job_id': '6602fbf2832ac38bab8fe305',\n",
       "  'job_submission': {'problem_config': {'quadratic_unconstrained_binary_optimization': {'qubo_file_id': '6602fbf138d25ec78cae8c8a'}},\n",
       "   'device_config': {'dirac-1': {'num_samples': 1}}},\n",
       "  'job_status': {'submitted_at_rfc3339nano': '2024-03-26T16:46:42.835Z',\n",
       "   'queued_at_rfc3339nano': '2024-03-26T16:46:42.835Z',\n",
       "   'running_at_rfc3339nano': '2024-03-26T16:46:43.695Z',\n",
       "   'completed_at_rfc3339nano': '2024-03-26T16:55:46.93Z'},\n",
       "  'job_result': {'file_id': '6602fe1238d25ec78cae8c94', 'device_usage_s': 2},\n",
       "  'details': {'status': 'completed'}},\n",
       " 'results': {'file_id': '6602fe1238d25ec78cae8c94',\n",
       "  'num_parts': 1,\n",
       "  'num_bytes': 235,\n",
       "  'file_config': {'quadratic_unconstrained_binary_optimization_results': {'counts': [1],\n",
       "    'energies': [-3],\n",
       "    'solutions': [[1, 1, 0]]}}}}"
      ]
     },
     "execution_count": 37,
     "metadata": {},
     "output_type": "execute_result"
    }
   ],
   "source": [
    "job_response = qclient.process_job(job_body=job_body, job_type=\"sample-qubo\")\n",
    "job_response"
   ]
  },
  {
   "cell_type": "markdown",
   "metadata": {},
   "source": [
    "\n",
    "Below we show how to query the result object if an error occurs:\n",
    "    \n",
    "\n"
   ]
  },
  {
   "cell_type": "code",
   "execution_count": 38,
   "metadata": {},
   "outputs": [
    {
     "data": {
      "text/plain": [
       "'No errors detected'"
      ]
     },
     "execution_count": 38,
     "metadata": {},
     "output_type": "execute_result"
    }
   ],
   "source": [
    "def error_status(job_response):\n",
    "    try:\n",
    "        if job_response['job_info']['details']['status'] == \"ERROR\":\n",
    "            return job_response['job_info']['details']['status'], job_response['job_info']['results']['error']\n",
    "        else:\n",
    "            return \"No errors detected\"\n",
    "    except KeyError:\n",
    "        return \"Error: Unable to retrieve error status information from the job response\"\n",
    "\n",
    "error_status(job_response)"
   ]
  },
  {
   "cell_type": "markdown",
   "metadata": {},
   "source": [
    "## Dissecting results\n",
    "Under `file_config`, the job title and your results should be present in `solutions`.\n",
    "\n",
    "### `process_job` status\n",
    "Here, we have the `process_job` presenting the timestamp of each step of the running process."
   ]
  },
  {
   "cell_type": "markdown",
   "metadata": {
    "vscode": {
     "languageId": "latex"
    }
   },
   "source": [
    "`````Dirac allocation balance = 0`````\n",
    "\n",
    "`````Job submitted job_id='xxxxx'-: yyyy/mm/dd hh:mm:ss`````\n",
    "\n",
    "`````queued: yyyy/mm/dd hh:mm:ss`````\n",
    "\n",
    "`````running: yyyy/mm/dd hh:mm:ss`````\n",
    "\n",
    "`````completed: yyyy/mm/dd hh:mm:ss`````\n",
    "\n",
    "`````Dirac allocation balance = 0`````"
   ]
  },
  {
   "cell_type": "markdown",
   "metadata": {},
   "source": [
    "### `job_response` status\n",
    "Details pertaining to the configuration of your job are presented here, including information about the job submitted, `job_info`, the device chosen, `device_config`, the status of the job repeated from `process_job`, `job_status`, and details of whether the job was completed or uncompleted, `details`."
   ]
  },
  {
   "cell_type": "markdown",
   "metadata": {},
   "source": [
    "```json\n",
    "{\n",
    "  \"job_info\": {\n",
    "    \"job_id\": \"6601958b832ac38bab8fe27f\",\n",
    "    \"job_submission\": {\n",
    "      \"problem_config\": {\n",
    "        \"quadratic_unconstrained_binary_optimization\": {\n",
    "          \"qubo_file_id\": \"6601953438d25ec78cae8a65\"\n",
    "        }\n",
    "      },\n",
    "\n",
    "      \"device_config\": {\n",
    "        \"dirac-1\": {\n",
    "          \"num_samples\": 1\n",
    "        }\n",
    "      }\n",
    "    },\n",
    "    \n",
    "    \"job_status\": {\n",
    "      \"submitted_at_rfc3339nano\": \"yyyy-mm-ddThh:mm:ss\",\n",
    "      \"queued_at_rfc3339nano\": \"yyyy-mm-ddThh:mm:ss\",\n",
    "      \"running_at_rfc3339nano\": \"yyyy-mm-ddThh:mm:ss\",\n",
    "      \"completed_at_rfc3339nano\": \"yyyy-mm-ddThh:mm:ss\"\n",
    "    },\n",
    "\n",
    "    \"job_result\": {\n",
    "      \"file_id\": \"660198fc38d25ec78cae8a67\",\n",
    "      \"device_usage_s\": 1\n",
    "    },\n",
    "    \n",
    "    \"details\": {\n",
    "      \"status\": \"completed\"\n",
    "    }\n",
    "  },\n",
    "}"
   ]
  },
  {
   "cell_type": "markdown",
   "metadata": {},
   "source": [
    "### `job_response` results\n",
    "Within the `job_response` we can identify the `solutions`, `energies`, and `counts` resulting from the job.\n",
    "\n",
    "`Solutions` are the binary solutions of the polynomial function.\n",
    "`Energies` are values obtained by evaluating a polynomial function at each solution obtained from the optimization process.\n",
    "`Counts` are the number of times a solution was found per iteration."
   ]
  },
  {
   "cell_type": "markdown",
   "metadata": {},
   "source": [
    "```json\n",
    "{\n",
    "  \"results\": {\n",
    "    \"file_id\": \"660198fc38d25ec78cae8a67\",\n",
    "    \"num_parts\": 1,\n",
    "    \"num_bytes\": 235,\n",
    "    \"file_config\": {\n",
    "      \"quadratic_unconstrained_binary_optimization_results\": {\n",
    "        \"counts\": [1],\n",
    "        \"energies\": [-3],\n",
    "        \"solutions\": [[1, 1, 0]]\n",
    "      }\n",
    "    }\n",
    "  }\n",
    "}"
   ]
  }
 ],
 "metadata": {
  "kernelspec": {
   "display_name": "eqc-deploy",
   "language": "python",
   "name": "python3"
  },
  "language_info": {
   "codemirror_mode": {
    "name": "ipython",
    "version": 3
   },
   "file_extension": ".py",
   "mimetype": "text/x-python",
   "name": "python",
   "nbconvert_exporter": "python",
   "pygments_lexer": "ipython3",
   "version": "3.10.11"
  }
 },
 "nbformat": 4,
 "nbformat_minor": 2
}
