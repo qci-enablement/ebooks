{
 "cells": [
  {
   "cell_type": "markdown",
   "metadata": {
    "id": "m49EtpeL69Xz"
   },
   "source": [
    "# Portfolio optimization on Dirac"
   ]
  },
  {
   "cell_type": "markdown",
   "metadata": {},
   "source": [
    "#### Device: Dirac-1"
   ]
  },
  {
   "cell_type": "markdown",
   "metadata": {},
   "source": [
    "## Introduction\n",
    "\n",
    "This approach seeks to identify a sub-portfolio of stocks that have superior risk-return profiles compared to the full portfolio. This identifies opportunities for an investor to simplify their investment strategy without sacrificing (and potentially enhancing) the risk-adjusted return. While the expected return on a portfolio is relatively straightforward to optimize by itself, optimizing against risk is more subtle when choosing a set of assets that individually have high returns. The reason that optimizing against risk is more challenging is because asset performances can be correlated. Intuitively, one can see that investing in two highly-correlated assets is more risky than if they are uncorrelated or even anti-correlated. If one of a highly correlated asset is performing poorly, the other in the pair is likely to do so as well. Thus, the variance of a portfolio with both assets can be significantly higher than it would be if they were uncorrelated. Minimizing the overall variance for the return of a portfolio therefore needs to take into account the covariance between the assets, making this a fundamentally quadratic problem, ideal for our Dirac-1 solver.\n",
    "\n",
    "## Importance\n",
    "\n",
    "Investments need not only give a good return on average, but also need to balance the potential risks. This balance will depend on the goal of the investor. For example, someone investing their retirement fund is likely to favor modest returns with low risks because the consequences of major losses are severe. On the other hand, someone who is day-trading in the hopes of having more money for entertainment might be willing to take more risks. There are of course many other scenarios with other risk levels. In general, the portfolio optimization problem is viewed as being a multi-objective problem. The goal is to balance the objective of maximizing return with the objective of minimizing risk. Even with multiple objectives there is still a sense of optimality, a portfolio is said to be \"efficient\" or \"[Pareto optimal](https://en.wikipedia.org/wiki/Multi-objective_optimizationy)\" if the only ways to decrease risk would be to also decrease return. Regardless of one's appetite for risk, it never makes sense to invest in a non-Pareto-Optimal portfolio, so our goal is to find those that are Pareto optimal and match the appetite for risk which is parameterized by a term  $\\xi$ in our description. It is worth noting that this tutorial is based on a relatively simplified but still commonly used model of portfolio optimization. Various efforts exist to take into account more complex structure in the distribution of expected returns, in particular [the failure to capture extreme events](http://math.bu.edu/people/murad/pub/hist11-posted.pdf).\n",
    "\n",
    "## Applications\n",
    "\n",
    "Portfolios diversification is necessary to achieve satisfactory outcomes for investors, making the kind of portfolio optimization discussed here (and potentially more complex variants) highly important. In spite of its simplicity, the model of diversification presented here, often referred to as [modern portfolio](https://www.britannica.com/money/modern-portfolio-theory-explained) theory, is [still used](https://www.nutmeg.com/nutmegonomics/markowitzs-legacy-why-modern-portfolio-theory-still). Improvements of the models presented here comprise a subject known as [post-modern portfolio theory](http://actuaries.org/AFIR/Colloquia/Orlando/Ferguson_Rom.pdf). One improvement is to consider a quantity known as [downside risk](https://www.lehigh.edu/~xuy219/research/Downside.pdf) instead of variance. Downside risk only takes into account the risk of portfolio elements underperforming a goal, rather than their total variation. Since the goal of diversification is to protect from risk, this approach can yield better performance.\n",
    "\n",
    "## Methodology\n",
    "\n",
    "Let K be the total number of available stocks to choose from (here $K = 253$), that is the size of the stock pool. We want to choose a subset of $K^\\prime$  ($K^\\prime < K$) stocks such that the portfolio risk is minimized, while the portfolio expected return is maximized, that is\n",
    "\n",
    "$\\min_{\\{x_{i}\\}_{i \\in \\{1, 2,..., K\\}}} [-E(R)^2 + \\xi VAR(R)]$\n",
    "\n",
    "where $R$ is the daily returns of the portfolio over some period of time, $VAR(R)$ and $E(R)$ are the variance and expectation of daily returns, $\\xi$ is a hyper-parameter, and $\\{x_{i}\\}$ are binary variables representing inclusion or exclusion of a stock. A large value means the focus of optimization is to increase return, whereas a small value indicates the reduction of risk is more important. As we can take both long and short positions on stocks, we assume that $x_1, x_2, ..., x_K$ corresponds to long positions on stocks 1 to $K$. \n",
    "\n",
    "As we are choosing a subset of $K^\\prime$ stocks, we also need the following constraint,\n",
    "\n",
    "$\\sum_{i=1}^{K} x_i = K^\\prime$\n",
    "\n",
    "Assuming that the same amount is invested on each of the K' selected stocks, the portfolio daily return at time t over a time period denoted by m can be expanded as follows,\n",
    "\n",
    "$R^{(m)}(t) =\\frac{1}{K^\\prime} \\sum_{i=1}^{K} x_i r^{(m)}_i(t)$\n",
    "\n",
    "where $r^{(m)}_i(t)$ is the daily return of stock i at time $t$ in time period $m$. The expectation of portfolio daily return over time period $m$ can thus be expanded as,\n",
    "\n",
    "$E(R^{(m)}) = \\frac{1}{K^\\prime} \\sum_{i=1}^{K} x_i E(r^{(m)}_i)$\n",
    "\n",
    "and the variance portfolio daily return over time period m is expanded as,\n",
    "\n",
    "$VAR(R^{(m)}) = \\frac{1}{K^{\\prime 2}} \\sum_{i=1}^{K} \\sum_{j=1}^{K} x_i x_j COV(r^{(m)}_i, r^{(m)}_j)$\n",
    "\n",
    "where $COV$ is the covariant function. \n",
    "\n",
    "The problem then reduces to\n",
    "\n",
    "$\\min_{\\{x_i\\}} {\\bf{x}^T} \\frac{1}{K^{\\prime 2}} [ Q^{(m)} - \\xi  P^{(m)}] {\\bf{x}}$\n",
    "\n",
    "where\n",
    "\n",
    "$Q^{(m)}_{ij} = COV(r^{(m)}_{i},  r^{(m)}_{j})$\n",
    "\n",
    "$P^{(m)}_{ij}= E(r_i^{(m)}) \\delta_{ij}$\n",
    "\n",
    "To avoid an over-fit on the portfolio data, we can minimize the average of the cost function over $M$ overlapping time periods, that is $m=1,2,...,M$. The problem becomes,\n",
    "\n",
    "$\\min_{\\{x_i\\}} {\\bf{x}^T} \\frac{1}{MK^{\\prime 2}} \\sum_{m=1}^{M}[ Q^{(m)} - \\xi  P^{(m)}] {\\bf{x}}$\n",
    "\n",
    "subject to,\n",
    "\n",
    "$\\sum_{i=1}^{K} x_i = K^\\prime$\n"
   ]
  },
  {
   "cell_type": "markdown",
   "metadata": {
    "id": "F9FHdczp8dPc"
   },
   "source": [
    "## Binary Optimization Method using Dirac 1\n",
    "Binary optimization simplifies investment decisions by selecting specific stocks for a portfolio while excluding others. Each stock is represented by a binary variable $x_i$:\n",
    "\n",
    "- $x_i = 0$  means the stock is not chosen.\n",
    "- $x_i = 1$ means the stock is chosen, where $i$ is the index of the stock.\n",
    "\n",
    "This method helps investors carefully pick and allocate assets to manage risk and achieve desired portfolio outcomes effectively."
   ]
  },
  {
   "cell_type": "markdown",
   "metadata": {
    "id": "DDB0KiG2PyOt"
   },
   "source": [
    "### Example\n",
    "\n",
    "Imagine you have $5$ stocks to choose from, and you want to select $3$ of them for your portfolio to maximize returns while minimizing risk.  We run this problem on our **Dirac-1** machine."
   ]
  },
  {
   "cell_type": "markdown",
   "metadata": {
    "colab": {
     "base_uri": "https://localhost:8080/",
     "height": 472
    },
    "id": "awS3KFHKPexO",
    "outputId": "2aa24712-4b0a-4b8e-80a5-1435d6976824"
   },
   "source": [
    "![options](img/binary/01.svg)"
   ]
  },
  {
   "cell_type": "markdown",
   "metadata": {
    "id": "9SBYCpx9-EP2"
   },
   "source": [
    "\n",
    "\n",
    "| Company | Symbol|\n",
    "|:--------:|:--------:|\n",
    "|  Microsoft Corp |  MSFT\t   |\n",
    "|  Apple Inc\t   |  AAPL\t   |\n",
    "|  Amazon.com Inc   |  AMZN\t   |\n",
    "|  Alphabet Inc   |  GOOG\t  |\n",
    "|  NVIDIA Corp   | NVDA  |\n",
    "\n",
    "\n",
    "\n",
    "\n",
    "We want to use binary optimization to select the best $3$ stocks out of $5$ available options for our portfolio.\n",
    "\n",
    " **Define Binary Variables**\n",
    "\n",
    "We define a binary variable $x_i$ for each stock  $i$ :\n",
    "\n",
    "-  $x_1$  for Microsoft Corp (MSFT)\n",
    "-  $x_2$  for Apple Inc (AAPL)\n",
    "-  $x_3$  for Amazon.com Inc (AMZN)\n",
    "-  $x_4$  for Alphabet Inc (GOOG)\n",
    "-  $x_5$  for NVIDIA Corp (NVDA)\n",
    "\n",
    "Each  $x_i$  can take values:\n",
    "- $0$  means the stock is not included in the portfolio.\n",
    "-  $1$  means the stock is included in the portfolio.\n",
    "\n",
    "**Constraint**\n",
    "\n",
    "We need exactly $3$ stocks in the portfolio, so the sum of the binary variables should be $3$:\n",
    "\n",
    " $x_1 + x_2 + x_3 + x_4 + x_5 = 3$\n",
    "\n",
    " **Objective**\n",
    "\n",
    "\n",
    "Our goal is to maximize the portfolio returns while minimizing risk.\n",
    "\n",
    "\n",
    "\n",
    "\n",
    "\n",
    "\n"
   ]
  },
  {
   "cell_type": "markdown",
   "metadata": {
    "id": "CnKfp6ArGcNV"
   },
   "source": [
    "In our tutorial, we have historical datasets containing stock prices over a period of time. Our goal is to use these datasets to calculate important metrics such as [the rate of return](https://en.wikipedia.org/wiki/Rate_of_return), [expected return](https://en.wikipedia.org/wiki/Expected_return), [variance](https://en.wikipedia.org/wiki/Variance), and [covariance](https://en.wikipedia.org/wiki/Covariance). By calculating these metrics for each stock in our portfolio, we gain insights into their performance and risk characteristics. Expected return helps us gauge potential profitability, variance quantifies the risk associated with individual stocks, and covariance indicates how stocks move relative to each other. These calculations are essential for making informed investment decisions aimed at optimizing returns while managing risk effectively.\n"
   ]
  },
  {
   "cell_type": "markdown",
   "metadata": {
    "id": "jwk_F-ZWcS9S"
   },
   "source": [
    "Let us begin by formulating the math.\n",
    "\n",
    "We define the following variables as:\n",
    "\n",
    "**1. K:** Total number of available stocks in given portfolio. In our example, **K** $= 5$\n",
    "\n",
    "**2. K':** Number of stocks to select for our optimized portfolio. In our example, **K'** $= 3$\n",
    "\n",
    "**3. R:** Daily returns or the Returns per Day of the portfolio\n",
    "\n",
    "**4. E(R):** Expected Return of the portfolio\n",
    "\n",
    "**5. Var(R):** Variance of returns\n",
    "\n",
    "**6. ξ (xi):** A parameter that balances the importance of maximizing returns versus minimizing risk.\n",
    "\n",
    "**7. $x_i$:** Binary variable indicating whether stock i is included in the portfolio.\n",
    "\n",
    "Now, we can define our **Objective Function**, i.e, the function that encapsulates the goal of constructing a portfolio that balances maximizing expected returns and minimizing risk.   as follows:\n",
    "\n",
    "\n"
   ]
  },
  {
   "cell_type": "markdown",
   "metadata": {
    "id": "PNvU1AVjfd5v"
   },
   "source": [
    "$$\n",
    "\\text{minimize} [ -E(R)^{2} + ξ*Var(R) ]\n",
    "$$\n",
    "\n",
    "This can be simplified to:\n",
    "\n",
    "$$\n",
    "\\text{minimize} [ - P + ξQ ]\n",
    "$$\n",
    "\n",
    "\n",
    "Where $P$ and $Q$ represent the matrices of expected returns and [covariance](https://en.wikipedia.org/wiki/Covariance_matrix) respectively.\n",
    "\n"
   ]
  },
  {
   "cell_type": "markdown",
   "metadata": {
    "id": "-LZk2wGVg0gN"
   },
   "source": [
    "### Constructing the Hamiltonian (H)\n",
    "\n",
    "In optimization, the Hamiltonian is constructed to encapsulate both the objective and the constraints. For this problem:\n",
    "\n",
    "$ H = -P + ξQ$"
   ]
  },
  {
   "cell_type": "markdown",
   "metadata": {
    "id": "FFE6sxtrwQRY"
   },
   "source": [
    "Before we begin, you'll need your unique token to access the QCi Client API and connect to the Dirac device. If you don't have a token yet, you can sign up for our [Free Trial Cloud Access](https://quantumcomputinginc.com/learn/tutorials-and-use-cases/quick-start-on-cloud)). Let's get started!"
   ]
  },
  {
   "cell_type": "markdown",
   "metadata": {
    "id": "ZUDrYNZ86-cs"
   },
   "source": [
    "You can download the data sets and get access to the full code base [here](https://github.com/cvadlamani/portfolio_optimization)"
   ]
  },
  {
   "cell_type": "markdown",
   "metadata": {
    "id": "wZwmfADLydqV"
   },
   "source": [
    "## Run () method"
   ]
  },
  {
   "cell_type": "markdown",
   "metadata": {
    "id": "wowis_RTydqV"
   },
   "source": [
    "The [run function](https://github.com/cvadlamani/portfolio_optimization/blob/main/run.py) is the main function designed to perform portfolio optimization algorithm by historical data up to the current date to select stocks expected to perform well going forward.\n",
    "\n",
    "It does three main things: first, it looks at how stocks have performed historically (in-sample returns). Then, it constructs a Hamiltonian matrix to balance returns and risks. Finally, it selects the optimal set of stocks for a given current date. The function ultimately returns a DataFrame of the selected stocks and the date on which the selection was made. Let's dive deeper into this function"
   ]
  },
  {
   "cell_type": "markdown",
   "metadata": {
    "colab": {
     "base_uri": "https://localhost:8080/",
     "height": 499
    },
    "id": "Q3TYGF-XM-JN",
    "outputId": "6d2a58d7-412a-427f-b72a-ad447e01e856"
   },
   "source": [
    "![flow](img/binary/02.svg)"
   ]
  },
  {
   "cell_type": "markdown",
   "metadata": {
    "id": "pIdl9wz2ydqV"
   },
   "source": [
    "### Step 1\n",
    "\n",
    "* Retrieve the historical return data for the in-sample period. This data is used to estimate the expected returns and risks of the stocks. The data covers the period leading up to the current date.\n",
    "\n",
    "\n"
   ]
  },
  {
   "cell_type": "code",
   "execution_count": 3,
   "metadata": {},
   "outputs": [
    {
     "ename": "ModuleNotFoundError",
     "evalue": "No module named 'parameters'",
     "output_type": "error",
     "traceback": [
      "\u001b[0;31m---------------------------------------------------------------------------\u001b[0m",
      "\u001b[0;31mModuleNotFoundError\u001b[0m                       Traceback (most recent call last)",
      "Cell \u001b[0;32mIn[3], line 7\u001b[0m\n\u001b[1;32m      5\u001b[0m \u001b[38;5;28;01mimport\u001b[39;00m \u001b[38;5;21;01mpandas\u001b[39;00m \u001b[38;5;28;01mas\u001b[39;00m \u001b[38;5;21;01mpd\u001b[39;00m\n\u001b[1;32m      6\u001b[0m \u001b[38;5;28;01mimport\u001b[39;00m \u001b[38;5;21;01mdatetime\u001b[39;00m\n\u001b[0;32m----> 7\u001b[0m \u001b[38;5;28;01mfrom\u001b[39;00m \u001b[38;5;21;01mparameters\u001b[39;00m \u001b[38;5;28;01mimport\u001b[39;00m IN_SAMPLE_DAYS\n\u001b[1;32m      8\u001b[0m \u001b[38;5;28;01mfrom\u001b[39;00m \u001b[38;5;21;01mget_stock_returns\u001b[39;00m \u001b[38;5;28;01mimport\u001b[39;00m get_stock_returns\n\u001b[1;32m     10\u001b[0m \u001b[38;5;66;03m#define your file path\u001b[39;00m\n",
      "\u001b[0;31mModuleNotFoundError\u001b[0m: No module named 'parameters'"
     ]
    }
   ],
   "source": [
    "'''\n",
    "Converts the current date to a datetime object and calculates the start and end dates for the in-sample\n",
    "and out-of-sample periods based on the IN_SAMPLE_DAYS\n",
    "'''\n",
    "import pandas as pd\n",
    "import datetime\n",
    "from parameters import IN_SAMPLE_DAYS\n",
    "from get_stock_returns import get_stock_returns\n",
    "\n",
    "#define your file path\n",
    "file_path = r\"company_stock_data.csv\"\n",
    "\n",
    "# Convert current date to datetime object\n",
    "current_date = pd.to_datetime(current_date)\n",
    "\n",
    "# Calculate in-sample date ranges\n",
    "in_sample_start_date = current_date - datetime.timedelta(days=IN_SAMPLE_DAYS)\n",
    "in_sample_end_date = current_date - datetime.timedelta(days=1)\n",
    "\n",
    "# Read stock data from CSV file and extract unique stock symbols\n",
    "file_path = FILE_PATH\n",
    "df = pd.read_csv(file_path)\n",
    "stocks = list(set(df[\"Symbol\"]))\n",
    "\n",
    "# Retrieve stock return data for in-sample and out-of-sample periods\n",
    "in_sample_returns_df = get_stock_returns(stocks, in_sample_start_date, in_sample_end_date)\n",
    "\n",
    "\n",
    "# Sort return data by date and fill missing values\n",
    "in_sample_returns_df = in_sample_returns_df.sort_values(\"Date\")\n",
    "in_sample_returns_df = in_sample_returns_df.fillna(method=\"ffill\").fillna(0)"
   ]
  },
  {
   "cell_type": "markdown",
   "metadata": {
    "id": "s0rDEhnGydqV"
   },
   "source": [
    "### Step 2\n",
    "\n",
    "* Construct the Hamiltonian matrix using the in-sample return data. This matrix combines the expected returns and the covariance of returns, forming the basis for the optimization objective function.\n",
    "\n",
    "```python\n",
    "#Calculates the Hamiltonian matrix based on the in-sample return data and the date range.\n",
    "hamiltonian_matrix = get_hamiltonian(in_sample_returns_df, stocks, in_sample_start_date,in_sample_end_date)\n"
   ]
  },
  {
   "cell_type": "markdown",
   "metadata": {
    "id": "3tjZPp0OydqV"
   },
   "source": [
    "### Step 3\n",
    "\n",
    "* Optimize the portfolio by selecting the stocks that provide the best balance between expected return and risk, based on the Hamiltonian matrix.\n",
    "\n",
    "```python\n",
    "#Uses the Hamiltonian matrix to find the optimal set of stocks.\n",
    "selected_stocks = optimize_portfolio(hamiltonian_matrix, stocks )\n"
   ]
  },
  {
   "cell_type": "markdown",
   "metadata": {
    "id": "hBSveX4YydqV"
   },
   "source": [
    "### Step 4\n",
    "\n",
    "* Create a DataFrame containing the selected stocks and store it in a csv file.\n",
    "```python\n",
    "  if os.path.exists(SEL_STOCK_OUT_FILE):\n",
    "        selected_stocks_df.to_csv(\n",
    "            SEL_STOCK_OUT_FILE, index=False, mode=\"a\", header=False,\n",
    "        )\n",
    "    else:\n",
    "        selected_stocks_df.to_csv(\n",
    "            SEL_STOCK_OUT_FILE, index=False,\n",
    "        )\n",
    "  #Creates a DataFrame to store the selected stocks.\n",
    "  selected_stocks_df = pd.DataFrame()\n",
    "  selected_stocks_df[\"Date\"] = [current_date ] * len(selected_stocks)\n"
   ]
  },
  {
   "cell_type": "markdown",
   "metadata": {
    "id": "OHoxaSimbwoU"
   },
   "source": [
    "Ou result JSON file contains the following fields:\n",
    "\n",
    "```python\n",
    "{\n",
    "  \"job_info\": {\n",
    "    \"job_id\": \"66747205450099160ba0be88\",\n",
    "    \"job_submission\": {\n",
    "      \"job_name\": \"Portfolio Optimization\",\n",
    "      \"job_tags\": [\n",
    "        \"portfolio stock optimization\"\n",
    "      ],\n",
    "      \"problem_config\": {\n",
    "        \"quadratic_linearly_constrained_binary_optimization\": {\n",
    "          \"constraints_file_id\": \"6674720598263204a365de67\",\n",
    "          \"objective_file_id\": \"6674720498263204a365de65\",\n",
    "          \"alpha\": 1,\n",
    "          \"atol\": 1e-10\n",
    "        }\n",
    "      },\n",
    "      \"device_config\": {\n",
    "        \"dirac-1\": {\n",
    "          \"num_samples\": 5\n",
    "        }\n",
    "      }\n",
    "    },\n",
    "    \"job_status\": {\n",
    "      \"submitted_at_rfc3339nano\": \"2024-06-20T18:16:37.616Z\",\n",
    "      \"queued_at_rfc3339nano\": \"2024-06-20T18:16:37.617Z\",\n",
    "      \"running_at_rfc3339nano\": \"2024-06-20T18:19:31.826Z\",\n",
    "      \"completed_at_rfc3339nano\": \"2024-06-20T18:20:40.12Z\"\n",
    "    },\n",
    "    \"job_result\": {\n",
    "      \"file_id\": \"667472f898263204a365de6f\",\n",
    "      \"device_usage_s\": 68\n",
    "    }\n",
    "  },\n",
    "  \"status\": \"COMPLETED\",\n",
    "  \"results\": {\n",
    "    \"counts\": [5],\n",
    "    \"energies\": [-8.993657729952648],\n",
    "    \"feasibilities\": [true],\n",
    "    \"objective_values\": [0.0063417898174550425],\n",
    "    \"solutions\": [\n",
    "      [1, 1, 0, 0, 1]\n",
    "    ]\n",
    "  }\n",
    "}\n",
    "\n"
   ]
  },
  {
   "cell_type": "markdown",
   "metadata": {
    "id": "0_fE3Vzdc6CA"
   },
   "source": [
    "\n",
    "Where:\n",
    "\n",
    "- **job_info**: Contains all the information about the job.\n",
    "  - **job_id**: A unique identifier for the job (`66747205450099160ba0be88`).\n",
    "  - **job_submission**: Details about the job submission.\n",
    "    - **job_name**: The name of the job (`Portfolio Optimization`).\n",
    "    - **job_tags**: Tags associated with the job (e.g., `portfolio stock optimization`).\n",
    "    - **problem_config**: Configuration of the problem to be solved.\n",
    "      - **quadratic_linearly_constrained_binary_optimization**: Specifies that the problem is a quadratic linearly constrained binary optimization.\n",
    "        - **constraints_file_id**: ID of the file containing the constraints (`6674720598263204a365de67`).\n",
    "        - **objective_file_id**: ID of the file containing the objective function (`6674720498263204a365de65`).\n",
    "        - **alpha**: A parameter used in the optimization (value: 1).\n",
    "        - **atol**: Absolute tolerance for the optimization (value: 1e-10).\n",
    "    - **device_config**: Configuration of the device used for the job.\n",
    "      - **dirac-1**: Specifies the device used (`dirac-1`).\n",
    "        - **num_samples**: Number of samples taken (value: 5).\n",
    "  - **job_status**: Status updates of the job.\n",
    "    - **submitted_at_rfc3339nano**: Time when the job was submitted (`2024-06-20T18:16:37.616Z`).\n",
    "    - **queued_at_rfc3339nano**: Time when the job was queued (`2024-06-20T18:16:37.617Z`).\n",
    "    - **running_at_rfc3339nano**: Time when the job started running (`2024-06-20T18:19:31.826Z`).\n",
    "    - **completed_at_rfc3339nano**: Time when the job completed (`2024-06-20T18:20:40.12Z`).\n",
    "  - **job_result**: Results of the job.\n",
    "    - **file_id**: ID of the file containing the job result (`667472f898263204a365de6f`).\n",
    "    - **device_usage_s**: Time the device was used, in seconds (value: 68).\n",
    "- **status**: The current status of the job (`COMPLETED`).\n",
    "- **results**: The outcomes of the job.\n",
    "  - **counts**: Number of samples taken for each solution (value: [5]).\n",
    "  - **energies**: Energies of the solutions (value: [-8.993657729952648]).\n",
    "  - **feasibilities**: Whether the solutions are feasible (value: [True]).\n",
    "  - **objective_values**: Objective values of the solutions (value: [0.0063417898174550425]).\n",
    "  - **solutions**: The actual solutions found (value: [[1, 1, 0, 0, 1]])."
   ]
  },
  {
   "cell_type": "markdown",
   "metadata": {
    "id": "6EuUBtbvdX8c"
   },
   "source": [
    "## Understanding the Results\n",
    "Each portfolio can be represented as a $5$-bit binary string, where each bit indicates whether a specific stock is included in the portfolio or not. For example, given the stock list:\n",
    "\n",
    " **[AAPL, AMZN, GOOG, MSFT, NVDA]**:\n",
    "\n",
    "- A binary string of $11010$ means:\n",
    "  - AAPL is included $(1)$\n",
    "  - AMZN is included $(1)$\n",
    "  - GOOG is not included $(0)$\n",
    "  - MSFT is included $(1)$\n",
    "  - NVDA is not included $(0)$"
   ]
  },
  {
   "cell_type": "markdown",
   "metadata": {
    "id": "vZ1cS9PoYzVK"
   },
   "source": [
    "### Step 5\n",
    "\n",
    "* From the result json display the selected stocks that from the optimized portfolio.\n",
    "```python\n",
    "print(\"Optimized portfolio contains the following stocks:\")\n",
    "    display(HTML(selected_stocks_df[[\"Stock\"]].tail(1).to_html()))\n"
   ]
  },
  {
   "cell_type": "markdown",
   "metadata": {
    "id": "PrvG-39QydqV"
   },
   "source": [
    "## Optimial Portfilio Selected:"
   ]
  },
  {
   "cell_type": "markdown",
   "metadata": {
    "id": "xUpBb_AVydqV"
   },
   "source": [
    "When we run our code, we will see that the optimal portfolio contains these 3 stocks:\n",
    "\n",
    "<table border=\"1\" class=\"dataframe\">\n",
    "  <thead>\n",
    "    <tr style=\"text-align: right;\">\n",
    "      <th></th>\n",
    "      <th>Stock</th>\n",
    "    </tr>\n",
    "  </thead>\n",
    "  <tbody>\n",
    "    <tr>\n",
    "      <th>0</th>\n",
    "      <td>AAPL</td>\n",
    "    </tr>\n",
    "    <tr>\n",
    "      <th>1</th>\n",
    "      <td>AMZN</td>\n",
    "    </tr>\n",
    "    <tr>\n",
    "      <th>2</th>\n",
    "      <td>MSFT</td>\n",
    "    </tr>\n",
    "  </tbody>\n",
    "</table>"
   ]
  },
  {
   "cell_type": "markdown",
   "metadata": {
    "id": "33JWceIakMjn"
   },
   "source": [
    "## Visualizing Optimal Portfolio Selected by Dirac-1"
   ]
  },
  {
   "cell_type": "markdown",
   "metadata": {
    "id": "7zcGdyT-HB7b"
   },
   "source": [
    "We are plotting the energy landscape values for different combinations of a portfolio that includes $3$ out of the $5$ possible stocks. This graph illustrates how **Dirac-1** identifies the portfolio with the lowest energy value among all combinations. The true minimum value labeled on the graph was determined by exhaustive search, and we compare it with the results from **Dirac-1**."
   ]
  },
  {
   "cell_type": "markdown",
   "metadata": {
    "colab": {
     "base_uri": "https://localhost:8080/",
     "height": 560
    },
    "id": "jVdKu42NGqVo",
    "outputId": "b98bab5a-703b-445e-8b85-5952e10320d0"
   },
   "source": [
    "![flow](img/binary/03.svg)"
   ]
  },
  {
   "cell_type": "markdown",
   "metadata": {
    "id": "X3TJLQJRIq8p"
   },
   "source": [
    "## Conclusion\n",
    "\n",
    "In conclusion, we observe that **Dirac-1** effectively finds the exact solution and successfully solves the portfolio optimization problem. For a more challenging and comprehensive use case, refer to our example tutorial on optimizing a 100-asset portfolio using the Nasdaq-100 to form an optimal portfolio containing 30 stocks as a benchmark with the **Dirac-**1 machine. Click [here](https://github.com/qci-enablement/qci-data/blob/main/learn/tutorials-and-use-cases/nasdaq100_stocks.csv) to learn more.\n"
   ]
  },
  {
   "cell_type": "markdown",
   "metadata": {
    "id": "QmSaCAUUByeP"
   },
   "source": [
    "### Next: Portfolio Optimization using Continuous Optimization on Dirac-3"
   ]
  },
  {
   "cell_type": "markdown",
   "metadata": {
    "id": "alMsQPSb78DM"
   },
   "source": [
    "##Citations\n",
    "[1] H. Markowitz,  [ The Journal of Finance 7, 77 (1952).](https://www.jstor.org/stable/2975974).\n",
    "\n",
    "[2] Wolfgang Sakuler et al. A real world test of Portfolio Optimization with Quantum Annealing. 2023.\n",
    "arXiv:[2303.12601 [quant-ph].](https://arxiv.org/abs/2303.12601)\n",
    "\n",
    "[3] Jeffrey Cohen, Alex Khan, and Clark Alexander. Portfolio Optimization of 60 Stocks Using\n",
    "Classical and Quantum Algorithms. 2020. arXiv: [2008.08669 [q-fin.GN]](https://arxiv.org/abs/2008.08669)\n",
    "\n",
    "[4] Frank Phillipson and Harshil Singh Bhatia. “Portfolio Optimisation Using the D-Wave Quantum\n",
    "Annealer”. In: Computational Science – ICCS 2021. Ed. by Maciej Paszynski et al. Cham: Springer\n",
    "International Publishing, 2021, pp. 45–59. ISBN: 978-3-030-77980-1.\n",
    "\n",
    "[5] S. Brandhofer, D. Braun, and V. Dehn. “Benchmarking the performance of portfolio optimization\n",
    "with QAOA”. In: Quantum Inf Process (2023)"
   ]
  }
 ],
 "metadata": {
  "colab": {
   "provenance": []
  },
  "kernelspec": {
   "display_name": "Python 3 (ipykernel)",
   "language": "python",
   "name": "python3"
  },
  "language_info": {
   "codemirror_mode": {
    "name": "ipython",
    "version": 3
   },
   "file_extension": ".py",
   "mimetype": "text/x-python",
   "name": "python",
   "nbconvert_exporter": "python",
   "pygments_lexer": "ipython3",
   "version": "3.11.4"
  }
 },
 "nbformat": 4,
 "nbformat_minor": 1
}
