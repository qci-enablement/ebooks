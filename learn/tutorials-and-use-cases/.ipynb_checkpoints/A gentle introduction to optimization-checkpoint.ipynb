{
 "cells": [
  {
   "cell_type": "markdown",
   "metadata": {},
   "source": [
    "# A gentle introduction to optimization\n",
    "#### Device: Dirac-3\n",
    "\n",
    "Entropy quantum computing (EQC) is an analog quantum computing paradigm for optimization. Optimization problems arise in many contexts, such as economics, drug discovery, finance, energy, supply chain, artificial intelligence (AI), transportation, and many more. While many users may be familiar with optimization, some may not be. The aim of this tutorial is to provide a guide for those who are not familiar with the topic, for a more in-depth discussion of combinatorial optimization, a particularly important subfield of optimization, please see [this lesson](https://quantumcomputinginc.com/learn/lessons/combinatorial-optimization-problems)."
   ]
  },
  {
   "cell_type": "markdown",
   "metadata": {},
   "source": [
    "![options](figures/gentle/01.svg)"
   ]
  },
  {
   "cell_type": "markdown",
   "metadata": {},
   "source": [
    "Our 3rd generation of EQC, Dirac-3, makes use qudits variables. Unlike qubits, qudits can take more than two possible values. This means that Dirac-3 can solve problems beyond binary (0,1), including integers and continuous numbers (all positive real rational numbers). For further information on qudits, please read through the [Qudit Primer](https://learn.quantumcomputinginc.com/learn/lessons/qudit-basics) to better understand the benefits of high-dimensional programming.\n",
    "\n",
    "This tutorial walks through how to program an EQC device, specifically Dirac-3, explains what an optimization problem is, and demonstrates with examples. For a more focused tutorial on how to start using the device, without introductory concepts, see our [Dirac-3 quick start](https://quantumcomputinginc.com/learn/tutorials-and-use-cases/dirac-3-quick-start)."
   ]
  },
  {
   "cell_type": "markdown",
   "metadata": {},
   "source": [
    "## What Is Optimization\n",
    "\n",
    "Optimization starts with identifying goals: searching for the best solution from a range of options, such as maximizing profits, minimizing costs, finding the quickest route, or using resources efficiently. These goals are often referred to as the objective function, and less commonly in more physics oriented literature, energy."
   ]
  },
  {
   "cell_type": "markdown",
   "metadata": {},
   "source": [
    "![options](figures/gentle/02.svg)"
   ]
  },
  {
   "cell_type": "markdown",
   "metadata": {},
   "source": [
    "Constraints are the rules or limitations, such as budget restrictions, time limits, or fuel constraints. Sometimes constraints are even just statements of physical realities, for example, that a travelling salesperson can only be in a single city at a time. They play a crucial role in optimization because they determine the maximum or minimum possibilities.\n",
    "\n",
    "In a nutshell, Dirac-3 is like having a genius mathematician working for you, ensuring that you make good choices, saving you time, energy, and resources."
   ]
  },
  {
   "cell_type": "markdown",
   "metadata": {},
   "source": [
    "## Optimization for an 8th Grader\n",
    "For a simple example of optimization, we borrow one from this book\n",
    "<sup>https://math.libretexts.org/Bookshelves/Calculus/Map%3A_Calculus__Early_Transcendentals_(Stewart)/04%3A_Applications_of_Differentiation/4.07%3A_Optimization_Problems<sup>"
   ]
  },
  {
   "cell_type": "markdown",
   "metadata": {},
   "source": [
    "A rectangular garden is to be constructed using a rock wall as one side of the garden and wire fencing for the other three sides (Figure 1). Given  100ft  of wire fencing, determine the dimensions that would create a garden of maximum area. What is the maximum area?"
   ]
  },
  {
   "cell_type": "markdown",
   "metadata": {},
   "source": [
    "![image.png](figures/gentle/03.svg)"
   ]
  },
  {
   "cell_type": "markdown",
   "metadata": {},
   "source": [
    "First, let  𝑥  denote the length of the side of the garden perpendicular to the rock wall and  𝑦  denote the length of the side parallel to the rock wall. Then the area of the garden is\n",
    "\\begin{equation*}\n",
    "A = xy.\n",
    "\\end{equation*}\n",
    "We want to find the maximum possible area,subject to the constraint that the total fencing is 100ft. From Figure 1, the total amount of fencing used will be 2𝑥+𝑦.  Therefore, the constraint equation is\n",
    "\\begin{equation*}\n",
    "2x + y = 100.\n",
    "\\end{equation*}\n",
    "Solving this equation for  𝑦, we have 𝑦 = 100 − 2𝑥. Thus, we can write the area as\n",
    "\\begin{equation*}\n",
    "A(x) = x(100 - 2x)\n",
    "     = 100x - 2x^2\n",
    "\\end{equation*}"
   ]
  },
  {
   "cell_type": "markdown",
   "metadata": {},
   "source": [
    "Let's go ahead and solve this optimization problem with Dirac-3."
   ]
  },
  {
   "cell_type": "code",
   "execution_count": 6,
   "metadata": {},
   "outputs": [],
   "source": [
    "# Import the necessary packages\n",
    "import numpy as np\n",
    "import networkx as nx\n",
    "import matplotlib.pyplot as plt\n",
    "import os\n",
    "from qci_client import QciClient"
   ]
  },
  {
   "cell_type": "markdown",
   "metadata": {},
   "source": [
    "Connect to Dirac-3 through the cloud using your unique token and access the QCi Client API. (if you don't have a token, go sign up for our [Free Trial Cloud Access](https://quantumcomputinginc.com/learn/tutorials-and-use-cases/quick-start-on-cloud)."
   ]
  },
  {
   "cell_type": "code",
   "execution_count": null,
   "metadata": {},
   "outputs": [],
   "source": [
    "# Input your access token\n",
    "token = \"your_token\"\n",
    "# Connect to the API URL\n",
    "api_url = \"https://api.qci-prod.com\"\n",
    "qclient = QciClient(api_token=token, url=api_url)"
   ]
  },
  {
   "cell_type": "markdown",
   "metadata": {},
   "source": [
    "The objective of EQC devices is to find the global minimum, representing the lowest values. However, in the problem we're solving, we aim to maximize the area with a limited amount of fence. Therefore, we need to negate the equation:\n",
    "$$\n",
    "\\mathrm{minimize}\\,\\, 100x-2x^{2}\n",
    "$$\n",
    "becomes\n",
    "$$\n",
    "\\mathrm{maximize}\\,\\, 2x^{2}-100x.\n",
    "$$"
   ]
  },
  {
   "cell_type": "markdown",
   "metadata": {},
   "source": [
    "### Formulating our equation into Dirac-3\n",
    "Dirac-3 takes an Ising Hamiltonian (up to fifth-order) as input and determines the lowest energy state. An Ising Hamiltonian represents a mathematical expression used to calculate the optimal energy or cost associated with a particular configuration of variables (e.g., configuring magnets or covering a specific area with limited fencing), aiming to minimize this energy or cost."
   ]
  },
  {
   "cell_type": "markdown",
   "metadata": {},
   "source": [
    "$$\n",
    "H_\\mathrm{objective} = \\sum_{i=1}^{N} C_{i}V_{i} + \\sum_{i,j=1}^{N, N} J_{ij} V_{i}V_{j} + \\sum_{i,j,k=1}^{N, N, N} T_{ijk} V_{i}V_{j}V_{k} + \\sum_{i,j,k,l=1}^{N, N, N, N} Q_{ijkl} V_{i}V_{j}V_{k}V_{l} + \\sum_{i,j,k,l,m=1}^{N, N, N, N, N} P_{ijklm} V_{i}V_{j}V_{k}V_{l}V_{m}\n",
    "$$\n",
    "\n",
    "$$\n",
    "R_\\mathrm{constraints} = \\sum_{i=1} V_{i}\n",
    "$$\n",
    "\n",
    "Since our problem only involves quadratic terms, we do not need higher order couplings, the expanded out objective function for our two variable problem (the reason for introducing a second variable will become clear later) becomes\n",
    "\n",
    "$$\n",
    "H_{objective} =  C_{1}V_{1} + C_{2}V_{2} +  J_{11} V_{1}V_{1} + J_{12} V_{1}V_{2} + J_{21} V_{2}V_{1} + J_{22} V_{2}V_{2}\n",
    "$$\n",
    "\n",
    "$$\n",
    "R_\\mathrm{constraints} = 100\n",
    "$$\n",
    "including terms which evaluate to zero, our objective is\n",
    "$$\n",
    "H_\\mathrm{objective}=2\\,x^{2}_{1}+0\\,x_{1}x_{2}+0\\,x_{2}x_{1}+0x^{2}_{2}-100\\,x_{1}+0\\,x_{2}\n",
    "$$\n",
    "Convert polynomial into matrix form:\n",
    "$$ \\begin{bmatrix}\n",
    "  x_{1}       & x_{1}^{2}   & x_{1}x_{2}   & \\cdots  & x_{1}x_{n}  \\\\\n",
    "  x_{2}       & x_{2}x_{1}    & x^{2}_2   & \\cdots  & x_{2}x_{n}  \\\\\n",
    "  \\vdots  & \\vdots  & \\vdots  & \\ddots  & \\vdots \\\\\n",
    "  x_{m}       & x_{m}x_{1}   & x_{m}x_{2}   & \\cdots  & x_{m}x_{n}  \\\\\n",
    "\\end{bmatrix}\n",
    "\\quad \\rightarrow\n",
    "\\quad\n",
    "C = \\begin{bmatrix}\n",
    "  x_{1}  \\\\\n",
    "  x_{2}  \\\\\n",
    "  \\vdots  \\\\\n",
    "  x_{m}   \\\\\n",
    "\\end{bmatrix}\n",
    "\\quad\n",
    "J = \\begin{bmatrix}\n",
    "  x_{1}^{2}   & x_{1}x_{2}   & \\cdots  & x_{1}x_{n}  \\\\\n",
    "  x_{2}x_{1}    & x^{2}_2   & \\cdots  & x_{2}x_{n}  \\\\\n",
    "  \\vdots  & \\vdots  & \\ddots  & \\vdots \\\\\n",
    "  x_{m}x_{1}   & x_{m}x_{2}   & \\cdots  & x_{m}x_{n}  \\\\\n",
    "\\end{bmatrix}\n",
    "\\quad \\rightarrow\n",
    "\\quad\n",
    "C = \\begin{bmatrix}\n",
    "  -100  \\\\\n",
    "  0     \\\\\n",
    "\\end{bmatrix}\n",
    "\\quad ,\n",
    "\\quad\n",
    "J = \\begin{bmatrix}\n",
    "  2   &0     \\\\\n",
    "  0    &0     \\\\\n",
    "\\end{bmatrix}\n",
    "$$\n",
    "\n",
    "An astute reader might be curious why we included $ x_2 $ at all, since all the terms involving it are zero. The reason relates to an addtional constraint on the problem information from the way the hardware is designed, known as a \"sum constraint\". We won't discuss the details here, but they can be found in our [Dirac-3 quick start](https://quantumcomputinginc.com/learn/tutorials-and-use-cases/dirac-3-quick-start)."
   ]
  },
  {
   "cell_type": "code",
   "execution_count": 190,
   "metadata": {},
   "outputs": [],
   "source": [
    "C = np.array([[-100],[0]])\n",
    "J = np.array([[2, 0], [0, 0]])\n",
    "C, J\n",
    "\n",
    "# Constraint (set to fence limit here, but generally could be set to any larger value as well due to presence of second variable)\n",
    "sum_constraint = 100"
   ]
  },
  {
   "cell_type": "markdown",
   "metadata": {},
   "source": [
    "Copy the <b>ising_solver</b> class to incorporate the necessary functions."
   ]
  },
  {
   "cell_type": "code",
   "execution_count": 191,
   "metadata": {},
   "outputs": [],
   "source": [
    "def ising_solver():\n",
    "    def sample_hamiltonian(C : np.ndarray, J : np.ndarray, sum_constraint : float, schedule : int, solution_precision : float, client : QciClient):\n",
    "        \n",
    "        if int(solution_precision) == solution_precision:\n",
    "            soltype = \"integer\"\n",
    "        else:\n",
    "            soltype = \"continuous\"\n",
    "        n = C.shape[0]\n",
    "        H = np.hstack([C.reshape([n, 1]), J])\n",
    "        ham_file = {\"file_name\": \"qudit-tutorial-hame\", \"file_config\": {\"hamiltonian\": {\"data\": H}}}\n",
    "        file_id = client.upload_file(ham_file)[\"file_id\"]\n",
    "        job_tags = [\"qudit-tutorial\"]\n",
    "        job_body = client.build_job_body(job_type=\"sample-hamiltonian\", hamiltonian_file_id=file_id, \n",
    "                                        job_params={\"sampler_type\": \"dirac-3\", \"nsamples\": 1, \"solution_type\": soltype,\n",
    "                                                    \"sum_constraint\": sum_constraint, \"relaxation_schedule\": schedule}, job_tags=job_tags)\n",
    "        response = client.process_job(job_type=\"sample-hamiltonian\", job_body=job_body, wait=True)\n",
    "        return response\n",
    "\n",
    "    def get_results(response):\n",
    "        results_file_config = response[\"results\"][\"file_config\"]\n",
    "        assert len(results_file_config) == 1, \"Unknown results format\"\n",
    "        return list(results_file_config.values())[0]\n",
    "\n",
    "def show_results():\n",
    "    results = get_results(response)\n",
    "    print(\"Status:\", response[\"job_info\"][\"details\"][\"status\"])\n",
    "    results = get_results(response)\n",
    "    print(\"Solution\")\n",
    "    print(results[\"solutions\"][0])\n",
    "    solution = np.array(results[\"solutions\"][0])\n",
    "    print(\"Energy:\", results[\"energies\"][0])\n",
    "    print(\"Solution Value (should match energy):\", C.T@solution + solution.T@J@solution)"
   ]
  },
  {
   "cell_type": "markdown",
   "metadata": {},
   "source": [
    "Now, you need to choose how precise you want your solutions to be with the <b>solution_precision</b>. This allows a distillation process that can give approximate solution to integer problems, an alternative is to treat the problem as continuous. In this case, the optimal solution to the continuous problem has fence lengths that take integer values, so either can be used.\n",
    "\n",
    "For <b>schedule</b>, Schedules 1, 2, 3, and 4 correspond to different time settings. Higher schedule numbers indicate longer runtime and, consequently, a higher probability of obtaining favorable results."
   ]
  },
  {
   "cell_type": "code",
   "execution_count": 192,
   "metadata": {},
   "outputs": [
    {
     "name": "stdout",
     "output_type": "stream",
     "text": [
      "Dirac allocation balance = 0\n",
      "Job submitted job_id='66354d3fd448b017e54f9436'-: 2024/05/03 16:46:55\n",
      "running: 2024/05/03 16:46:56\n",
      "completed: 2024/05/03 16:47:30\n",
      "Dirac allocation balance = 0\n",
      "Status: completed\n",
      "Solution\n",
      "[25, 75]\n",
      "Energy: -1250\n",
      "Solution Value (should match energy): [-1250]\n"
     ]
    }
   ],
   "source": [
    "schedule = 1\n",
    "solution_precision = 0.1\n",
    "\n",
    "response = sample_hamiltonian(C, J, sum_constraint, schedule, solution_precision, qclient)\n",
    "get_results(response)\n",
    "show_results()"
   ]
  },
  {
   "cell_type": "markdown",
   "metadata": {},
   "source": [
    "### Breakdown"
   ]
  },
  {
   "cell_type": "markdown",
   "metadata": {},
   "source": [
    "Our solution\n",
    "$$\n",
    "x_{1}=25, x_{2}=75 \n",
    "$$\n",
    "evaluates to\n",
    "$$\n",
    "2x^{2}_{1}+0x_{1}x_{2}+0x_{2}x_{1}+0x^{2}_{2}-100x_{1}+0x_{2}=\n",
    "$$\n",
    "$$\n",
    "2x^{2}_{1}-100x_{1}=\n",
    "$$\n",
    "$$\n",
    "2*(25)^{2}-100*(25) = 0\n",
    "$$\n",
    "25 is the optimal solution for 𝑥, the result of the evaluation is -1,250 corresponding to a maximum area of 1,250. A more step-by-step method is to determine 𝑦 to maximize the area.\n",
    "$$\n",
    "2x+y=100 \\rightarrow 2*(25)+y=100 \\rightarrow y=50\n",
    "$$\n",
    "$$\n",
    "A_{max} = 25*50\n",
    "$$\n",
    "$$\n",
    "A_{max} = 1250.\n",
    "$$\n",
    "This solution for maximum area aligns with the <b>Energy</b> and <b>Solution Value</b>, which are negative because we negated our objective function. The terminology of calling the objective function value \"energy\" originates in physics, where optimization processes can be thought of as analogies to cooling processes which minimize system energy."
   ]
  },
  {
   "cell_type": "markdown",
   "metadata": {},
   "source": [
    "## Conclusion\n",
    "\n",
    "This tutorial has been a very gentle introduction into optimization, specifically integer/continuous optimization with Dirac-3. If you want to start solving your own problems with this device, then please see [Dirac-3 quick start](https://quantumcomputinginc.com/learn/tutorials-and-use-cases/dirac-3-quick-start). If you want more details about the device itself, please see the [Dirac-3 product page](). For a much more in-depth understanding, please read our [recent preprint](https://arxiv.org/abs/2407.04512) about the device. For examples of different kinds of optimization please try our tutorials on [quadratic unconstrained binary optimization](https://quantumcomputinginc.com/learn/tutorials-and-use-cases/qubo-on-dirac) and [quadratic linearly constrained binary optimization](https://quantumcomputinginc.com/learn/tutorials-and-use-cases/qlcbo-on-dirac)."
   ]
  }
 ],
 "metadata": {
  "kernelspec": {
   "display_name": "Python 3 (ipykernel)",
   "language": "python",
   "name": "python3"
  },
  "language_info": {
   "codemirror_mode": {
    "name": "ipython",
    "version": 3
   },
   "file_extension": ".py",
   "mimetype": "text/x-python",
   "name": "python",
   "nbconvert_exporter": "python",
   "pygments_lexer": "ipython3",
   "version": "3.11.4"
  }
 },
 "nbformat": 4,
 "nbformat_minor": 4
}
