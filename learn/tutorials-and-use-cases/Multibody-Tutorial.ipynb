{
 "cells": [
  {
   "cell_type": "markdown",
   "metadata": {},
   "source": [
    "# Multi-body Tutorial\n",
    "Multi-body problems are polynomials where the total degree of at least one term in the polynomial is higher than 2. For instance\n",
    "$$\n",
    "f(x)=2x^3-x^2-x\n",
    "$$\n",
    "and \n",
    "$$\n",
    "f(x,y)=xy^2-x^2y+x+y\n",
    "$$ \n",
    "are two examples of cubic \"multi-body\" problems."
   ]
  },
  {
   "cell_type": "markdown",
   "metadata": {},
   "source": [
    "Multi-body support was added to `qci-client` in version 3.2.0. In order to utilize this tutorial, a version of `qci-client` of at least 4.0 is required."
   ]
  },
  {
   "cell_type": "code",
   "execution_count": null,
   "metadata": {},
   "outputs": [],
   "source": [
    "!pip install \"qci-client>=4.0\""
   ]
  },
  {
   "cell_type": "code",
   "execution_count": 1,
   "metadata": {},
   "outputs": [],
   "source": [
    "import numpy as np\n",
    "import matplotlib.pyplot as plt\n",
    "import qci_client as qc\n",
    "import eqc_direct.utils\n",
    "import eqc_direct.client\n"
   ]
  },
  {
   "cell_type": "code",
   "execution_count": 2,
   "metadata": {},
   "outputs": [],
   "source": [
    "client = qc.QciClient()"
   ]
  },
  {
   "cell_type": "markdown",
   "metadata": {},
   "source": [
    "## Polynomial Format\n",
    "The ability to support higher order terms efficiently for the majority of problems requires a sparse format. That format is inspired by polynomials themselves. Two different arrays are required. The first is a coefficient array. Each term in the function has an entry in the coefficient array. The second array, the indices array, is where to indicate which term the corresponding coefficient is for. The second polynomial from above is presented here.\n",
    "\n",
    "$$\n",
    "f(x,y)=xy^2-x^2y+x+y\n",
    "$$ \n",
    "is represented in polynomial format\n",
    "```\n",
    "poly_coefficients = [1, -1, 1, 1]\n",
    "poly_indices = [[1, 2, 2], [1, 1, 2], [0, 0, 1], [0, 0, 2]]\n",
    "```"
   ]
  },
  {
   "cell_type": "code",
   "execution_count": 3,
   "metadata": {},
   "outputs": [
    {
     "data": {
      "text/plain": [
       "'6629100598263204a3650319'"
      ]
     },
     "execution_count": 3,
     "metadata": {},
     "output_type": "execute_result"
    }
   ],
   "source": [
    "poly_coefficients = [1, -1, 1, 1]\n",
    "poly_indices = [[1, 2, 2], [1, 1, 2], [0, 0, 1], [0, 0, 2]]\n",
    "data = []\n",
    "for i in range(len(poly_coefficients)):\n",
    "    data.append({\n",
    "        \"val\": poly_coefficients[i],\n",
    "        \"idx\": poly_indices[i]\n",
    "    })\n",
    "poly_file = {\"file_name\": \"test-polynomial\",\n",
    "             \"file_config\": {\"polynomial\": {\n",
    "                 \"min_degree\": 1,\n",
    "                 \"max_degree\": 3,\n",
    "                 \"num_variables\": 2,\n",
    "                 \"data\": data\n",
    "             }}}\n",
    "file_id = client.upload_file(file=poly_file)[\"file_id\"]\n",
    "file_id"
   ]
  },
  {
   "cell_type": "code",
   "execution_count": 4,
   "metadata": {},
   "outputs": [
    {
     "data": {
      "text/plain": [
       "{'file_name': 'test-polynomial',\n",
       " 'file_config': {'polynomial': {'min_degree': 1,\n",
       "   'max_degree': 3,\n",
       "   'num_variables': 2,\n",
       "   'data': [{'val': 1, 'idx': [1, 2, 2]},\n",
       "    {'val': -1, 'idx': [1, 1, 2]},\n",
       "    {'val': 1, 'idx': [0, 0, 1]},\n",
       "    {'val': 1, 'idx': [0, 0, 2]}]}}}"
      ]
     },
     "execution_count": 4,
     "metadata": {},
     "output_type": "execute_result"
    }
   ],
   "source": [
    "poly_file"
   ]
  },
  {
   "cell_type": "code",
   "execution_count": 5,
   "metadata": {},
   "outputs": [
    {
     "data": {
      "text/plain": [
       "{'job_submission': {'problem_config': {'normalized_qudit_hamiltonian_optimization': {'polynomial_file_id': '6629100598263204a3650319'}},\n",
       "  'device_config': {'dirac-3': {'num_samples': 5,\n",
       "    'relaxation_schedule': 3,\n",
       "    'solution_precision': 1,\n",
       "    'sum_constraint': 10}}}}"
      ]
     },
     "execution_count": 5,
     "metadata": {},
     "output_type": "execute_result"
    }
   ],
   "source": [
    "job_body = client.build_job_body(job_type=\"sample-hamiltonian\", polynomial_file_id=file_id, job_params={\"device_type\": \"dirac-3\", \"sum_constraint\": 10, \"solution_precision\": 1, \"relaxation_schedule\": 3, \"num_samples\": 5})\n",
    "job_body"
   ]
  },
  {
   "cell_type": "code",
   "execution_count": 6,
   "metadata": {},
   "outputs": [
    {
     "name": "stdout",
     "output_type": "stream",
     "text": [
      "2024-04-24 07:58:30 - Dirac allocation balance = 0 s (unmetered)\n",
      "2024-04-24 07:58:30 - Job submitted: job_id='66291006bdefceebf853c906'\n",
      "2024-04-24 07:58:30 - QUEUED\n",
      "2024-04-24 07:58:32 - RUNNING\n",
      "2024-04-24 07:59:54 - COMPLETED\n",
      "2024-04-24 07:59:57 - Dirac allocation balance = 0 s (unmetered)\n"
     ]
    }
   ],
   "source": [
    "response = client.process_job(job_body=job_body)"
   ]
  },
  {
   "cell_type": "code",
   "execution_count": 7,
   "metadata": {},
   "outputs": [
    {
     "data": {
      "text/plain": [
       "{'job_info': {'job_id': '66291006bdefceebf853c906',\n",
       "  'job_submission': {'problem_config': {'normalized_qudit_hamiltonian_optimization': {'polynomial_file_id': '6629100598263204a3650319'}},\n",
       "   'device_config': {'dirac-3': {'num_samples': 5,\n",
       "     'relaxation_schedule': 3,\n",
       "     'solution_precision': 1,\n",
       "     'sum_constraint': 10}}},\n",
       "  'job_status': {'submitted_at_rfc3339nano': '2024-04-24T13:58:30.292Z',\n",
       "   'queued_at_rfc3339nano': '2024-04-24T13:58:30.292Z',\n",
       "   'running_at_rfc3339nano': '2024-04-24T13:58:31.09Z',\n",
       "   'completed_at_rfc3339nano': '2024-04-24T13:59:53.093Z'},\n",
       "  'job_result': {'file_id': '6629105998263204a365031b', 'device_usage_s': 10}},\n",
       " 'status': 'COMPLETED',\n",
       " 'results': {'counts': [2, 1, 1, 1],\n",
       "  'energies': [-85.8416367, -86.2230377, -86.172554, -86.0685577],\n",
       "  'solutions': [[8.0342817, 1.965718],\n",
       "   [7.8760204, 2.1239791],\n",
       "   [7.9416203, 2.0583792],\n",
       "   [7.9812946, 2.0187058]],\n",
       "  'distilled_energies': [-86, -86, -86, -86],\n",
       "  'distilled_solutions': [[8, 2], [8, 2], [8, 2], [8, 2]]}}"
      ]
     },
     "execution_count": 7,
     "metadata": {},
     "output_type": "execute_result"
    }
   ],
   "source": [
    "response"
   ]
  },
  {
   "cell_type": "markdown",
   "metadata": {},
   "source": []
  }
 ],
 "metadata": {
  "kernelspec": {
   "display_name": "eqc-deploy",
   "language": "python",
   "name": "python3"
  },
  "language_info": {
   "codemirror_mode": {
    "name": "ipython",
    "version": 3
   },
   "file_extension": ".py",
   "mimetype": "text/x-python",
   "name": "python",
   "nbconvert_exporter": "python",
   "pygments_lexer": "ipython3",
   "version": "3.10.12"
  }
 },
 "nbformat": 4,
 "nbformat_minor": 2
}
