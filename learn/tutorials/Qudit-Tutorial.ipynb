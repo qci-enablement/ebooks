{
 "cells": [
  {
   "cell_type": "markdown",
   "metadata": {},
   "source": [
    "# Quick Dirac-3 Programming Tutorial\n",
    "\n",
    "Entropy quantum computing (EQC) is a unique paradigm for optimization leveraging quantum Zeno effect. Most quantum and quantum-inspired programming models, including quantum annealing models are restricted to qubits. Dirac-3 hybrid quantum optimization machine, third generation of EQC, allows the use of qudits, which are units of quantum information taking more than 2 possible values. Be sure to read the [Qudit Basics](https://learn.quantumcomputinginc.com/learn/lessons/qudit-basics) to further understand the benefit of high dimensional encoding using qudits.\n",
    "\n",
    "This tutorial serves as a quick starter guide, offering practical examples to help users familiarize themselves with the solver characteristics, execute simple examples an interpret the results from Dirac-3 effectively.\n",
    "\n",
    "## Device - Dirac-3\n",
    "\n",
    "Dirac-3 solves quadratic Hamiltonians of up to 949 variables. Third-order has a maximum size of 135 variables and fourth-order polynomials can have up to 30 variables. All variables can have joint terms. For more details, see the [user guide](https://quantumcomputinginc.com/learn/dirac-3/dirac-3-users-guide). \n",
    "\n",
    "## Tutorial Structure\n",
    "\n",
    "The goal of this tutorial is to teach methods for extracting the most utility from Dirac-3. There are three different problems which we will use to demonstrate these techniques. \n",
    "\n",
    "1. The first is a simple example to help with understanding the domain of the qudits.\n",
    "2. The second example is a polynomial which will be used for demonstrating how different values of the summation constraint can be used to change the solution of the problem.\n",
    "4. The third example is a simple problem which, like the first, is minimized by setting one value to the whole quantity of $R$. The difference is that there are three solutions at optimality. Repeated runs will reveal different solutions.\n",
    "\n",
    "First, we'll get our Python environment set up. We need `numpy` two methods to sample and evaluate quadratic Hamiltonians, respectively, and a connection to a device. \n"
   ]
  },
  {
   "cell_type": "code",
   "execution_count": 1,
   "metadata": {},
   "outputs": [],
   "source": [
    "import numpy as np\n",
    "import matplotlib.pyplot as plt\n",
    "from qci_client import QciClient\n",
    "import os\n",
    "os.environ[\"QCI_API_URL\"] = api_url = \"https://api.qci-prod.com\"\n",
    "os.environ[\"QCI_TOKEN\"] = token = \"\" # REPLACE WITH YOUR TOKEN\n",
    "qclient = QciClient(api_token=token, url=api_url)"
   ]
  },
  {
   "cell_type": "markdown",
   "metadata": {},
   "source": [
    "The `sample_hamiltonian` method takes six required arguments. `C` and `J` are the linear and quadratic terms of the polynomial. These matrices are dense and the method converts into a sparse format for the `process_job` call. The `sum_constraint` parameter is a value which indicates the total returned given solution vector must add up to. The `schedule` parameter takes four different values, 1, 2, 3 or 4.\n",
    "\n",
    "1. This the quickest execution. It has the lowest probability of high quality solutions.\n",
    "2. The value 2 takes more time, likely a few seconds. It has a higher probability of finding good solutions.\n",
    "3. This value will take up to many tens of seconds. The quality of these solutions is expected to he higher.\n",
    "4. This is the longest running relaxation schedule. It takes up to multiple minutes of time and has the highest probability of quality solutions.\n",
    "\n",
    "The `solution_precision` parameter is a value which indicates how granular a solution should be. Use a value of 1 for integer solutions. More precise values such as 0.1 or 0.05 are low precision decimals and the highest precision accepted is 0.00001. Specify a connected `EqcClient` in the `client` parameter. Suppress print statements in the call using a value of `True` for `suppress_output`."
   ]
  },
  {
   "cell_type": "code",
   "execution_count": 2,
   "metadata": {},
   "outputs": [],
   "source": [
    "def sample_hamiltonian(C : np.ndarray, J : np.ndarray, sum_constraint : float, schedule : int, solution_precision : float, client : QciClient):\n",
    "    \n",
    "    n = C.shape[0]\n",
    "    H = np.hstack([C.reshape([n, 1]), J])\n",
    "    ham_file = {\"file_name\": \"qudit-tutorial-hame\", \"file_config\": {\"hamiltonian\": {\"data\": H}}}\n",
    "    file_id = client.upload_file(ham_file)[\"file_id\"]\n",
    "    job_tags = [\"qudit-tutorial\"]\n",
    "    job_body = client.build_job_body(job_type=\"sample-hamiltonian\", hamiltonian_file_id=file_id, \n",
    "                                     job_params={\"sampler_type\": \"dirac-3\", \"nsamples\": 1, \"solution_precision\": solution_precision,\n",
    "                                                 \"sum_constraint\": sum_constraint, \"relaxation_schedule\": schedule}, job_tags=job_tags)\n",
    "    response = client.process_job(job_type=\"sample-hamiltonian\", job_body=job_body, wait=True)\n",
    "\n",
    "    # total_device_time += resp[\"runtime\"]\n",
    "    return response\n",
    "def get_results(response):\n",
    "    if \"results\" in response and response[\"results\"] is not None:\n",
    "        results_file_config = response[\"results\"][\"file_config\"]\n",
    "        # results file config has one key, named by the job type detail\n",
    "        assert len(results_file_config) == 1, \"Unknown results format\"\n",
    "        results = list(results_file_config.values())[0]\n",
    "    else:\n",
    "        if \"job_info\" in response and \"job_result\" in response[\"job_info\"]:\n",
    "            details = response[\"job_info\"][\"job_result\"]\n",
    "        else:\n",
    "            details = None\n",
    "        raise RuntimeError(f\"Execution failed. See details: {details}\")\n",
    "    return results"
   ]
  },
  {
   "cell_type": "markdown",
   "metadata": {},
   "source": [
    "## Qudit Domain\n",
    "EQC devices like Dirac-3 using qudits solve problems with qudits defined as $x_i\\in[0, R]$ where $R$ is a summation constraint value. \n",
    "\n",
    "The first example shows the full range of the qudit domain. In this example, one variable will take on the total value of the summation constraint and the rest will take the value 0.\n",
    "\n",
    "Note the `dtype` of `float32`. This is the digital precision for floating point numbers used in the gRPC protocol. A warning will be raised if higher precision decimal values are used."
   ]
  },
  {
   "cell_type": "code",
   "execution_count": 3,
   "metadata": {},
   "outputs": [
    {
     "data": {
      "text/plain": [
       "(array([[-1.],\n",
       "        [ 0.],\n",
       "        [ 0.]], dtype=float32),\n",
       " array([[0., 1., 1.],\n",
       "        [1., 0., 1.],\n",
       "        [1., 1., 0.]], dtype=float32))"
      ]
     },
     "execution_count": 3,
     "metadata": {},
     "output_type": "execute_result"
    }
   ],
   "source": [
    "h = np.array([\n",
    "    [-1],\n",
    "    [0],\n",
    "    [0]\n",
    "], dtype=np.float32\n",
    ")\n",
    "J= np.array([\n",
    "    [0, 1, 1],\n",
    "    [1, 0, 1],\n",
    "    [1, 1, 0]\n",
    "], dtype=np.float32\n",
    ")\n",
    "h, J"
   ]
  },
  {
   "cell_type": "code",
   "execution_count": 4,
   "metadata": {},
   "outputs": [
    {
     "name": "stdout",
     "output_type": "stream",
     "text": [
      "Dirac allocation balance = 0\n",
      "Job submitted job_id='65dff2f21e7c62f822901851'-: 2024/02/28 19:58:58\n",
      "running: 2024/02/28 19:58:59\n",
      "completed: 2024/02/28 19:59:46\n",
      "Dirac allocation balance = 0\n",
      "Status: completed\n",
      "Energy: -400\n",
      "Solution\n",
      "[400, 0, 0]\n",
      "Solution Value (should match energy) [-400.]\n",
      "Known ground state [-400.]\n",
      "With solution [400   0   0]\n"
     ]
    }
   ],
   "source": [
    "response = sample_hamiltonian(h, J, 400, 1, 0.1, qclient)\n",
    "if \"job_info\" in response:\n",
    "    print(\"Status:\", response[\"job_info\"][\"details\"][\"status\"])\n",
    "    results = get_results(response)\n",
    "    print(\"Energy:\", results[\"energies\"][0])\n",
    "    print(\"Solution\")\n",
    "    print(results[\"solutions\"][0])\n",
    "    solution = np.array(results[\"solutions\"][0])\n",
    "    print(\"Solution Value (should match energy)\", h.T@solution + solution.T@J@solution)\n",
    "    x = np.array([400, 0, 0])\n",
    "    print(\"Known ground state\", h.T@x + x.T@J@x)\n",
    "    print(\"With solution\", x)\n",
    "else:\n",
    "    print(response)"
   ]
  },
  {
   "cell_type": "markdown",
   "metadata": {},
   "source": [
    "\n",
    "## Dynamic Range\n",
    "\n",
    "Solution precision is dictated by the measurement sensitivity of the underlying photonics. Dirac-3.1 has a dynamic range of at least 23 dB. This means that values from the Hamiltonian which have an absolute magnitude smaller than approximately 1/200 the value of the largest magnitude may not be recognized within the device (will essentially be the same as 0) when encoding the Hamiltonian. In some cases, the device sensitivity is as high as 40 dB. This has an effect of making some solutions indistinguishable from each other. In practice, the higher dynamic range may be recognizable, but is not guaranteed. \n",
    "\n",
    "The device minimizes Hamiltonians using discrete levels, which do not necessarily have unit spacing. The number of levels is at least 200, but the device may reach up to 10,000 levels during any particular run, corresponding to 23 dB and 40 dB. Each level will have an incremental value based on the summation constraint, $R$. The qudit values will be within some error of a level which takes on a value $i\\frac{R}{200}$ when the number of levels reached is equal to 200. $i$ is the level number. Level 0 is $0\\left(\\frac{R}{200}\\right)$ and level 1 is $\\frac{R}{200}$. \n",
    "\n",
    "Device sensitivity is not controlled by user inputs and so the number of levels should not be a part of a problem formulation. More details on this are available in the Dirac-3 User Guide.\n"
   ]
  },
  {
   "cell_type": "markdown",
   "metadata": {},
   "source": [
    "## Summation Constraint\n",
    "\n",
    "The summation constraint is required to be some value between 1 and 10,000. This restriction is a property of Dirac-3.1 and not EQC in general. This constraint is helpful in some models and a formulation hurdle in others. In all formulations of TSP, for instance, the sum of a final solution is known beforehand. A Hamiltonian cycle (another one of those confusing terminologies that shows up when mathematicians and physicists work together) has exactly $n$ edges, where $n$ is the number of nodes in a graph. This means that solving a TSP with Dirac-3 requires setting the sum constraint equal to the number of nodes in the graph.\n",
    "\n",
    "Other cases where the sparsity or sum of the solution is not known before solving can be solved with a couple of different approaches.\n",
    "\n",
    "### Machine Slack Qudits\n",
    "When formulating a model, it can be advantageous to add slack variables. To use this method when setting a summation constraint, formulate the Hamiltonian like normal, then determine a lower bound and an upper bound on the sum of the qudit values. Introduce additional an additional qudit into the formulated model which can sum to the upper bound minus the lower bound. This additional variable in the model will be ignored in the solution. See some of the more indepth examples, like Max Cut, to understand slack qudits in action. \n",
    "\n"
   ]
  },
  {
   "cell_type": "markdown",
   "metadata": {},
   "source": [
    "### Minimizing a simple polynomial\n",
    "\n",
    "Let $H(x)=-5x_1x_3-4x_2^2-10x_1-10x_3$. This polynomial has no lower bound, but within a finite domain, it does. If $\\sum_i x_i = R$, then $H(s)$ has a minimum value which changes negatively with $R$ and changes the cardinality of $x$. At some value of $S$, all values greater force the minimization of $H(x)$ to have $x_1=x_3=0, x_2=R$. Below that point, $x_1=x_3=R/2,x_2=0$."
   ]
  },
  {
   "cell_type": "code",
   "execution_count": 5,
   "metadata": {},
   "outputs": [
    {
     "name": "stdout",
     "output_type": "stream",
     "text": [
      "**********************************\n",
      "S=2\n",
      "Dirac allocation balance = 0\n",
      "Job submitted job_id='65dff3241e7c62f822901852'-: 2024/02/28 19:59:48\n",
      "running: 2024/02/28 19:59:50\n",
      "completed: 2024/02/28 19:59:56\n",
      "Dirac allocation balance = 0\n",
      "Status: completed\n",
      "Energy: -24.99830436706543\n",
      "Solution\n",
      "[0.9815806150436401, 1.0000000116860974e-07, 1.0184195041656494]\n",
      "\n",
      "**********************************\n",
      "S=3\n",
      "Dirac allocation balance = 0\n",
      "Job submitted job_id='65dff32f1e7c62f822901853'-: 2024/02/28 19:59:59\n",
      "running: 2024/02/28 20:00:00\n",
      "completed: 2024/02/28 20:00:06\n",
      "Dirac allocation balance = 0\n",
      "Status: completed\n",
      "Energy: -41.234031677246094\n",
      "Solution\n",
      "[1.5565037727355957, 2.0000000233721948e-07, 1.4434959888458252]\n",
      "\n",
      "**********************************\n",
      "S=4\n",
      "Dirac allocation balance = 0\n",
      "Job submitted job_id='65dff3391e7c62f822901854'-: 2024/02/28 20:00:09\n",
      "running: 2024/02/28 20:00:10\n",
      "completed: 2024/02/28 20:00:16\n",
      "Dirac allocation balance = 0\n",
      "Status: completed\n",
      "Energy: -59.988162994384766\n",
      "Solution\n",
      "[2.0486626625061035, 1.0000000116860974e-07, 1.9513375759124756]\n",
      "\n",
      "**********************************\n",
      "S=5\n",
      "Dirac allocation balance = 0\n",
      "Job submitted job_id='65dff3431e7c62f822901855'-: 2024/02/28 20:00:19\n",
      "running: 2024/02/28 20:00:20\n",
      "completed: 2024/02/28 20:00:26\n",
      "Dirac allocation balance = 0\n",
      "Status: completed\n",
      "Energy: -100\n",
      "Solution\n",
      "[0, 5, 0]\n",
      "\n",
      "**********************************\n",
      "S=6\n",
      "Dirac allocation balance = 0\n",
      "Job submitted job_id='65dff34d1e7c62f822901856'-: 2024/02/28 20:00:29\n",
      "running: 2024/02/28 20:00:30\n",
      "completed: 2024/02/28 20:00:36\n",
      "Dirac allocation balance = 0\n",
      "Status: completed\n",
      "Energy: -104.99845123291016\n",
      "Solution\n",
      "[3.017604351043701, 1.0000000116860974e-07, 2.982395648956299]\n",
      "\n",
      "**********************************\n",
      "S=7\n",
      "Dirac allocation balance = 0\n",
      "Job submitted job_id='65dff3571e7c62f822901857'-: 2024/02/28 20:00:39\n",
      "running: 2024/02/28 20:00:40\n",
      "completed: 2024/02/28 20:00:46\n",
      "Dirac allocation balance = 0\n",
      "Status: completed\n",
      "Energy: -196\n",
      "Solution\n",
      "[1.0000000116860974e-07, 7, 0]\n",
      "\n"
     ]
    }
   ],
   "source": [
    "h = np.array([[-10.],\n",
    "              [  0.],\n",
    "              [-10.]], dtype=np.float32)\n",
    "J = np.array([[0.,    0.,   -2.5],\n",
    "              [0.,   -4.,    0. ],\n",
    "              [-2.5,   0.,    0. ]], dtype=np.float32)\n",
    "for S in [2, 3, 4, 5, 6, 7]:\n",
    "    print(\"**********************************\")\n",
    "    print(f\"S={S}\")\n",
    "    response = sample_hamiltonian(h, J, S, 3, 0.1, qclient)\n",
    "    results = get_results(response)\n",
    "    print(\"Status:\", response[\"job_info\"][\"details\"][\"status\"])\n",
    "    results = get_results(response)\n",
    "    print(\"Energy:\", results[\"energies\"][0])\n",
    "    print(\"Solution\")\n",
    "    print(results[\"solutions\"][0])\n",
    "    print()"
   ]
  },
  {
   "cell_type": "markdown",
   "metadata": {},
   "source": [
    "For reference, here is a job response that is returned in JSON from the REST API"
   ]
  },
  {
   "cell_type": "code",
   "execution_count": 6,
   "metadata": {},
   "outputs": [
    {
     "data": {
      "text/plain": [
       "{'job_info': {'job_id': '65dff3571e7c62f822901857',\n",
       "  'job_submission': {'problem_config': {'normalized_qudit_hamiltonian_optimization_continuous': {'hamiltonian_file_id': '65dff356fd7ff43e52669ab3'}},\n",
       "   'device_config': {'dirac-3': {'num_samples': 1,\n",
       "     'sum_constraint': 7,\n",
       "     'relaxation_schedule': 3}}},\n",
       "  'job_status': {'submitted_at_rfc3339nano': '2024-02-29T03:00:39.435Z',\n",
       "   'queued_at_rfc3339nano': '2024-02-29T03:00:39.436Z',\n",
       "   'running_at_rfc3339nano': '2024-02-29T03:00:40.249Z',\n",
       "   'completed_at_rfc3339nano': '2024-02-29T03:00:46.68Z'},\n",
       "  'job_result': {'file_id': '65dff35efd7ff43e52669ab5', 'device_usage_s': 1},\n",
       "  'details': {'status': 'completed'}},\n",
       " 'results': {'file_id': '65dff35efd7ff43e52669ab5',\n",
       "  'num_parts': 1,\n",
       "  'num_bytes': 256,\n",
       "  'file_config': {'normalized_qudit_hamiltonian_optimization_continuous_results': {'counts': [1],\n",
       "    'energies': [-196],\n",
       "    'solutions': [[1.0000000116860974e-07, 7, 0]]}}}}"
      ]
     },
     "execution_count": 6,
     "metadata": {},
     "output_type": "execute_result"
    }
   ],
   "source": [
    "response"
   ]
  },
  {
   "cell_type": "markdown",
   "metadata": {},
   "source": [
    "## Degeneracy Demonstration\n",
    "\n",
    "Dirac-3 will return various solutions to a problem with multiple solutions near the optimal value. This is supporting evidence for the existence of superposition honed through interference in the device.\n",
    "\n",
    "Let's see what happens with a clearly degenerate problem. Take the first example modified to give the same weight to all the linear terms. Each solution: `[S, 0, 0]`, `[0, S, 0]` and `[0, 0, S]` give the same value for the Hamiltonian."
   ]
  },
  {
   "cell_type": "code",
   "execution_count": 7,
   "metadata": {},
   "outputs": [],
   "source": [
    "h = np.array([[-1],\n",
    "              [-1],\n",
    "              [-1]], dtype=np.float32)\n",
    "J = np.array([[0, 1, 1],\n",
    "              [1, 0, 1],\n",
    "              [1, 1, 0]], dtype=np.float32)\n"
   ]
  },
  {
   "cell_type": "code",
   "execution_count": 8,
   "metadata": {},
   "outputs": [
    {
     "name": "stdout",
     "output_type": "stream",
     "text": [
      "Dirac allocation balance = 0\n",
      "Job submitted job_id='65dff3611e7c62f822901858'-: 2024/02/28 20:00:49\n",
      "completed: 2024/02/28 20:00:50\n",
      "Dirac allocation balance = 0\n",
      "Dirac allocation balance = 0\n",
      "Job submitted job_id='65dff3651e7c62f822901859'-: 2024/02/28 20:00:53\n",
      "completed: 2024/02/28 20:00:54\n",
      "Dirac allocation balance = 0\n",
      "Dirac allocation balance = 0\n",
      "Job submitted job_id='65dff3691e7c62f82290185a'-: 2024/02/28 20:00:57\n",
      "completed: 2024/02/28 20:00:59\n",
      "Dirac allocation balance = 0\n",
      "Dirac allocation balance = 0\n",
      "Job submitted job_id='65dff36d1e7c62f82290185b'-: 2024/02/28 20:01:01\n",
      "completed: 2024/02/28 20:01:03\n",
      "Dirac allocation balance = 0\n",
      "Dirac allocation balance = 0\n",
      "Job submitted job_id='65dff3711e7c62f82290185c'-: 2024/02/28 20:01:05\n",
      "completed: 2024/02/28 20:01:07\n",
      "Dirac allocation balance = 0\n",
      "Dirac allocation balance = 0\n",
      "Job submitted job_id='65dff3751e7c62f82290185d'-: 2024/02/28 20:01:09\n",
      "completed: 2024/02/28 20:01:11\n",
      "Dirac allocation balance = 0\n",
      "Dirac allocation balance = 0\n",
      "Job submitted job_id='65dff3791e7c62f82290185e'-: 2024/02/28 20:01:13\n",
      "completed: 2024/02/28 20:01:15\n",
      "Dirac allocation balance = 0\n",
      "Dirac allocation balance = 0\n",
      "Job submitted job_id='65dff37e1e7c62f82290185f'-: 2024/02/28 20:01:18\n",
      "running: 2024/02/28 20:01:19\n",
      "completed: 2024/02/28 20:01:21\n",
      "Dirac allocation balance = 0\n",
      "Dirac allocation balance = 0\n",
      "Job submitted job_id='65dff3831e7c62f822901860'-: 2024/02/28 20:01:23\n",
      "completed: 2024/02/28 20:01:25\n",
      "Dirac allocation balance = 0\n",
      "Dirac allocation balance = 0\n",
      "Job submitted job_id='65dff3881e7c62f822901861'-: 2024/02/28 20:01:28\n",
      "running: 2024/02/28 20:01:30\n",
      "completed: 2024/02/28 20:01:31\n",
      "Dirac allocation balance = 0\n",
      "Solution           | Frequency\n",
      "(0.0, 400.0, 0.0)    ****\n",
      "(400, 0, 0)    ******\n"
     ]
    },
    {
     "data": {
      "image/png": "[encoded data removed]",
      "text/plain": [
       "<Figure size 640x480 with 1 Axes>"
      ]
     },
     "metadata": {},
     "output_type": "display_data"
    }
   ],
   "source": [
    "super_test = {}\n",
    "for i in range(10):\n",
    "    response = sample_hamiltonian(h, J, 400, 1, 0.1, qclient)\n",
    "    results = get_results(response)\n",
    "    solution = [round(v, 1) for v in results[\"solutions\"][0]]\n",
    "    solution = tuple(solution)\n",
    "    if solution in super_test:\n",
    "        super_test[solution] += 1\n",
    "    else:\n",
    "        super_test[solution] = 1\n",
    "print(\"Solution           | Frequency\")\n",
    "for solution in super_test:\n",
    "    print(solution, \"  \", \"*\"*super_test[solution])\n",
    "labels = list(super_test.keys())\n",
    "sizes = [super_test[key] for key in labels]\n",
    "fig, ax = plt.subplots()\n",
    "patches, labels = ax.pie(sizes, labels=labels)"
   ]
  },
  {
   "cell_type": "code",
   "execution_count": null,
   "metadata": {},
   "outputs": [],
   "source": []
  }
 ],
 "metadata": {
  "kernelspec": {
   "display_name": "eqctest",
   "language": "python",
   "name": "python3"
  },
  "language_info": {
   "codemirror_mode": {
    "name": "ipython",
    "version": 3
   },
   "file_extension": ".py",
   "mimetype": "text/x-python",
   "name": "python",
   "nbconvert_exporter": "python",
   "pygments_lexer": "ipython3",
   "version": "3.10.12"
  }
 },
 "nbformat": 4,
 "nbformat_minor": 2
}
