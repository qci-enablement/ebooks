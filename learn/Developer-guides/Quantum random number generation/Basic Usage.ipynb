{
 "cells": [
  {
   "cell_type": "markdown",
   "metadata": {},
   "source": [
    "# Basic Usage\n",
    "\n",
    "#### Device: uQRNG\n",
    "\n",
    "This package uses gRPC messaging to interface with the device. The following sections cover basic usage patterns for sampling and system monitoring."
   ]
  },
  {
   "cell_type": "markdown",
   "metadata": {},
   "source": [
    "## uQRNG Sampling"
   ]
  },
  {
   "cell_type": "markdown",
   "metadata": {},
   "source": [
    "uQRNG offers two types of sampling for users: [`uqrng_direct.client.UqrngClient.GetEntropy()`](https://quantumcomputinginc.com/learn/reference-documentation/uqrng-direct/v1.0.0/uqrng-direct#uqrng_direct.client.UqrngClient.GetEntropy), which allows users to sample uniform random bits, and [`uqrng_direct.client.UqrngClient.GetNoise()`](https://quantumcomputinginc.com/learn/reference-documentation/uqrng-direct/v1.0.0/uqrng-direct#uqrng_direct.client.UqrngClient.GetNoise), which enables sampling from uniform random qudits with values ranging from 0 to 99,999. These qudits are used to generate the uniform random bits provided by [`uqrng_direct.client.UqrngClient.GetEntropy()`](https://quantumcomputinginc.com/learn/reference-documentation/uqrng-direct/v1.0.0/uqrng-direct#uqrng_direct.client.UqrngClient.GetEntropy). In order to sample from the device must fill in the IP address specific to your device in place of “YOUR DEVICE_IP_ADDRESS” in each of the below examples."
   ]
  },
  {
   "cell_type": "markdown",
   "metadata": {},
   "source": [
    "### Pulling random bits\n",
    "\n",
    "The device streams random bits as bytes. Below is a basic pattern on how to get random bits from the uqrng device and convert it into a variety of formats:"
   ]
  },
  {
   "cell_type": "code",
   "execution_count": null,
   "metadata": {},
   "outputs": [],
   "source": [
    "from uqrng_direct.client import UqrngClient\n",
    "# MUST FILL IN \"YOUR DEVICE IP ADDRESS\" based on your devices network location\n",
    "qrng_client = UqrngClient(ip_address=\"YOUR DEVICE IP ADDRESS\")\n",
    "qrn_bytes = qrng_client.GetEntropy(bits_of_entropy = 32*2)\n",
    "print(\"As bytes:\", qrn_bytes)\n",
    "print(\"As bitstring:\", qrn_bytes.decode(\"utf-8\"))\n",
    "# convert to four 32 bit integers\n",
    "print(\"As integer:\", [int(qrn_bytes[i:i+32], 2) for i in range(0, 32*2, 32)])"
   ]
  },
  {
   "cell_type": "markdown",
   "metadata": {},
   "source": [
    "#### Output:"
   ]
  },
  {
   "cell_type": "code",
   "execution_count": null,
   "metadata": {},
   "outputs": [],
   "source": [
    "As bytes: b'1101000001101101010111100001011000101100001100100111111011110010'\n",
    "As bitstring: 1101000001101101010111100001011000101100001100100111111011110010\n",
    "As integer: [3496828438, 741506802]"
   ]
  },
  {
   "cell_type": "markdown",
   "metadata": {},
   "source": [
    "### Reading Raw Data from the Device\n",
    "\n",
    "Similarly, users can sample from the underlying uniform qudits (0-99,999) as follows:"
   ]
  },
  {
   "cell_type": "code",
   "execution_count": null,
   "metadata": {},
   "outputs": [],
   "source": [
    "from uqrng_direct.client import UqrngClient\n",
    "\n",
    "ip_address = \"YOUR_DEVICE_IP_ADDRESS\"\n",
    "uqrng_client = UqrngClient(ip_address=\"YOUR DEVICE IP ADDRESS\",\n",
    "                           port=\"YOUR DEVICE PORT\")\n",
    "qrn_raw = uqrng_client.GetNoise(number_of_samples_requested=10)\n",
    "print(qrn_raw)"
   ]
  },
  {
   "cell_type": "markdown",
   "metadata": {},
   "source": [
    "#### Output:"
   ]
  },
  {
   "cell_type": "code",
   "execution_count": null,
   "metadata": {},
   "outputs": [],
   "source": [
    "[75924, 96750, 31464, 66745, 97927, 95729, 44771, 43926, 20887, 80849],"
   ]
  },
  {
   "cell_type": "markdown",
   "metadata": {},
   "source": [
    "### Additional Sampling Parameters"
   ]
  },
  {
   "cell_type": "markdown",
   "metadata": {},
   "source": [
    "Since each request is processed on demand, if two users attempt to access the device to sample simultaneously, then the device will return a gRPC UNAVAILABLE error with the message “QRNG currently in use”. However, both of the above functions have parameters to allow users to wait either indefinitely or a specific time frame for their request to be processed:\n",
    "\n",
    "* **wait:** bool - whether to wait for device to become available\n",
    "* **timeout:** int - seconds to wait for QRNG device to become available. If is less than or equal to 0, then the request waits indefinitely."
   ]
  },
  {
   "cell_type": "markdown",
   "metadata": {},
   "source": [
    "## Health Tests and System Monitoring\n",
    "\n",
    "There are several utility functions provided to support system monitoring and running health tests.\n",
    "\n",
    "### Checking System Status\n",
    "\n",
    "Below is an example of how to request the uQRNG device’s current system status:."
   ]
  },
  {
   "cell_type": "code",
   "execution_count": null,
   "metadata": {},
   "outputs": [],
   "source": [
    "qrng_client.SystemStatus()"
   ]
  },
  {
   "cell_type": "markdown",
   "metadata": {},
   "source": [
    "#### Output:"
   ]
  },
  {
   "cell_type": "code",
   "execution_count": null,
   "metadata": {},
   "outputs": [],
   "source": [
    "{'status_code': 1, 'status_desc': 'SAMPLING'}"
   ]
  },
  {
   "cell_type": "markdown",
   "metadata": {},
   "source": [
    "For more information on possible device statuses see [`uqrng_direct.utils.SysStatus`](https://quantumcomputinginc.com/learn/reference-documentation/uqrng-direct/v1.0.0/uqrng-direct#uqrng_direct.utils.SysStatus).\n",
    "\n",
    "### Requesting System Information\n",
    "\n",
    "System information includes several useful fields about the uQRNG device including the current server version and the delay in minutes between schedule health tests. For full details see [`uqrng_direct.utils.SystemInfoDict`](https://quantumcomputinginc.com/learn/reference-documentation/uqrng-direct/v1.0.0/uqrng-direct#uqrng_direct.utils.SystemInfoDict)."
   ]
  },
  {
   "cell_type": "code",
   "execution_count": null,
   "metadata": {},
   "outputs": [],
   "source": [
    "qrng_client.SystemInfo()"
   ]
  },
  {
   "cell_type": "markdown",
   "metadata": {},
   "source": [
    "#### Output:"
   ]
  },
  {
   "cell_type": "code",
   "execution_count": null,
   "metadata": {},
   "outputs": [],
   "source": [
    "{'server_version': 'v1.0.0', 'device_type': 'uQRNG', 'test_interval_mins': 0}"
   ]
  },
  {
   "cell_type": "markdown",
   "metadata": {},
   "source": [
    "### Running Health Tests On-Demand\n",
    "\n",
    "The device also supports running NIST SP 800-22 STS version 2.1.2 which is a comprehensive suite developed by the National Institute of Standards and Technology (NIST) for testing the randomness of binary sequences. It is designed to evaluate the quality of random number generators (RNGs) and cryptographic sequences. For more information on the tests, see [here](https://csrc.nist.gov/projects/random-bit-generation/documentation-and-software). The device is configured to run all tests on 10 bitstreams of 1 million bits each. Each health test takes roughly 10 minutes to run. However, the device will be available during health testing because after samples are collected, the health tests will run in the background. There are two methods to initiate a health test: on demand and through the scheduling system. When a health test starts, it clears the results of the previous test to prevent users from retrieving outdated information. Below is example code to wait for an on-demand health test:"
   ]
  },
  {
   "cell_type": "code",
   "execution_count": null,
   "metadata": {},
   "outputs": [],
   "source": [
    "health_res = qrng_client.HealthTest(wait=True)"
   ]
  },
  {
   "cell_type": "markdown",
   "metadata": {},
   "source": [
    "### Scheduling Health Tests\n",
    "As seen in the above `uqrng_direct.client.SystemInfo()` response there is a field which tells what is the current number of minutes between each set of consecutive health tests. The default for this interval is 0 which indicates that health tests will not be run going forward. Users can configure the interval on which health tests will be run by doing the following:"
   ]
  },
  {
   "cell_type": "code",
   "execution_count": null,
   "metadata": {},
   "outputs": [],
   "source": [
    "sched_status = \n",
    "qrng_client.ScheduleHealthTest(test_interval_mins=120)\n",
    "print(qrng_client.SystemInfo())"
   ]
  },
  {
   "cell_type": "markdown",
   "metadata": {},
   "source": [
    "#### Output:"
   ]
  },
  {
   "cell_type": "code",
   "execution_count": null,
   "metadata": {},
   "outputs": [],
   "source": [
    "{'server_version': 'v1.0.0', 'device_type': 'uQRNG', 'test_interval_mins': 120}"
   ]
  },
  {
   "cell_type": "markdown",
   "metadata": {},
   "source": [
    "Whenever the system is shut down, the health testing schedule reverts to its default settings. By default, a single health test runs at startup with no additional tests scheduled. Any desired ongoing test scheduling must be reconfigured after your device is powered on.\n",
    "\n",
    "### Health Test Results\n",
    "\n",
    "Health test results can be retrieved using the [`uqrng_direct.client.UqrngClient.FetchHealthTest()`](https://quantumcomputinginc.com/learn/reference-documentation/uqrng-direct/v1.0.0/uqrng-direct#uqrng_direct.client.UqrngClient.FetchHealthTest) function or by employing the wait option for [`uqrng_direct.client.UqrngClient.HealthTest()`](https://quantumcomputinginc.com/learn/reference-documentation/uqrng-direct/v1.0.0/uqrng-direct#uqrng_direct.client.UqrngClient.HealthTest). The `uqrng_direct.client.Uqrngclient.FetchHealthTest()` function retrieves the most recent test result for the device."
   ]
  },
  {
   "cell_type": "code",
   "execution_count": null,
   "metadata": {},
   "outputs": [],
   "source": [
    "health_res = qrng_client.FetchHealthTest()\n",
    "print(\"Dict of Results:\\n\", health_res)\n",
    "print(\"Health result table:\\n\", health_res[\"summary_table\"])"
   ]
  },
  {
   "cell_type": "markdown",
   "metadata": {},
   "source": [
    "#### Output (truncated):"
   ]
  },
  {
   "cell_type": "code",
   "execution_count": null,
   "metadata": {},
   "outputs": [],
   "source": [
    "Dict of Results:\n",
    " {'all_pass': True,\n",
    " 'test_detail': {\n",
    "    'elapsed_time_mins': 29.21890640258789,\n",
    "    'test_name': [\n",
    "        'Frequency',\n",
    "        'BlockFrequency',\n",
    "        ... # truncated\n",
    "        , 'LinearComplexity'],\n",
    "    'p_value': [0.5341460108757019,\n",
    "        ... # truncated\n",
    "        0.12232500314712524],\n",
    "    'proportion_pass': [1.0,\n",
    "        ... # truncated\n",
    "        1.0],\n",
    "    'passed': [True,\n",
    "\n",
    "        True]},\n",
    "    'summary_table':\n",
    "        'STATISTICAL_TEST       | P-VALUE  | PROPORTION | PASS\n",
    "    ... # truncated\n",
    "        | True\\nLinearComplexity       | 0.122325 | 1.0        | True\\n'}\n",
    "\n",
    "Health result table:\n",
    " STATISTICAL_TEST       | P-VALUE  | PROPORTION | PASS\n",
    "-----------------------------------------------------\n",
    "Frequency              | 0.534146 | 1.0        | True\n",
    "BlockFrequency         | 0.350485 | 1.0        | True\n",
    "NonOverlappingTemplate | 0.0      | 1.0        | True\n",
    "... # truncated\n",
    "Serial                 | 0.350485 | 0.9        | True\n",
    "LinearComplexity       | 0.122325 | 1.0        | True"
   ]
  },
  {
   "cell_type": "markdown",
   "metadata": {},
   "source": [
    "A truncated example of health test output is shown above to see full description of the health test results object see `uqrng_direct.utils.ResultNIST`.\n",
    "\n",
    "#### Understanding Health Test Results\n",
    "\n",
    "In conducting randomness tests, it is not uncommon to observe occasional failures due to random chance. To mitigate this phenomenon, adjustments such as analyzing multiple tests and observing the distribution of p-values are often employed. If failures are repeatedly observed in the same test, this raises concerns about the underlying entropy. Additionally, the sample size used is crucial in determining the overall validity of a battery of tests. It is important to consider the number of tests being run and apply an appropriate multiple test correction to the resulting p-values. Since most entropy tests are statistical in nature, it is important to remember that even a true random number generator (tRNG) will occasionally fail a test when a sufficient number of tests are conducted, due to the inherent probabilities of false positives. For further guidance, QCi recommends reading Chapter 10 of the book *Beautiful Testing*, available as a [free PDF](https://www.johndcook.com/Beautiful_Testing_ch10.pdf). For further guidance on appropriate testing methodology and implementation for randomness testing, we also offer paid consulting services. Please contact our sales team by submitting the [Contact Form](https://quantumcomputinginc.com/contact) on our website with subject “QRNG CONSULTING”.\n",
    "\n",
    "## Troubleshooting and Support\n",
    "\n",
    "If you encounter any issues with your uQRNG device or this package contact our [customer support](https://quantumcomputinginc.ladesk.com/) for assistance."
   ]
  }
 ],
 "metadata": {
  "kernelspec": {
   "display_name": "Python 3 (ipykernel)",
   "language": "python",
   "name": "python3"
  },
  "language_info": {
   "codemirror_mode": {
    "name": "ipython",
    "version": 3
   },
   "file_extension": ".py",
   "mimetype": "text/x-python",
   "name": "python",
   "nbconvert_exporter": "python",
   "pygments_lexer": "ipython3",
   "version": "3.11.4"
  }
 },
 "nbformat": 4,
 "nbformat_minor": 4
}
